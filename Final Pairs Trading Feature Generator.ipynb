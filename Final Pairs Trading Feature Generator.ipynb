{
 "cells": [
  {
   "cell_type": "code",
   "execution_count": 111,
   "id": "f5f00b7c",
   "metadata": {},
   "outputs": [],
   "source": [
    "import pandas as pd\n",
    "import numpy as np\n",
    "\n",
    "etf_info_path = \"C:/Users/19712/Desktop/Berkeley MFE/Semester 4/IAQF/Final Pairs Eval/Pairs_Screen_Measures.csv\"\n",
    "df = pd.read_csv(etf_info_path)"
   ]
  },
  {
   "cell_type": "code",
   "execution_count": 112,
   "id": "d0ef5708",
   "metadata": {},
   "outputs": [
    {
     "name": "stdout",
     "output_type": "stream",
     "text": [
      "<class 'pandas.core.frame.DataFrame'>\n",
      "RangeIndex: 20503 entries, 0 to 20502\n",
      "Data columns (total 29 columns):\n",
      " #   Column                  Non-Null Count  Dtype  \n",
      "---  ------                  --------------  -----  \n",
      " 0   index 1                 20503 non-null  object \n",
      " 1   index 2                 20503 non-null  object \n",
      " 2   const                   20503 non-null  float64\n",
      " 3   beta                    20503 non-null  float64\n",
      " 4   trade_period            20503 non-null  int64  \n",
      " 5   n_zero_cross            20503 non-null  int64  \n",
      " 6   avg_distance            20503 non-null  float64\n",
      " 7   coint                   20503 non-null  int64  \n",
      " 8   coint_p_value           20503 non-null  float64\n",
      " 9   mrk_eff_coef_1          20503 non-null  float64\n",
      " 10  mrk_eff_coef_2          20503 non-null  float64\n",
      " 11  Price to Book 1         20503 non-null  float64\n",
      " 12  Price to Book 2         20503 non-null  float64\n",
      " 13  Price to Book Corr      20503 non-null  float64\n",
      " 14  Price to Earnings 1     20503 non-null  float64\n",
      " 15  Price to Earnings 2     20503 non-null  float64\n",
      " 16  Price to Earnings Corr  20503 non-null  float64\n",
      " 17  Div Yield 1             20503 non-null  float64\n",
      " 18  Div Yield 2             20503 non-null  float64\n",
      " 19  Div Yield Corr          20503 non-null  float64\n",
      " 20  Average Spread 1        7140 non-null   float64\n",
      " 21  Average Spread 2        7140 non-null   float64\n",
      " 22  AUM 1                   20503 non-null  float64\n",
      " 23  AUM 2                   20503 non-null  float64\n",
      " 24  AUM ratio               20503 non-null  float64\n",
      " 25  Dollar Volume 1         7021 non-null   float64\n",
      " 26  Dollar Volume 2         7021 non-null   float64\n",
      " 27  Dollar Volume ratio     7021 non-null   float64\n",
      " 28  percent_zero_cross      20503 non-null  float64\n",
      "dtypes: float64(24), int64(3), object(2)\n",
      "memory usage: 4.4+ MB\n"
     ]
    }
   ],
   "source": [
    "df.info()"
   ]
  },
  {
   "cell_type": "code",
   "execution_count": 113,
   "id": "f9cfd3b7",
   "metadata": {},
   "outputs": [
    {
     "data": {
      "text/plain": [
       "Index(['index 1', 'index 2', 'const', 'beta', 'trade_period', 'n_zero_cross',\n",
       "       'avg_distance', 'coint', 'coint_p_value', 'mrk_eff_coef_1',\n",
       "       'mrk_eff_coef_2', 'Price to Book 1', 'Price to Book 2',\n",
       "       'Price to Book Corr', 'Price to Earnings 1', 'Price to Earnings 2',\n",
       "       'Price to Earnings Corr', 'Div Yield 1', 'Div Yield 2',\n",
       "       'Div Yield Corr', 'Average Spread 1', 'Average Spread 2', 'AUM 1',\n",
       "       'AUM 2', 'AUM ratio', 'Dollar Volume 1', 'Dollar Volume 2',\n",
       "       'Dollar Volume ratio', 'percent_zero_cross'],\n",
       "      dtype='object')"
      ]
     },
     "execution_count": 113,
     "metadata": {},
     "output_type": "execute_result"
    }
   ],
   "source": [
    "df.columns"
   ]
  },
  {
   "cell_type": "code",
   "execution_count": 114,
   "id": "846cc16f",
   "metadata": {},
   "outputs": [],
   "source": [
    "##Limit the universe to cointegrated pairs\n",
    "df = df[df['coint'] == 1]\n",
    "\n",
    "#Create the crossover rate function and normalize via sqrt\n",
    "df['Crossover_Rate'] = df['n_zero_cross']/df['trade_period']\n",
    "\n",
    "#Create the valuation ratio and normalize via log\n",
    "df['Valuation Ratio'] = df['Price to Earnings 1']/df['Price to Earnings 2'] + df['Price to Book 1']/df['Price to Book 2'] + df['Div Yield 1']/df['Div Yield 2']\n",
    "df['Valuation Ratio'] = df['Valuation Ratio']/3\n",
    "df['Valuation Ratio'].clip(0, 100)\n",
    "\n",
    "#Create a valuation correlation\n",
    "df['Valuation Correlation'] = df[['Price to Book Corr', 'Price to Earnings Corr', 'Div Yield Corr']].mean(axis=1)\n",
    "\n",
    "#Create average spread information\n",
    "df['Average Spread'] = np.where(df['Average Spread 1'].isna() == True, df['Average Spread 2'], df['Average Spread 1'])\n",
    "\n"
   ]
  },
  {
   "cell_type": "code",
   "execution_count": 115,
   "id": "aa037e2a",
   "metadata": {
    "scrolled": false
   },
   "outputs": [
    {
     "data": {
      "image/png": "[encoded data removed]",
      "text/plain": [
       "<Figure size 432x288 with 1 Axes>"
      ]
     },
     "metadata": {
      "needs_background": "light"
     },
     "output_type": "display_data"
    },
    {
     "data": {
      "image/png": "[encoded data removed]",
      "text/plain": [
       "<Figure size 432x288 with 1 Axes>"
      ]
     },
     "metadata": {
      "needs_background": "light"
     },
     "output_type": "display_data"
    },
    {
     "data": {
      "image/png": "[encoded data removed]",
      "text/plain": [
       "<Figure size 432x288 with 1 Axes>"
      ]
     },
     "metadata": {
      "needs_background": "light"
     },
     "output_type": "display_data"
    },
    {
     "data": {
      "image/png": "[encoded data removed]",
      "text/plain": [
       "<Figure size 432x288 with 1 Axes>"
      ]
     },
     "metadata": {
      "needs_background": "light"
     },
     "output_type": "display_data"
    },
    {
     "data": {
      "image/png": "[encoded data removed]",
      "text/plain": [
       "<Figure size 432x288 with 1 Axes>"
      ]
     },
     "metadata": {
      "needs_background": "light"
     },
     "output_type": "display_data"
    },
    {
     "data": {
      "image/png": "[encoded data removed]",
      "text/plain": [
       "<Figure size 432x288 with 1 Axes>"
      ]
     },
     "metadata": {
      "needs_background": "light"
     },
     "output_type": "display_data"
    }
   ],
   "source": [
    "import matplotlib.pyplot as plt\n",
    "for col in ['Valuation Correlation', 'Valuation Ratio', 'coint_p_value', 'Crossover_Rate', 'Average Spread', 'avg_distance']:\n",
    "    plt.hist(df[col], bins = 50)\n",
    "    plt.title(col)\n",
    "    plt.show()"
   ]
  },
  {
   "cell_type": "code",
   "execution_count": 116,
   "id": "14e27a07",
   "metadata": {},
   "outputs": [
    {
     "name": "stderr",
     "output_type": "stream",
     "text": [
      "C:\\Users\\19712\\AppData\\Local\\Temp\\ipykernel_12436\\2611639083.py:2: SettingWithCopyWarning: \n",
      "A value is trying to be set on a copy of a slice from a DataFrame.\n",
      "Try using .loc[row_indexer,col_indexer] = value instead\n",
      "\n",
      "See the caveats in the documentation: https://pandas.pydata.org/pandas-docs/stable/user_guide/indexing.html#returning-a-view-versus-a-copy\n",
      "  score_df['Ticker_Pair'] = score_df['index 1'] + '_' + score_df['index 2']\n"
     ]
    },
    {
     "data": {
      "text/html": [
       "<div>\n",
       "<style scoped>\n",
       "    .dataframe tbody tr th:only-of-type {\n",
       "        vertical-align: middle;\n",
       "    }\n",
       "\n",
       "    .dataframe tbody tr th {\n",
       "        vertical-align: top;\n",
       "    }\n",
       "\n",
       "    .dataframe thead th {\n",
       "        text-align: right;\n",
       "    }\n",
       "</style>\n",
       "<table border=\"1\" class=\"dataframe\">\n",
       "  <thead>\n",
       "    <tr style=\"text-align: right;\">\n",
       "      <th></th>\n",
       "      <th>Valuation Correlation</th>\n",
       "      <th>Valuation Ratio</th>\n",
       "      <th>coint_p_value</th>\n",
       "      <th>Crossover_Rate</th>\n",
       "      <th>Average Spread</th>\n",
       "      <th>avg_distance</th>\n",
       "    </tr>\n",
       "    <tr>\n",
       "      <th>Ticker_Pair</th>\n",
       "      <th></th>\n",
       "      <th></th>\n",
       "      <th></th>\n",
       "      <th></th>\n",
       "      <th></th>\n",
       "      <th></th>\n",
       "    </tr>\n",
       "  </thead>\n",
       "  <tbody>\n",
       "    <tr>\n",
       "      <th>*XCS_*XMD</th>\n",
       "      <td>0.567233</td>\n",
       "      <td>0.902672</td>\n",
       "      <td>0.024524</td>\n",
       "      <td>0.017033</td>\n",
       "      <td>NaN</td>\n",
       "      <td>0.057277</td>\n",
       "    </tr>\n",
       "    <tr>\n",
       "      <th>*XCS_B0M631</th>\n",
       "      <td>0.439967</td>\n",
       "      <td>1.257843</td>\n",
       "      <td>0.033946</td>\n",
       "      <td>0.055640</td>\n",
       "      <td>NaN</td>\n",
       "      <td>0.090019</td>\n",
       "    </tr>\n",
       "    <tr>\n",
       "      <th>*XCS_EEM</th>\n",
       "      <td>0.419767</td>\n",
       "      <td>1.270881</td>\n",
       "      <td>0.036301</td>\n",
       "      <td>0.053369</td>\n",
       "      <td>NaN</td>\n",
       "      <td>0.089028</td>\n",
       "    </tr>\n",
       "    <tr>\n",
       "      <th>*XCS_EWM</th>\n",
       "      <td>0.439500</td>\n",
       "      <td>1.018570</td>\n",
       "      <td>0.043901</td>\n",
       "      <td>0.031037</td>\n",
       "      <td>NaN</td>\n",
       "      <td>0.118687</td>\n",
       "    </tr>\n",
       "    <tr>\n",
       "      <th>*XCS_EZA</th>\n",
       "      <td>0.498233</td>\n",
       "      <td>1.013308</td>\n",
       "      <td>0.024047</td>\n",
       "      <td>0.060182</td>\n",
       "      <td>NaN</td>\n",
       "      <td>0.095128</td>\n",
       "    </tr>\n",
       "  </tbody>\n",
       "</table>\n",
       "</div>"
      ],
      "text/plain": [
       "             Valuation Correlation  Valuation Ratio  coint_p_value  \\\n",
       "Ticker_Pair                                                          \n",
       "*XCS_*XMD                 0.567233         0.902672       0.024524   \n",
       "*XCS_B0M631               0.439967         1.257843       0.033946   \n",
       "*XCS_EEM                  0.419767         1.270881       0.036301   \n",
       "*XCS_EWM                  0.439500         1.018570       0.043901   \n",
       "*XCS_EZA                  0.498233         1.013308       0.024047   \n",
       "\n",
       "             Crossover_Rate  Average Spread  avg_distance  \n",
       "Ticker_Pair                                                \n",
       "*XCS_*XMD          0.017033             NaN      0.057277  \n",
       "*XCS_B0M631        0.055640             NaN      0.090019  \n",
       "*XCS_EEM           0.053369             NaN      0.089028  \n",
       "*XCS_EWM           0.031037             NaN      0.118687  \n",
       "*XCS_EZA           0.060182             NaN      0.095128  "
      ]
     },
     "execution_count": 116,
     "metadata": {},
     "output_type": "execute_result"
    }
   ],
   "source": [
    "score_df = df[['index 1', 'index 2','Valuation Correlation', 'Valuation Ratio', 'coint_p_value', 'Crossover_Rate', 'Average Spread', 'avg_distance']]\n",
    "score_df['Ticker_Pair'] = score_df['index 1'] + '_' + score_df['index 2']\n",
    "score_df = score_df.drop(['index 1', 'index 2'], axis=1)\n",
    "score_df = score_df.set_index(['Ticker_Pair'])\n",
    "score_df.head()"
   ]
  },
  {
   "cell_type": "code",
   "execution_count": 117,
   "id": "9910ed8e",
   "metadata": {},
   "outputs": [
    {
     "data": {
      "text/html": [
       "<div>\n",
       "<style scoped>\n",
       "    .dataframe tbody tr th:only-of-type {\n",
       "        vertical-align: middle;\n",
       "    }\n",
       "\n",
       "    .dataframe tbody tr th {\n",
       "        vertical-align: top;\n",
       "    }\n",
       "\n",
       "    .dataframe thead th {\n",
       "        text-align: right;\n",
       "    }\n",
       "</style>\n",
       "<table border=\"1\" class=\"dataframe\">\n",
       "  <thead>\n",
       "    <tr style=\"text-align: right;\">\n",
       "      <th></th>\n",
       "      <th>Valuation Correlation</th>\n",
       "      <th>Valuation Ratio</th>\n",
       "      <th>coint_p_value</th>\n",
       "      <th>Crossover_Rate</th>\n",
       "      <th>Average Spread</th>\n",
       "      <th>avg_distance</th>\n",
       "    </tr>\n",
       "    <tr>\n",
       "      <th>Ticker_Pair</th>\n",
       "      <th></th>\n",
       "      <th></th>\n",
       "      <th></th>\n",
       "      <th></th>\n",
       "      <th></th>\n",
       "      <th></th>\n",
       "    </tr>\n",
       "  </thead>\n",
       "  <tbody>\n",
       "    <tr>\n",
       "      <th>*XCS_*XMD</th>\n",
       "      <td>0.428051</td>\n",
       "      <td>-0.733623</td>\n",
       "      <td>0.432281</td>\n",
       "      <td>-1.905929</td>\n",
       "      <td>NaN</td>\n",
       "      <td>-0.678182</td>\n",
       "    </tr>\n",
       "    <tr>\n",
       "      <th>*XCS_B0M631</th>\n",
       "      <td>-0.090161</td>\n",
       "      <td>0.554288</td>\n",
       "      <td>0.766968</td>\n",
       "      <td>0.705372</td>\n",
       "      <td>NaN</td>\n",
       "      <td>0.256471</td>\n",
       "    </tr>\n",
       "    <tr>\n",
       "      <th>*XCS_EEM</th>\n",
       "      <td>-0.177302</td>\n",
       "      <td>0.587145</td>\n",
       "      <td>0.889302</td>\n",
       "      <td>0.609210</td>\n",
       "      <td>NaN</td>\n",
       "      <td>0.229653</td>\n",
       "    </tr>\n",
       "    <tr>\n",
       "      <th>*XCS_EWM</th>\n",
       "      <td>-0.092061</td>\n",
       "      <td>-0.231955</td>\n",
       "      <td>1.418309</td>\n",
       "      <td>-0.574991</td>\n",
       "      <td>NaN</td>\n",
       "      <td>0.931845</td>\n",
       "    </tr>\n",
       "    <tr>\n",
       "      <th>*XCS_EZA</th>\n",
       "      <td>0.152286</td>\n",
       "      <td>-0.254174</td>\n",
       "      <td>0.410500</td>\n",
       "      <td>0.873028</td>\n",
       "      <td>NaN</td>\n",
       "      <td>0.399171</td>\n",
       "    </tr>\n",
       "    <tr>\n",
       "      <th>...</th>\n",
       "      <td>...</td>\n",
       "      <td>...</td>\n",
       "      <td>...</td>\n",
       "      <td>...</td>\n",
       "      <td>...</td>\n",
       "      <td>...</td>\n",
       "    </tr>\n",
       "    <tr>\n",
       "      <th>INDY_MCHI</th>\n",
       "      <td>-0.317650</td>\n",
       "      <td>0.951957</td>\n",
       "      <td>0.308056</td>\n",
       "      <td>-1.575729</td>\n",
       "      <td>0.344404</td>\n",
       "      <td>-0.321916</td>\n",
       "    </tr>\n",
       "    <tr>\n",
       "      <th>INDY_B6R522</th>\n",
       "      <td>0.380595</td>\n",
       "      <td>0.048114</td>\n",
       "      <td>-0.000599</td>\n",
       "      <td>0.795981</td>\n",
       "      <td>NaN</td>\n",
       "      <td>-0.731670</td>\n",
       "    </tr>\n",
       "    <tr>\n",
       "      <th>INDY_B4L60Z</th>\n",
       "      <td>0.289985</td>\n",
       "      <td>-0.036585</td>\n",
       "      <td>-0.564137</td>\n",
       "      <td>1.461162</td>\n",
       "      <td>NaN</td>\n",
       "      <td>-1.000153</td>\n",
       "    </tr>\n",
       "    <tr>\n",
       "      <th>MCHI_B6R522</th>\n",
       "      <td>1.166566</td>\n",
       "      <td>-1.424081</td>\n",
       "      <td>0.095646</td>\n",
       "      <td>0.860955</td>\n",
       "      <td>NaN</td>\n",
       "      <td>-0.633955</td>\n",
       "    </tr>\n",
       "    <tr>\n",
       "      <th>MCHI_B4L60Z</th>\n",
       "      <td>1.021067</td>\n",
       "      <td>-1.490967</td>\n",
       "      <td>2.053174</td>\n",
       "      <td>0.725887</td>\n",
       "      <td>NaN</td>\n",
       "      <td>-0.601829</td>\n",
       "    </tr>\n",
       "  </tbody>\n",
       "</table>\n",
       "<p>5524 rows × 6 columns</p>\n",
       "</div>"
      ],
      "text/plain": [
       "             Valuation Correlation  Valuation Ratio  coint_p_value  \\\n",
       "Ticker_Pair                                                          \n",
       "*XCS_*XMD                 0.428051        -0.733623       0.432281   \n",
       "*XCS_B0M631              -0.090161         0.554288       0.766968   \n",
       "*XCS_EEM                 -0.177302         0.587145       0.889302   \n",
       "*XCS_EWM                 -0.092061        -0.231955       1.418309   \n",
       "*XCS_EZA                  0.152286        -0.254174       0.410500   \n",
       "...                            ...              ...            ...   \n",
       "INDY_MCHI                -0.317650         0.951957       0.308056   \n",
       "INDY_B6R522               0.380595         0.048114      -0.000599   \n",
       "INDY_B4L60Z               0.289985        -0.036585      -0.564137   \n",
       "MCHI_B6R522               1.166566        -1.424081       0.095646   \n",
       "MCHI_B4L60Z               1.021067        -1.490967       2.053174   \n",
       "\n",
       "             Crossover_Rate  Average Spread  avg_distance  \n",
       "Ticker_Pair                                                \n",
       "*XCS_*XMD         -1.905929             NaN     -0.678182  \n",
       "*XCS_B0M631        0.705372             NaN      0.256471  \n",
       "*XCS_EEM           0.609210             NaN      0.229653  \n",
       "*XCS_EWM          -0.574991             NaN      0.931845  \n",
       "*XCS_EZA           0.873028             NaN      0.399171  \n",
       "...                     ...             ...           ...  \n",
       "INDY_MCHI         -1.575729        0.344404     -0.321916  \n",
       "INDY_B6R522        0.795981             NaN     -0.731670  \n",
       "INDY_B4L60Z        1.461162             NaN     -1.000153  \n",
       "MCHI_B6R522        0.860955             NaN     -0.633955  \n",
       "MCHI_B4L60Z        0.725887             NaN     -0.601829  \n",
       "\n",
       "[5524 rows x 6 columns]"
      ]
     },
     "execution_count": 117,
     "metadata": {},
     "output_type": "execute_result"
    }
   ],
   "source": [
    "from sklearn.preprocessing import RobustScaler\n",
    "from sklearn.preprocessing import quantile_transform\n",
    "scaler = RobustScaler(with_centering=True, with_scaling=True, quantile_range=(2.0, 98.0), copy=True, unit_variance=True)\n",
    "\n",
    "\n",
    "score_array = quantile_transform(score_df.values, n_quantiles=100, output_distribution='normal', random_state=0, copy=True)\n",
    "score_df = pd.DataFrame(scaler.fit_transform(score_array), columns = score_df.columns, index =score_df.index)\n",
    "\n",
    "#score_df.head()\n",
    "score_df"
   ]
  },
  {
   "cell_type": "code",
   "execution_count": 118,
   "id": "b95d91da",
   "metadata": {},
   "outputs": [
    {
     "data": {
      "image/png": "[encoded data removed]",
      "text/plain": [
       "<Figure size 432x288 with 1 Axes>"
      ]
     },
     "metadata": {
      "needs_background": "light"
     },
     "output_type": "display_data"
    },
    {
     "data": {
      "image/png": "[encoded data removed]",
      "text/plain": [
       "<Figure size 432x288 with 1 Axes>"
      ]
     },
     "metadata": {
      "needs_background": "light"
     },
     "output_type": "display_data"
    },
    {
     "data": {
      "image/png": "[encoded data removed]",
      "text/plain": [
       "<Figure size 432x288 with 1 Axes>"
      ]
     },
     "metadata": {
      "needs_background": "light"
     },
     "output_type": "display_data"
    },
    {
     "data": {
      "image/png": "[encoded data removed]",
      "text/plain": [
       "<Figure size 432x288 with 1 Axes>"
      ]
     },
     "metadata": {
      "needs_background": "light"
     },
     "output_type": "display_data"
    },
    {
     "data": {
      "image/png": "[encoded data removed]",
      "text/plain": [
       "<Figure size 432x288 with 1 Axes>"
      ]
     },
     "metadata": {
      "needs_background": "light"
     },
     "output_type": "display_data"
    },
    {
     "data": {
      "image/png": "[encoded data removed]",
      "text/plain": [
       "<Figure size 432x288 with 1 Axes>"
      ]
     },
     "metadata": {
      "needs_background": "light"
     },
     "output_type": "display_data"
    }
   ],
   "source": [
    "for col in score_df.columns:\n",
    "    plt.hist(score_df[col], bins = 50)\n",
    "    plt.title(col)\n",
    "    plt.show()"
   ]
  },
  {
   "cell_type": "code",
   "execution_count": 119,
   "id": "2b8d9ca7",
   "metadata": {},
   "outputs": [
    {
     "name": "stderr",
     "output_type": "stream",
     "text": [
      "C:\\Users\\19712\\AppData\\Local\\Temp\\ipykernel_12436\\187203764.py:3: SettingWithCopyWarning: \n",
      "A value is trying to be set on a copy of a slice from a DataFrame.\n",
      "Try using .loc[row_indexer,col_indexer] = value instead\n",
      "\n",
      "See the caveats in the documentation: https://pandas.pydata.org/pandas-docs/stable/user_guide/indexing.html#returning-a-view-versus-a-copy\n",
      "  score_df['Final_Value'] = score_df[['Valuation Correlation', 'Valuation Ratio']].mean(axis=1)\n"
     ]
    }
   ],
   "source": [
    "#Combine the values\n",
    "score_df = score_df.dropna()\n",
    "score_df['Final_Value'] = score_df[['Valuation Correlation', 'Valuation Ratio']].mean(axis=1)\n",
    "score_df = score_df.drop(['Valuation Correlation', 'Valuation Ratio'], axis=1)\n",
    "score_df['Final_Value'] = score_df.mean(axis=1)"
   ]
  },
  {
   "cell_type": "code",
   "execution_count": 120,
   "id": "a1ae9b74",
   "metadata": {},
   "outputs": [],
   "source": [
    "score_df = score_df.sort_values(['Final_Value'], ascending = False)\n",
    "selected_pairs = pd.DataFrame(score_df.iloc[0:20].index.to_list(), columns = ['Ticker Pair'])"
   ]
  },
  {
   "cell_type": "markdown",
   "id": "25ac5cf1",
   "metadata": {},
   "source": [
    "#### Building the Initial Pairs DataFrame\n"
   ]
  },
  {
   "cell_type": "code",
   "execution_count": 121,
   "id": "0a26625d",
   "metadata": {},
   "outputs": [],
   "source": [
    "features = pd.read_csv(\"C:/Users/19712/Desktop/Berkeley MFE/Semester 4/IAQF/ETF_Screen_Information_2023_02_09.csv\")\n"
   ]
  },
  {
   "cell_type": "code",
   "execution_count": 122,
   "id": "7d37c661",
   "metadata": {},
   "outputs": [],
   "source": [
    "search_tickers = []\n",
    "for pair in selected_pairs['Ticker Pair'].to_list():\n",
    "    pair_split = pair.split('_')\n",
    "    search_tickers.append(pair_split[0])\n",
    "    search_tickers.append(pair_split[1])\n",
    "    \n",
    "search_tickers = list(set(search_tickers))\n",
    "\n",
    "#First, produce a dataframe of all the\n",
    "price_df = features[['Date', 'ETF_Ticker', 'ETF Price']]\n",
    "price_df = price_df.set_index(['ETF_Ticker'])\n",
    "price_df = price_df.loc[search_tickers]\n",
    "price_df.to_csv('C:/Users/19712/Desktop/Berkeley MFE/Semester 4/IAQF/price_df.csv')"
   ]
  },
  {
   "cell_type": "code",
   "execution_count": 123,
   "id": "5c9b76c3",
   "metadata": {},
   "outputs": [],
   "source": [
    "#Build specific features for the pairs\n",
    "\n",
    "def feature_generator_ratio(ticker1, ticker2, features):\n",
    "    iter_df = features.set_index(['ETF_Ticker'])\n",
    "    iter_df = iter_df.loc[[ticker1, ticker2]]\n",
    "    iter_df = iter_df[['Date', 'Div Yield', 'Price to Book', 'Price to Earnings']]\n",
    "    iter_df = iter_df.sort_values('Date')\n",
    "    \n",
    "    #Divide the dfs\n",
    "    iter_1  = iter_df.loc[ticker1].reset_index().set_index(['Date']).drop(['ETF_Ticker'],axis=1)\n",
    "    iter_2 = iter_df.loc[ticker2].reset_index().set_index(['Date']).drop(['ETF_Ticker'],axis=1)\n",
    "    iter_df = iter_1.divide(iter_2)\n",
    "    \n",
    "    return iter_df\n",
    "\n",
    "def period_returns(ticker1, ticker2, features):\n",
    "    iter_df = features.set_index(['ETF_Ticker'])\n",
    "    iter_df = iter_df.loc[[ticker1, ticker2]]\n",
    "    iter_df = iter_df[['Date', 'Total Return']]\n",
    "    iter_df = iter_df.sort_values('Date')\n",
    "    \n",
    "    iter_1_ret = iter_df.loc[ticker1].reset_index().set_index(['Date']).drop(['ETF_Ticker'],axis=1)\n",
    "    iter_2_ret = iter_df.loc[ticker2].reset_index().set_index(['Date']).drop(['ETF_Ticker'],axis=1)\n",
    "    \n",
    "    #Calculate daily trailing returns\n",
    "    iter_1_ret['Total_Ret_Pct_1'] = iter_1_ret['Total Return'].pct_change(periods=1)\n",
    "    iter_2_ret['Total_Ret_Pct_1'] = iter_2_ret['Total Return'].pct_change(periods=1)\n",
    "    iter_1_ret['Total_Ret_Pct_5'] = iter_1_ret['Total Return'].pct_change(periods=5)\n",
    "    iter_2_ret['Total_Ret_Pct_5'] = iter_2_ret['Total Return'].pct_change(periods=5)\n",
    "    iter_1_ret['Total_Ret_Pct_21'] = iter_1_ret['Total Return'].pct_change(periods=21)\n",
    "    iter_2_ret['Total_Ret_Pct_21'] = iter_2_ret['Total Return'].pct_change(periods=21)\n",
    "    iter_1_ret['Total_Ret_Pct_63'] = iter_1_ret['Total Return'].pct_change(periods=63)\n",
    "    iter_2_ret['Total_Ret_Pct_63'] = iter_2_ret['Total Return'].pct_change(periods=63)\n",
    "    iter_1_ret['Total_Ret_Pct_252'] = iter_1_ret['Total Return'].pct_change(periods=252)\n",
    "    iter_2_ret['Total_Ret_Pct_252'] = iter_2_ret['Total Return'].pct_change(periods=252)\n",
    "    \n",
    "    #Calculate fwd daily trailing returns\n",
    "    iter_1_ret['Y_Fwd_Total_Ret_Pct_1'] = iter_1_ret['Total Return'].pct_change(periods=-1)\n",
    "    iter_2_ret['Y_Fwd_Total_Ret_Pct_1'] = iter_2_ret['Total Return'].pct_change(periods=-1)\n",
    "    iter_1_ret['Y_Fwd_Total_Ret_Pct_5'] = iter_1_ret['Total Return'].pct_change(periods=-5)\n",
    "    iter_2_ret['Y_Fwd_Total_Ret_Pct_5'] = iter_2_ret['Total Return'].pct_change(periods=-5)\n",
    "    \n",
    "    iter_df = iter_1_ret.subtract(iter_2_ret).round(4).drop(['Total Return'], axis=1)\n",
    "    \n",
    "    return iter_df\n",
    "\n",
    "def build_feature_df(ticker_list, features):\n",
    "    container_df = pd.DataFrame()\n",
    "    \n",
    "    for ticker_pair in ticker_list:\n",
    "        ticker_split = ticker_pair.split('_')\n",
    "        val_df = feature_generator_ratio(ticker_split[0], ticker_split[1], features)\n",
    "        ret_df = period_returns(ticker_split[0], ticker_split[1], features)\n",
    "        feature_df = val_df.join(ret_df).reset_index()\n",
    "        feature_df['Ticker_Pair'] = ticker_split[0] +'_'+ticker_split[1]\n",
    "        container_df = pd.concat([container_df, feature_df])\n",
    "        \n",
    "    return container_df\n",
    "\n",
    "final_training_df = build_feature_df(selected_pairs['Ticker Pair'].to_list(), features)"
   ]
  },
  {
   "cell_type": "code",
   "execution_count": 124,
   "id": "ed38d4c4",
   "metadata": {},
   "outputs": [
    {
     "data": {
      "text/html": [
       "<div>\n",
       "<style scoped>\n",
       "    .dataframe tbody tr th:only-of-type {\n",
       "        vertical-align: middle;\n",
       "    }\n",
       "\n",
       "    .dataframe tbody tr th {\n",
       "        vertical-align: top;\n",
       "    }\n",
       "\n",
       "    .dataframe thead th {\n",
       "        text-align: right;\n",
       "    }\n",
       "</style>\n",
       "<table border=\"1\" class=\"dataframe\">\n",
       "  <thead>\n",
       "    <tr style=\"text-align: right;\">\n",
       "      <th></th>\n",
       "      <th>Div Yield</th>\n",
       "      <th>Price to Book</th>\n",
       "      <th>Price to Earnings</th>\n",
       "      <th>Total_Ret_Pct_1</th>\n",
       "      <th>Total_Ret_Pct_5</th>\n",
       "      <th>Total_Ret_Pct_21</th>\n",
       "      <th>Total_Ret_Pct_63</th>\n",
       "      <th>Total_Ret_Pct_252</th>\n",
       "      <th>Y_Fwd_Total_Ret_Pct_1</th>\n",
       "      <th>Y_Fwd_Total_Ret_Pct_5</th>\n",
       "    </tr>\n",
       "  </thead>\n",
       "  <tbody>\n",
       "    <tr>\n",
       "      <th>count</th>\n",
       "      <td>74739.000000</td>\n",
       "      <td>74739.000000</td>\n",
       "      <td>74739.000000</td>\n",
       "      <td>74719.000000</td>\n",
       "      <td>74639.000000</td>\n",
       "      <td>74319.000000</td>\n",
       "      <td>73479.000000</td>\n",
       "      <td>69699.000000</td>\n",
       "      <td>74719.000000</td>\n",
       "      <td>74639.000000</td>\n",
       "    </tr>\n",
       "    <tr>\n",
       "      <th>mean</th>\n",
       "      <td>1.182950</td>\n",
       "      <td>2.097368</td>\n",
       "      <td>3.162288</td>\n",
       "      <td>0.000165</td>\n",
       "      <td>0.000699</td>\n",
       "      <td>0.002742</td>\n",
       "      <td>0.008500</td>\n",
       "      <td>0.032640</td>\n",
       "      <td>-0.000104</td>\n",
       "      <td>-0.000620</td>\n",
       "    </tr>\n",
       "    <tr>\n",
       "      <th>std</th>\n",
       "      <td>2.364355</td>\n",
       "      <td>1.081277</td>\n",
       "      <td>50.709582</td>\n",
       "      <td>0.014172</td>\n",
       "      <td>0.025673</td>\n",
       "      <td>0.048054</td>\n",
       "      <td>0.081134</td>\n",
       "      <td>0.162372</td>\n",
       "      <td>0.014208</td>\n",
       "      <td>0.026133</td>\n",
       "    </tr>\n",
       "    <tr>\n",
       "      <th>min</th>\n",
       "      <td>0.135484</td>\n",
       "      <td>0.291372</td>\n",
       "      <td>-91.219132</td>\n",
       "      <td>-0.293200</td>\n",
       "      <td>-0.299700</td>\n",
       "      <td>-0.319300</td>\n",
       "      <td>-0.474200</td>\n",
       "      <td>-0.746800</td>\n",
       "      <td>-0.306100</td>\n",
       "      <td>-0.298000</td>\n",
       "    </tr>\n",
       "    <tr>\n",
       "      <th>25%</th>\n",
       "      <td>0.507248</td>\n",
       "      <td>1.352127</td>\n",
       "      <td>0.856736</td>\n",
       "      <td>-0.006300</td>\n",
       "      <td>-0.012300</td>\n",
       "      <td>-0.023200</td>\n",
       "      <td>-0.037900</td>\n",
       "      <td>-0.062400</td>\n",
       "      <td>-0.006500</td>\n",
       "      <td>-0.013700</td>\n",
       "    </tr>\n",
       "    <tr>\n",
       "      <th>50%</th>\n",
       "      <td>0.651010</td>\n",
       "      <td>1.956663</td>\n",
       "      <td>1.163495</td>\n",
       "      <td>0.000200</td>\n",
       "      <td>0.000800</td>\n",
       "      <td>0.003000</td>\n",
       "      <td>0.009300</td>\n",
       "      <td>0.039700</td>\n",
       "      <td>-0.000200</td>\n",
       "      <td>-0.000800</td>\n",
       "    </tr>\n",
       "    <tr>\n",
       "      <th>75%</th>\n",
       "      <td>1.014639</td>\n",
       "      <td>2.665324</td>\n",
       "      <td>1.554612</td>\n",
       "      <td>0.006500</td>\n",
       "      <td>0.013700</td>\n",
       "      <td>0.029000</td>\n",
       "      <td>0.055200</td>\n",
       "      <td>0.128400</td>\n",
       "      <td>0.006300</td>\n",
       "      <td>0.012300</td>\n",
       "    </tr>\n",
       "    <tr>\n",
       "      <th>max</th>\n",
       "      <td>34.308978</td>\n",
       "      <td>7.437894</td>\n",
       "      <td>1830.628960</td>\n",
       "      <td>0.443300</td>\n",
       "      <td>0.394300</td>\n",
       "      <td>0.364700</td>\n",
       "      <td>0.538000</td>\n",
       "      <td>1.284400</td>\n",
       "      <td>0.419200</td>\n",
       "      <td>0.410000</td>\n",
       "    </tr>\n",
       "  </tbody>\n",
       "</table>\n",
       "</div>"
      ],
      "text/plain": [
       "          Div Yield  Price to Book  Price to Earnings  Total_Ret_Pct_1  \\\n",
       "count  74739.000000   74739.000000       74739.000000     74719.000000   \n",
       "mean       1.182950       2.097368           3.162288         0.000165   \n",
       "std        2.364355       1.081277          50.709582         0.014172   \n",
       "min        0.135484       0.291372         -91.219132        -0.293200   \n",
       "25%        0.507248       1.352127           0.856736        -0.006300   \n",
       "50%        0.651010       1.956663           1.163495         0.000200   \n",
       "75%        1.014639       2.665324           1.554612         0.006500   \n",
       "max       34.308978       7.437894        1830.628960         0.443300   \n",
       "\n",
       "       Total_Ret_Pct_5  Total_Ret_Pct_21  Total_Ret_Pct_63  Total_Ret_Pct_252  \\\n",
       "count     74639.000000      74319.000000      73479.000000       69699.000000   \n",
       "mean          0.000699          0.002742          0.008500           0.032640   \n",
       "std           0.025673          0.048054          0.081134           0.162372   \n",
       "min          -0.299700         -0.319300         -0.474200          -0.746800   \n",
       "25%          -0.012300         -0.023200         -0.037900          -0.062400   \n",
       "50%           0.000800          0.003000          0.009300           0.039700   \n",
       "75%           0.013700          0.029000          0.055200           0.128400   \n",
       "max           0.394300          0.364700          0.538000           1.284400   \n",
       "\n",
       "       Y_Fwd_Total_Ret_Pct_1  Y_Fwd_Total_Ret_Pct_5  \n",
       "count           74719.000000           74639.000000  \n",
       "mean               -0.000104              -0.000620  \n",
       "std                 0.014208               0.026133  \n",
       "min                -0.306100              -0.298000  \n",
       "25%                -0.006500              -0.013700  \n",
       "50%                -0.000200              -0.000800  \n",
       "75%                 0.006300               0.012300  \n",
       "max                 0.419200               0.410000  "
      ]
     },
     "execution_count": 124,
     "metadata": {},
     "output_type": "execute_result"
    }
   ],
   "source": [
    "final_training_df.describe()"
   ]
  },
  {
   "cell_type": "code",
   "execution_count": 125,
   "id": "d3c951be",
   "metadata": {},
   "outputs": [],
   "source": [
    "final_training_df.to_csv('C:/Users/19712/Desktop/Berkeley MFE/Semester 4/IAQF/Example_Training_df.csv')"
   ]
  },
  {
   "cell_type": "code",
   "execution_count": 126,
   "id": "5c7316fb",
   "metadata": {},
   "outputs": [
    {
     "data": {
      "text/html": [
       "<div>\n",
       "<style scoped>\n",
       "    .dataframe tbody tr th:only-of-type {\n",
       "        vertical-align: middle;\n",
       "    }\n",
       "\n",
       "    .dataframe tbody tr th {\n",
       "        vertical-align: top;\n",
       "    }\n",
       "\n",
       "    .dataframe thead th {\n",
       "        text-align: right;\n",
       "    }\n",
       "</style>\n",
       "<table border=\"1\" class=\"dataframe\">\n",
       "  <thead>\n",
       "    <tr style=\"text-align: right;\">\n",
       "      <th></th>\n",
       "      <th>Div Yield</th>\n",
       "      <th>Price to Book</th>\n",
       "      <th>Price to Earnings</th>\n",
       "      <th>Total_Ret_Pct_1</th>\n",
       "      <th>Total_Ret_Pct_5</th>\n",
       "      <th>Total_Ret_Pct_21</th>\n",
       "      <th>Total_Ret_Pct_63</th>\n",
       "      <th>Total_Ret_Pct_252</th>\n",
       "      <th>Y_Fwd_Total_Ret_Pct_1</th>\n",
       "      <th>Y_Fwd_Total_Ret_Pct_5</th>\n",
       "    </tr>\n",
       "  </thead>\n",
       "  <tbody>\n",
       "    <tr>\n",
       "      <th>Div Yield</th>\n",
       "      <td>1.000000</td>\n",
       "      <td>-0.276853</td>\n",
       "      <td>-0.012299</td>\n",
       "      <td>-0.009163</td>\n",
       "      <td>-0.019005</td>\n",
       "      <td>-0.035952</td>\n",
       "      <td>-0.048478</td>\n",
       "      <td>-0.091686</td>\n",
       "      <td>-0.000103</td>\n",
       "      <td>0.005299</td>\n",
       "    </tr>\n",
       "    <tr>\n",
       "      <th>Price to Book</th>\n",
       "      <td>-0.276853</td>\n",
       "      <td>1.000000</td>\n",
       "      <td>0.007978</td>\n",
       "      <td>0.024954</td>\n",
       "      <td>0.054130</td>\n",
       "      <td>0.110131</td>\n",
       "      <td>0.183109</td>\n",
       "      <td>0.337728</td>\n",
       "      <td>-0.001543</td>\n",
       "      <td>-0.017197</td>\n",
       "    </tr>\n",
       "    <tr>\n",
       "      <th>Price to Earnings</th>\n",
       "      <td>-0.012299</td>\n",
       "      <td>0.007978</td>\n",
       "      <td>1.000000</td>\n",
       "      <td>0.006170</td>\n",
       "      <td>0.018727</td>\n",
       "      <td>-0.005490</td>\n",
       "      <td>-0.018801</td>\n",
       "      <td>-0.029264</td>\n",
       "      <td>-0.003597</td>\n",
       "      <td>-0.007218</td>\n",
       "    </tr>\n",
       "    <tr>\n",
       "      <th>Total_Ret_Pct_1</th>\n",
       "      <td>-0.009163</td>\n",
       "      <td>0.024954</td>\n",
       "      <td>0.006170</td>\n",
       "      <td>1.000000</td>\n",
       "      <td>0.420674</td>\n",
       "      <td>0.225312</td>\n",
       "      <td>0.119811</td>\n",
       "      <td>0.053996</td>\n",
       "      <td>0.192420</td>\n",
       "      <td>0.125112</td>\n",
       "    </tr>\n",
       "    <tr>\n",
       "      <th>Total_Ret_Pct_5</th>\n",
       "      <td>-0.019005</td>\n",
       "      <td>0.054130</td>\n",
       "      <td>0.018727</td>\n",
       "      <td>0.420674</td>\n",
       "      <td>1.000000</td>\n",
       "      <td>0.475441</td>\n",
       "      <td>0.259019</td>\n",
       "      <td>0.113418</td>\n",
       "      <td>0.124172</td>\n",
       "      <td>0.102370</td>\n",
       "    </tr>\n",
       "    <tr>\n",
       "      <th>Total_Ret_Pct_21</th>\n",
       "      <td>-0.035952</td>\n",
       "      <td>0.110131</td>\n",
       "      <td>-0.005490</td>\n",
       "      <td>0.225312</td>\n",
       "      <td>0.475441</td>\n",
       "      <td>1.000000</td>\n",
       "      <td>0.540580</td>\n",
       "      <td>0.225828</td>\n",
       "      <td>0.060830</td>\n",
       "      <td>0.041577</td>\n",
       "    </tr>\n",
       "    <tr>\n",
       "      <th>Total_Ret_Pct_63</th>\n",
       "      <td>-0.048478</td>\n",
       "      <td>0.183109</td>\n",
       "      <td>-0.018801</td>\n",
       "      <td>0.119811</td>\n",
       "      <td>0.259019</td>\n",
       "      <td>0.540580</td>\n",
       "      <td>1.000000</td>\n",
       "      <td>0.394535</td>\n",
       "      <td>0.035155</td>\n",
       "      <td>0.020758</td>\n",
       "    </tr>\n",
       "    <tr>\n",
       "      <th>Total_Ret_Pct_252</th>\n",
       "      <td>-0.091686</td>\n",
       "      <td>0.337728</td>\n",
       "      <td>-0.029264</td>\n",
       "      <td>0.053996</td>\n",
       "      <td>0.113418</td>\n",
       "      <td>0.225828</td>\n",
       "      <td>0.394535</td>\n",
       "      <td>1.000000</td>\n",
       "      <td>0.022386</td>\n",
       "      <td>0.025478</td>\n",
       "    </tr>\n",
       "    <tr>\n",
       "      <th>Y_Fwd_Total_Ret_Pct_1</th>\n",
       "      <td>-0.000103</td>\n",
       "      <td>-0.001543</td>\n",
       "      <td>-0.003597</td>\n",
       "      <td>0.192420</td>\n",
       "      <td>0.124172</td>\n",
       "      <td>0.060830</td>\n",
       "      <td>0.035155</td>\n",
       "      <td>0.022386</td>\n",
       "      <td>1.000000</td>\n",
       "      <td>0.424280</td>\n",
       "    </tr>\n",
       "    <tr>\n",
       "      <th>Y_Fwd_Total_Ret_Pct_5</th>\n",
       "      <td>0.005299</td>\n",
       "      <td>-0.017197</td>\n",
       "      <td>-0.007218</td>\n",
       "      <td>0.125112</td>\n",
       "      <td>0.102370</td>\n",
       "      <td>0.041577</td>\n",
       "      <td>0.020758</td>\n",
       "      <td>0.025478</td>\n",
       "      <td>0.424280</td>\n",
       "      <td>1.000000</td>\n",
       "    </tr>\n",
       "  </tbody>\n",
       "</table>\n",
       "</div>"
      ],
      "text/plain": [
       "                       Div Yield  Price to Book  Price to Earnings  \\\n",
       "Div Yield               1.000000      -0.276853          -0.012299   \n",
       "Price to Book          -0.276853       1.000000           0.007978   \n",
       "Price to Earnings      -0.012299       0.007978           1.000000   \n",
       "Total_Ret_Pct_1        -0.009163       0.024954           0.006170   \n",
       "Total_Ret_Pct_5        -0.019005       0.054130           0.018727   \n",
       "Total_Ret_Pct_21       -0.035952       0.110131          -0.005490   \n",
       "Total_Ret_Pct_63       -0.048478       0.183109          -0.018801   \n",
       "Total_Ret_Pct_252      -0.091686       0.337728          -0.029264   \n",
       "Y_Fwd_Total_Ret_Pct_1  -0.000103      -0.001543          -0.003597   \n",
       "Y_Fwd_Total_Ret_Pct_5   0.005299      -0.017197          -0.007218   \n",
       "\n",
       "                       Total_Ret_Pct_1  Total_Ret_Pct_5  Total_Ret_Pct_21  \\\n",
       "Div Yield                    -0.009163        -0.019005         -0.035952   \n",
       "Price to Book                 0.024954         0.054130          0.110131   \n",
       "Price to Earnings             0.006170         0.018727         -0.005490   \n",
       "Total_Ret_Pct_1               1.000000         0.420674          0.225312   \n",
       "Total_Ret_Pct_5               0.420674         1.000000          0.475441   \n",
       "Total_Ret_Pct_21              0.225312         0.475441          1.000000   \n",
       "Total_Ret_Pct_63              0.119811         0.259019          0.540580   \n",
       "Total_Ret_Pct_252             0.053996         0.113418          0.225828   \n",
       "Y_Fwd_Total_Ret_Pct_1         0.192420         0.124172          0.060830   \n",
       "Y_Fwd_Total_Ret_Pct_5         0.125112         0.102370          0.041577   \n",
       "\n",
       "                       Total_Ret_Pct_63  Total_Ret_Pct_252  \\\n",
       "Div Yield                     -0.048478          -0.091686   \n",
       "Price to Book                  0.183109           0.337728   \n",
       "Price to Earnings             -0.018801          -0.029264   \n",
       "Total_Ret_Pct_1                0.119811           0.053996   \n",
       "Total_Ret_Pct_5                0.259019           0.113418   \n",
       "Total_Ret_Pct_21               0.540580           0.225828   \n",
       "Total_Ret_Pct_63               1.000000           0.394535   \n",
       "Total_Ret_Pct_252              0.394535           1.000000   \n",
       "Y_Fwd_Total_Ret_Pct_1          0.035155           0.022386   \n",
       "Y_Fwd_Total_Ret_Pct_5          0.020758           0.025478   \n",
       "\n",
       "                       Y_Fwd_Total_Ret_Pct_1  Y_Fwd_Total_Ret_Pct_5  \n",
       "Div Yield                          -0.000103               0.005299  \n",
       "Price to Book                      -0.001543              -0.017197  \n",
       "Price to Earnings                  -0.003597              -0.007218  \n",
       "Total_Ret_Pct_1                     0.192420               0.125112  \n",
       "Total_Ret_Pct_5                     0.124172               0.102370  \n",
       "Total_Ret_Pct_21                    0.060830               0.041577  \n",
       "Total_Ret_Pct_63                    0.035155               0.020758  \n",
       "Total_Ret_Pct_252                   0.022386               0.025478  \n",
       "Y_Fwd_Total_Ret_Pct_1               1.000000               0.424280  \n",
       "Y_Fwd_Total_Ret_Pct_5               0.424280               1.000000  "
      ]
     },
     "execution_count": 126,
     "metadata": {},
     "output_type": "execute_result"
    }
   ],
   "source": [
    "final_training_df.corr()"
   ]
  },
  {
   "cell_type": "code",
   "execution_count": 130,
   "id": "daa16100",
   "metadata": {},
   "outputs": [
    {
     "data": {
      "text/plain": [
       "IMCB_ACWX    4303\n",
       "SUSA_WPS     4303\n",
       "EWD_ISCV     4303\n",
       "ILCG_ACWX    4303\n",
       "IUSV_WPS     4303\n",
       "EWZ_ACWI     4303\n",
       "EZA_IHF      4303\n",
       "EWT_ILCV     4303\n",
       "IUSG_WOOD    4303\n",
       "IHE_ACWX     4201\n",
       "IHE_WPS      4201\n",
       "IHE_SCZ      4201\n",
       "IHE_WOOD     4201\n",
       "IHE_EWW      4201\n",
       "EXI_WPS      4115\n",
       "EXI_ACWX     4115\n",
       "DSI_WPS      4073\n",
       "REZ_WPS      3950\n",
       "TOK_WOOD     3781\n",
       "EIS_INDY     3741\n",
       "Name: Ticker_Pair, dtype: int64"
      ]
     },
     "execution_count": 130,
     "metadata": {},
     "output_type": "execute_result"
    }
   ],
   "source": [
    "final_training_df['Ticker_Pair'].value_counts()"
   ]
  }
 ],
 "metadata": {
  "kernelspec": {
   "display_name": "Python 3 (ipykernel)",
   "language": "python",
   "name": "python3"
  },
  "language_info": {
   "codemirror_mode": {
    "name": "ipython",
    "version": 3
   },
   "file_extension": ".py",
   "mimetype": "text/x-python",
   "name": "python",
   "nbconvert_exporter": "python",
   "pygments_lexer": "ipython3",
   "version": "3.8.3"
  }
 },
 "nbformat": 4,
 "nbformat_minor": 5
}
