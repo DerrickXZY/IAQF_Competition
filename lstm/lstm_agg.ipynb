{
 "cells": [
  {
   "cell_type": "code",
   "execution_count": 2,
   "metadata": {},
   "outputs": [],
   "source": [
    "import math\n",
    "# import yfinance as yf\n",
    "import numpy as np\n",
    "import pandas as pd\n",
    "from sklearn.preprocessing import MinMaxScaler, StandardScaler\n",
    "import matplotlib.pyplot as plt\n",
    "import tensorflow as tf\n",
    "from tensorflow import keras\n",
    "from tensorflow.keras import layers\n",
    "import os\n",
    "plt.style.use(\"seaborn\")"
   ]
  },
  {
   "cell_type": "code",
   "execution_count": 3,
   "metadata": {},
   "outputs": [
    {
     "data": {
      "text/plain": [
       "array(['IJH_ACWI', 'EWT_IVV', 'IJH_TOK', 'EWT_IJH', 'IHF_ILCG', 'EWT_IWV',\n",
       "       'IWM_WOOD', 'IJH_WOOD', 'IVV_ACWI', 'EWT_IWB', 'IYH_ACWI',\n",
       "       '*XFN_IJH', 'IGM_IHI', 'IHF_IXN', '*XIU_REM', 'EWH_IJH', 'IHF_IVW',\n",
       "       'IJJ_ACWI', 'IFGL_IWM', '*XIC_EZA', 'IWM_ACWI', 'EWT_IJJ',\n",
       "       'IWV_ACWI', 'IYH_TOK', 'EWT_IVE', 'IWM_SUSA', 'BKF_IGM',\n",
       "       'IMCV_IWM', 'EWM_EZA', 'IHF_IUSG', 'BKF_IVV', 'IHF_ILCB',\n",
       "       'IDU_IVV', 'IXP_IYH', 'REM_SUSA', 'IWB_ACWI', 'IWM_SCZ', 'EZU_THD',\n",
       "       'EWQ_IYG', 'EWD_THD', 'IEV_THD', 'IYK_ACWI', 'EWG_THD', 'IHE_ACWI',\n",
       "       'IHE_ACWX', 'IHE_WOOD', 'IHE_TOK', 'IHE_SCZ', 'IFGL_IHE',\n",
       "       'RXI_WOOD'], dtype=object)"
      ]
     },
     "execution_count": 3,
     "metadata": {},
     "output_type": "execute_result"
    }
   ],
   "source": [
    "data = pd.read_csv(\"Final TrainingSet.csv\")\n",
    "data.index = data['Date']\n",
    "data.index = pd.to_datetime(data.index)\n",
    "\n",
    "data['Ticker_Pair'].unique()"
   ]
  },
  {
   "cell_type": "code",
   "execution_count": 5,
   "metadata": {},
   "outputs": [],
   "source": [
    "df_all = pd.DataFrame()\n",
    "for i,pair in enumerate(data['Ticker_Pair'].unique()):\n",
    "    df = pd.read_csv(\"Pair {} Predictions.csv\".format(pair.strip(\"*\")))\n",
    "    df['pair'] = pair\n",
    "    df_all = pd.concat([df_all, df], axis=0)"
   ]
  },
  {
   "cell_type": "code",
   "execution_count": 6,
   "metadata": {},
   "outputs": [
    {
     "data": {
      "text/html": [
       "<div>\n",
       "<style scoped>\n",
       "    .dataframe tbody tr th:only-of-type {\n",
       "        vertical-align: middle;\n",
       "    }\n",
       "\n",
       "    .dataframe tbody tr th {\n",
       "        vertical-align: top;\n",
       "    }\n",
       "\n",
       "    .dataframe thead tr th {\n",
       "        text-align: left;\n",
       "    }\n",
       "</style>\n",
       "<table border=\"1\" class=\"dataframe\">\n",
       "  <thead>\n",
       "    <tr>\n",
       "      <th></th>\n",
       "      <th>Date</th>\n",
       "      <th>actual_spread</th>\n",
       "      <th>pred_spread</th>\n",
       "      <th>pair</th>\n",
       "    </tr>\n",
       "  </thead>\n",
       "  <tbody>\n",
       "    <tr>\n",
       "      <th>0</th>\n",
       "      <td>2008-04-14</td>\n",
       "      <td>-0.0009</td>\n",
       "      <td>-0.003942</td>\n",
       "      <td>IJH_ACWI</td>\n",
       "    </tr>\n",
       "    <tr>\n",
       "      <th>1</th>\n",
       "      <td>2008-04-15</td>\n",
       "      <td>0.0071</td>\n",
       "      <td>-0.002335</td>\n",
       "      <td>IJH_ACWI</td>\n",
       "    </tr>\n",
       "    <tr>\n",
       "      <th>2</th>\n",
       "      <td>2008-04-16</td>\n",
       "      <td>0.0106</td>\n",
       "      <td>0.011569</td>\n",
       "      <td>IJH_ACWI</td>\n",
       "    </tr>\n",
       "    <tr>\n",
       "      <th>3</th>\n",
       "      <td>2008-04-17</td>\n",
       "      <td>-0.0031</td>\n",
       "      <td>0.007587</td>\n",
       "      <td>IJH_ACWI</td>\n",
       "    </tr>\n",
       "    <tr>\n",
       "      <th>4</th>\n",
       "      <td>2008-04-18</td>\n",
       "      <td>-0.0035</td>\n",
       "      <td>0.003280</td>\n",
       "      <td>IJH_ACWI</td>\n",
       "    </tr>\n",
       "    <tr>\n",
       "      <th>...</th>\n",
       "      <td>...</td>\n",
       "      <td>...</td>\n",
       "      <td>...</td>\n",
       "      <td>...</td>\n",
       "    </tr>\n",
       "    <tr>\n",
       "      <th>3657</th>\n",
       "      <td>2023-01-24</td>\n",
       "      <td>-0.0077</td>\n",
       "      <td>-0.009958</td>\n",
       "      <td>RXI_WOOD</td>\n",
       "    </tr>\n",
       "    <tr>\n",
       "      <th>3658</th>\n",
       "      <td>2023-01-25</td>\n",
       "      <td>-0.0097</td>\n",
       "      <td>-0.006757</td>\n",
       "      <td>RXI_WOOD</td>\n",
       "    </tr>\n",
       "    <tr>\n",
       "      <th>3659</th>\n",
       "      <td>2023-01-26</td>\n",
       "      <td>-0.0180</td>\n",
       "      <td>-0.009264</td>\n",
       "      <td>RXI_WOOD</td>\n",
       "    </tr>\n",
       "    <tr>\n",
       "      <th>3660</th>\n",
       "      <td>2023-01-27</td>\n",
       "      <td>0.0055</td>\n",
       "      <td>-0.011281</td>\n",
       "      <td>RXI_WOOD</td>\n",
       "    </tr>\n",
       "    <tr>\n",
       "      <th>3661</th>\n",
       "      <td>2023-01-30</td>\n",
       "      <td>-0.0134</td>\n",
       "      <td>0.001809</td>\n",
       "      <td>RXI_WOOD</td>\n",
       "    </tr>\n",
       "  </tbody>\n",
       "</table>\n",
       "<p>198142 rows × 4 columns</p>\n",
       "</div>"
      ],
      "text/plain": [
       "            Date actual_spread pred_spread      pair\n",
       "0     2008-04-14       -0.0009   -0.003942  IJH_ACWI\n",
       "1     2008-04-15        0.0071   -0.002335  IJH_ACWI\n",
       "2     2008-04-16        0.0106    0.011569  IJH_ACWI\n",
       "3     2008-04-17       -0.0031    0.007587  IJH_ACWI\n",
       "4     2008-04-18       -0.0035    0.003280  IJH_ACWI\n",
       "...          ...           ...         ...       ...\n",
       "3657  2023-01-24       -0.0077   -0.009958  RXI_WOOD\n",
       "3658  2023-01-25       -0.0097   -0.006757  RXI_WOOD\n",
       "3659  2023-01-26       -0.0180   -0.009264  RXI_WOOD\n",
       "3660  2023-01-27        0.0055   -0.011281  RXI_WOOD\n",
       "3661  2023-01-30       -0.0134    0.001809  RXI_WOOD\n",
       "\n",
       "[198142 rows x 4 columns]"
      ]
     },
     "execution_count": 6,
     "metadata": {},
     "output_type": "execute_result"
    }
   ],
   "source": [
    "df_all.columns = [['Date','actual_spread','pred_spread','pair']]\n",
    "df_all"
   ]
  },
  {
   "cell_type": "code",
   "execution_count": 14,
   "metadata": {},
   "outputs": [],
   "source": [
    "df_all.to_pickle(\"ReturnSpreadPredictions_w.pkl\")"
   ]
  }
 ],
 "metadata": {
  "kernelspec": {
   "display_name": "base",
   "language": "python",
   "name": "python3"
  },
  "language_info": {
   "codemirror_mode": {
    "name": "ipython",
    "version": 3
   },
   "file_extension": ".py",
   "mimetype": "text/x-python",
   "name": "python",
   "nbconvert_exporter": "python",
   "pygments_lexer": "ipython3",
   "version": "3.8.8"
  },
  "orig_nbformat": 4,
  "vscode": {
   "interpreter": {
    "hash": "1e0c410a1e2f076d3e8c1651bdfb59b56607a70654ebd71afedd9dee606b21f8"
   }
  }
 },
 "nbformat": 4,
 "nbformat_minor": 2
}
