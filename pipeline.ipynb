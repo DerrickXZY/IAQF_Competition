{
 "cells": [
  {
   "cell_type": "code",
   "execution_count": 1,
   "metadata": {},
   "outputs": [],
   "source": [
    "from typing import List, Tuple, Optional, Mapping\n",
    "import pandas as pd\n",
    "import numpy as np"
   ]
  },
  {
   "cell_type": "code",
   "execution_count": null,
   "metadata": {},
   "outputs": [],
   "source": [
    "class IndicesSelector():\n",
    "    def __init__(self):\n",
    "        pass\n",
    "\n",
    "    def select(self, df: pd.DataFrame) -> List[str]:\n",
    "        pass"
   ]
  },
  {
   "cell_type": "code",
   "execution_count": null,
   "metadata": {},
   "outputs": [],
   "source": [
    "class PairsSelector():\n",
    "    def __init__(self):\n",
    "        pass\n",
    "\n",
    "    def select(self, df: pd.DataFrame) -> List[List[str]]:\n",
    "        pass"
   ]
  },
  {
   "cell_type": "code",
   "execution_count": null,
   "metadata": {},
   "outputs": [],
   "source": [
    "class Predictor():\n",
    "    def __init__(self):\n",
    "        pass\n",
    "    \n",
    "    def train(self, data: pd.DataFrame, params: Optional[Mapping] = None):\n",
    "        pass\n",
    "\n",
    "    def predict(self, data: pd.DataFrame, params: Optional[Mapping] = None) -> pd.DataFrame:\n",
    "        pass\n",
    "\n",
    "    def periodic_train_predict(self, data: pd.DataFrame, params: Optional[Mapping] = None) -> pd.DataFrame:\n",
    "        pass"
   ]
  },
  {
   "cell_type": "code",
   "execution_count": null,
   "metadata": {},
   "outputs": [],
   "source": [
    "class NaivePredictor(Predictor):\n",
    "    def __init__(self):\n",
    "        pass\n",
    "\n",
    "    def train(self, data, params: Optional[Mapping] = None):\n",
    "        pass\n",
    "\n",
    "    def predict(self, data: pd.DataFrame, params: Optional[Mapping] = None) -> pd.DataFrame:\n",
    "        if params is None:\n",
    "            params  = {\n",
    "                'period': 5\n",
    "            }\n",
    "        return data.shift(params.period)\n",
    "\n",
    "    def periodic_train_predict(self, data: pd.DataFrame, params: Optional[Mapping] = None) -> pd.DataFrame:\n",
    "        return self.predict(data, params)\n",
    "    "
   ]
  },
  {
   "cell_type": "code",
   "execution_count": null,
   "metadata": {},
   "outputs": [],
   "source": [
    "class SignalGenerator():\n",
    "    def __init__(self):\n",
    "        pass\n",
    "\n",
    "    def generate(self, pairs: List[str], price_df: pd.DataFrame, predict_df: pd.DataFrame, params: Optional[Mapping] = None) -> pd.DataFrame:\n",
    "        pass"
   ]
  },
  {
   "cell_type": "code",
   "execution_count": null,
   "metadata": {},
   "outputs": [],
   "source": [
    "class PercentileCurrent(SignalGenerator):\n",
    "    def __init__(self):\n",
    "        pass\n",
    "\n",
    "    def generate(self, pairs: List[str], price_df: pd.DataFrame, predict_df: pd.DataFrame, params: Optional[Mapping] = None) -> pd.DataFrame:\n",
    "        if params is None:\n",
    "            params = {\n",
    "                'holding_period': '1M',\n",
    "                'distribution_period': '2M'\n",
    "            }\n",
    "        holding_period = params.holding_period\n",
    "        distribution_period = params.distribution_period\n",
    "        signal_df = pd.DataFrame()\n",
    "        for pair in pairs:\n",
    "            col = ','.join(pair)\n",
    "            signal_df[col] = price_df[pair[0]] - price_df[pair[1]]\n",
    "            signal_df[col] = signal_df[col].rolling(distribution_period).apply(lambda x: pd.Series(x).rank(pct=True).iloc[-1]) - 0.5\n",
    "            signal_df[col].resample(holding_period).first()\n",
    "        signal_df['pair'] = np.abs(signal_df).idxmax(axis=1)    \n",
    "        \n",
    "        assets = price_df.columns\n",
    "        strategy = [[None] * len(assets)]\n",
    "\n",
    "        def process_signal(x):\n",
    "            if x['pair'] not in assets:\n",
    "                strategy.append([None] * len(assets))\n",
    "                buy_symbol = x['pair'].split(',')[0]\n",
    "                sell_symbol = x['pair'].split(',')[1]\n",
    "            if x['pair'] > 0:\n",
    "                strategy[-1][assets.index(buy_symbol)] = True \n",
    "                strategy[-1][assets.index(sell_symbol)] = False \n",
    "                strategy.append([None] * len(assets))\n",
    "                strategy[-1][assets.index(buy_symbol)] = False \n",
    "                strategy[-1][assets.index(sell_symbol)] = True \n",
    "            else:\n",
    "                strategy[-1][assets.index(buy_symbol)] = False \n",
    "                strategy[-1][assets.index(sell_symbol)] = True \n",
    "                strategy.append([None] * len(assets))\n",
    "                strategy[-1][assets.index(buy_symbol)] = True \n",
    "                strategy[-1][assets.index(sell_symbol)] = False\n",
    "\n",
    "        signal_df.apply(process_signal, axis=1) \n",
    "        pd.DataFrame(strategy, price_df.columns, index=signal_df.index)\n",
    "        pass"
   ]
  },
  {
   "cell_type": "code",
   "execution_count": null,
   "metadata": {},
   "outputs": [],
   "source": [
    "class PairTradingPipeline():\n",
    "    \"\"\"\n",
    "    @param price_df DataFrame with symbol columns and price values\n",
    "    @param training_ratio ratio of the subset of the price_df to be used to select paris\n",
    "    \"\"\"\n",
    "    def __init__(self, price_df: pd.DataFrame, training_ratio: float=0.5):\n",
    "        self.price_df = price_df.copy()\n",
    "        training_idx = int(len(price_df) * training_ratio)\n",
    "        self.index_selection_df = self.price_df[:training_idx]\n",
    "        self.pair_selection_df = self.price_df[training_idx:]\n",
    "        self.selected_indices = None\n",
    "        self.indicies_selector = IndicesSelector()\n",
    "        self.pairs_selector = PairsSelector()\n",
    "        self.predictors = {\n",
    "            'naive': NaivePredictor()\n",
    "        }\n",
    "        self.predict_result = {\n",
    "            'naive': None\n",
    "        }\n",
    "        self.signal_generator = {\n",
    "            'percentile_current': PercentileCurrent()\n",
    "        }\n",
    "\n",
    "    def select_indicies(self) -> List(str):\n",
    "        self.selected_indices = self.indicies_selector.select(self.index_selection_df)\n",
    "\n",
    "    def select_pairs(self) -> List[List[str]]:\n",
    "        if self.selected_indices is None:\n",
    "            self.select_indicies()\n",
    "        self.selected_pairs = self.pairs_selector.select(self.index_selection_df[[self.selected_indices]])\n",
    "\n",
    "    def predict(self, predictor: str, pair: List[str], params: Optional[Mapping] = None, periodic: Optional[bool] = False):\n",
    "        if periodic:\n",
    "            self.predict_result[predictor] = self.predictors[predictor].periodic_train_predict(self.pair_selection_df[pair])\n",
    "        else:\n",
    "            self.predictors[predictor].train(self.pair_selection_df)\n",
    "            self.predict_result[predictor] = self.predictors[predictor].predict(self.pair_selection_df[pair])\n",
    "    \n",
    "    def create_signal(self, signalGenerator: str, predict_df: pd.DataFrame, params: Optional[Mapping] = None):\n",
    "        if self.selected_pairs is None:\n",
    "            self.select_pairs()\n",
    "        self.predictors[signalGenerator].generate(self.selected_pairs, self.price_df, predict_df, params)\n",
    "        \n"
   ]
  }
 ],
 "metadata": {
  "interpreter": {
   "hash": "c78e57f7b62f637cbb25dcd12c7807a2f2767fc451085878bfa3d9d8a67e0557"
  },
  "kernelspec": {
   "display_name": "Python 3.7.11 ('mfe230e')",
   "language": "python",
   "name": "python3"
  },
  "language_info": {
   "codemirror_mode": {
    "name": "ipython",
    "version": 3
   },
   "file_extension": ".py",
   "mimetype": "text/x-python",
   "name": "python",
   "nbconvert_exporter": "python",
   "pygments_lexer": "ipython3",
   "version": "3.7.11"
  },
  "orig_nbformat": 4
 },
 "nbformat": 4,
 "nbformat_minor": 2
}
