{
 "cells": [
  {
   "cell_type": "code",
   "execution_count": null,
   "metadata": {},
   "outputs": [],
   "source": [
    "from typing import List, Tuple, Optional, Mapping\n",
    "import pandas as pd\n",
    "import numpy as np\n",
    "from collections import defaultdict\n",
    "import statsmodels.api as sm\n",
    "import pickle"
   ]
  },
  {
   "cell_type": "code",
   "execution_count": null,
   "metadata": {},
   "outputs": [],
   "source": [
    "class IndicesSelector():\n",
    "    def __init__(self):\n",
    "        pass\n",
    "\n",
    "    def select(self, df: Optional[pd.DataFrame] = None) -> List[str]:\n",
    "        price_df = pd.read_csv('price_df.csv')\n",
    "        return price_df['ETF_Ticker'].unique()"
   ]
  },
  {
   "cell_type": "code",
   "execution_count": null,
   "metadata": {},
   "outputs": [],
   "source": [
    "class PairsSelector():\n",
    "    def __init__(self):\n",
    "        pass\n",
    "\n",
    "    def select(self, df: Optional[pd.DataFrame] = None) -> List[List[str]]:\n",
    "        training_df = pd.read_csv('TrainingSet.csv')\n",
    "        pairs = [[p.split(\"_\")[0], p.split(\"_\")[1]] for p in training_df[\"Ticker_Pair\"].unique()]\n",
    "        return pairs"
   ]
  },
  {
   "cell_type": "code",
   "execution_count": null,
   "metadata": {},
   "outputs": [],
   "source": [
    "class Predictor():\n",
    "    def __init__(self):\n",
    "        pass\n",
    "    \n",
    "    def train(self, data: Optional[pd.DataFrame] = None, params: Optional[Mapping] = None):\n",
    "        pass\n",
    "\n",
    "    def predict(self, data: Optional[pd.DataFrame] = None, params: Optional[Mapping] = None) -> pd.DataFrame:\n",
    "        pass\n",
    "\n",
    "    def periodic_train_predict(self, data: Optional[pd.DataFrame] = None, params: Optional[Mapping] = None) -> pd.DataFrame:\n",
    "        pass"
   ]
  },
  {
   "cell_type": "code",
   "execution_count": null,
   "metadata": {},
   "outputs": [],
   "source": [
    "class MockPredictor(Predictor):\n",
    "    def __init__(self):\n",
    "        pass\n",
    "\n",
    "    def train(self, data: Optional[pd.DataFrame] = None, params: Optional[Mapping] = None):\n",
    "        pass\n",
    "\n",
    "    def predict(self, data: Optional[pd.DataFrame] = None, params: Optional[Mapping] = None) -> pd.DataFrame:\n",
    "        return pd.read_csv(\"mock_evaluation_df.csv\")\n",
    "\n",
    "    def periodic_train_predict(self, data: Optional[pd.DataFrame] = None, params: Optional[Mapping] = None) -> pd.DataFrame:\n",
    "        return self.predict(data, params)\n",
    "    "
   ]
  },
  {
   "cell_type": "code",
   "execution_count": null,
   "metadata": {},
   "outputs": [],
   "source": [
    "class LinearPredictor(Predictor):\n",
    "    def __init__(self):\n",
    "        pass\n",
    "\n",
    "    def train(self, data: Optional[pd.DataFrame] = None, params: Optional[Mapping] = None):\n",
    "        pass\n",
    "\n",
    "    def predict(self, data: Optional[pd.DataFrame] = None, params: Optional[Mapping] = None) -> pd.DataFrame:\n",
    "        # return pd.read_csv(\"mock_evaluation_df.csv\")\n",
    "        if params is None:\n",
    "            params = {\n",
    "                'pred_period': 'D'\n",
    "            }\n",
    "        pred_period = params['pred_period'] \n",
    "        if pred_period == 'D':\n",
    "            with open('../prediction/linear_model/predict/ReturnSpreadPredictions_d.pkl', 'rb') as f:\n",
    "                return pickle.load(f)\n",
    "        if pred_period == 'M':\n",
    "            with open('../prediction/linear_model/predict/ReturnSpreadPredictions_M.pkl', 'rb') as f:\n",
    "                return pickle.load(f)\n",
    "        if pred_period == 'W':\n",
    "            with open('../prediction/linear_model/predict/ReturnSpreadPredictions_w.pkl', 'rb') as f:\n",
    "                return pickle.load(f)\n",
    "        with open('../prediction/linear_model/predict/ReturnSpreadPredictions_d.pkl', 'rb') as f:\n",
    "                return pickle.load(f)\n",
    "\n",
    "    def periodic_train_predict(self, data: Optional[pd.DataFrame] = None, params: Optional[Mapping] = None) -> pd.DataFrame:\n",
    "        return self.predict(data, params)\n",
    "    "
   ]
  },
  {
   "cell_type": "code",
   "execution_count": null,
   "metadata": {},
   "outputs": [],
   "source": [
    "class XGBPredictor(Predictor):\n",
    "    def __init__(self):\n",
    "        pass\n",
    "\n",
    "    def train(self, data: Optional[pd.DataFrame] = None, params: Optional[Mapping] = None):\n",
    "        pass\n",
    "\n",
    "    def predict(self, data: Optional[pd.DataFrame] = None, params: Optional[Mapping] = None) -> pd.DataFrame:\n",
    "        # return pd.read_csv(\"mock_evaluation_df.csv\")\n",
    "        if params is None:\n",
    "            params = {\n",
    "                'pred_period': 'D'\n",
    "            }\n",
    "        pred_period = params['pred_period'] \n",
    "        if pred_period == 'D':\n",
    "            with open('../prediction/xgboost_model/predict/ReturnSpreadPredictions_d.pkl', 'rb') as f:\n",
    "                return pickle.load(f)\n",
    "        if pred_period == 'M':\n",
    "            return self.predict(data, params)\n",
    "        if pred_period == 'W':\n",
    "            with open('../prediction/xgboost_model/predict/ReturnSpreadPredictions_w.pkl', 'rb') as f:\n",
    "                return pickle.load(f)\n",
    "        with open('../prediction/xgboost_model/predict/ReturnSpreadPredictions_d.pkl', 'rb') as f:\n",
    "                return pickle.load(f)\n",
    "\n",
    "    def periodic_train_predict(self, data: Optional[pd.DataFrame] = None, params: Optional[Mapping] = None) -> pd.DataFrame:\n",
    "        return self.predict(data, params)\n",
    "    "
   ]
  },
  {
   "cell_type": "code",
   "execution_count": null,
   "metadata": {},
   "outputs": [],
   "source": [
    "class SignalGenerator():\n",
    "    def __init__(self):\n",
    "        pass\n",
    "\n",
    "    def pair_sig_to_asset_sig(self, price_df: pd.DataFrame, signal_df: pd.DataFrame) -> pd.DataFrame:\n",
    "        assets = price_df.columns\n",
    "        strategy_asset = [[None] * len(assets)]\n",
    "\n",
    "        def process_signal(x):\n",
    "            if not x['pair']:\n",
    "                strategy_asset.append([None] * len(assets))\n",
    "                return\n",
    "            buy_symbol = x['pair'].split('_')[0]\n",
    "            sell_symbol = x['pair'].split('_')[1]\n",
    "            # print(price_df.loc[x.name])\n",
    "            buy_px = price_df.loc[x.name][buy_symbol]\n",
    "            buy_qty = 1.0 / buy_px\n",
    "            sell_px = price_df.loc[x.name][sell_symbol]\n",
    "            # sell_px = price_df[(price_df['Date'] == x.name) & (price_df['ETF_Ticker'] == sell_symbol)]['ETF Price'].iloc[0]\n",
    "            sell_qty = 1.0 / sell_px\n",
    "            if x['side'] == True:\n",
    "                strategy_asset[-1][assets.get_loc(buy_symbol)] = buy_qty\n",
    "                strategy_asset[-1][assets.get_loc(sell_symbol)] = -sell_qty \n",
    "                strategy_asset.append([None] * len(assets))\n",
    "                strategy_asset[-1][assets.get_loc(buy_symbol)] = -buy_qty \n",
    "                strategy_asset[-1][assets.get_loc(sell_symbol)] = sell_qty \n",
    "            elif x['side'] == False:\n",
    "                strategy_asset[-1][assets.get_loc(buy_symbol)] = -buy_qty \n",
    "                strategy_asset[-1][assets.get_loc(sell_symbol)] = sell_qty \n",
    "                strategy_asset.append([None] * len(assets))\n",
    "                strategy_asset[-1][assets.get_loc(buy_symbol)] = buy_qty \n",
    "                strategy_asset[-1][assets.get_loc(sell_symbol)] = -sell_qty \n",
    "            else:\n",
    "                strategy_asset.append([None] * len(assets))\n",
    "\n",
    "        signal_df.iloc[:-1].apply(process_signal, axis=1) \n",
    "        return pd.DataFrame(strategy_asset, columns=assets, index=signal_df.index)\n",
    "\n",
    "\n",
    "    def generate(self, pairs: List[str], price_df: pd.DataFrame, \\\n",
    "                 predict_df: pd.DataFrame, params: Optional[Mapping] = None)\\\n",
    "                 -> Tuple[pd.DataFrame, pd.DataFrame]:\n",
    "        pass"
   ]
  },
  {
   "cell_type": "code",
   "execution_count": null,
   "metadata": {},
   "outputs": [],
   "source": [
    "class PercentileCurrent(SignalGenerator):\n",
    "    def __init__(self):\n",
    "        pass\n",
    "\n",
    "    def generate(self, pairs: List[str], price_df: pd.DataFrame, \\\n",
    "                 predict_df: pd.DataFrame, params: Optional[Mapping] = None)\\\n",
    "                 -> Tuple[pd.DataFrame, pd.DataFrame]:\n",
    "        price_pivot_df = price_df.pivot_table(\"ETF Price\", [\"Date\"], columns=\"ETF_Ticker\")\n",
    "        price_pivot_df.index =pd.to_datetime(price_pivot_df.index)\n",
    "        if params is None:\n",
    "            params = {\n",
    "                'holding_period': 20,\n",
    "                'distribution_period': 60\n",
    "            }\n",
    "        holding_period = params[\"holding_period\"]\n",
    "        distribution_period = params[\"distribution_period\"]\n",
    "        signal_df = pd.DataFrame()\n",
    "        for pair in pairs:\n",
    "            col = '_'.join(pair)\n",
    "            signal_df[col] = price_pivot_df[pair[0]] - price_pivot_df[pair[1]]\n",
    "        signal_df = signal_df.rolling(distribution_period).apply(lambda x: pd.Series(x).rank(pct=True).iloc[-1]) - 0.5\n",
    "        signal_df = signal_df.iloc[::holding_period, :]\n",
    "        signal_df['pair'] = np.abs(signal_df).idxmax(axis=1)\n",
    "        signal_df['pair'].fillna(value='', inplace=True)\n",
    "        signal_df['side'] = signal_df.apply(lambda x: x[x[\"pair\"]] < 0 if x[\"pair\"] else None, axis=1)\n",
    "        pair_sig = self.pair_sig_to_asset_sig(price_pivot_df, signal_df)\n",
    "        asset_sig = signal_df[['pair', 'side']]\n",
    "        return (pair_sig, asset_sig)\n",
    "        "
   ]
  },
  {
   "cell_type": "code",
   "execution_count": null,
   "metadata": {},
   "outputs": [],
   "source": [
    "class MostSpreadReturnPredict(SignalGenerator):\n",
    "    def __init__(self):\n",
    "        pass\n",
    "\n",
    "    def generate(self, pairs: List[str], price_df: pd.DataFrame, \\\n",
    "                 predict_df: pd.DataFrame, params: Optional[Mapping] = None)\\\n",
    "                 -> Tuple[pd.DataFrame, pd.DataFrame]:\n",
    "\n",
    "        price_pivot_df = price_df.pivot_table(\"ETF Price\", [\"Date\"], columns=\"ETF_Ticker\")\n",
    "        if params is None:\n",
    "            params = {\n",
    "                'holding_period': 20\n",
    "            }\n",
    "        holding_period = params[\"holding_period\"]\n",
    "        signal_df = pd.DataFrame()\n",
    "        predict_df = predict_df.reset_index()\n",
    "        signal_df = predict_df.iloc[predict_df.groupby('Date')['pred_spread'].agg(lambda x: np.abs(x).idxmax())]\n",
    "        signal_df.set_index(\"Date\", inplace=True)\n",
    "        signal_df.index = pd.to_datetime(signal_df.index)\n",
    "        signal_df = signal_df.iloc[::holding_period, :]\n",
    "        signal_df['side'] = signal_df['pred_spread'] > 0\n",
    "        return self.pair_sig_to_asset_sig(price_pivot_df, signal_df), signal_df[['pair', 'side']]"
   ]
  },
  {
   "cell_type": "code",
   "execution_count": null,
   "metadata": {},
   "outputs": [],
   "source": [
    "class PairTradingPipeline():\n",
    "    \"\"\"\n",
    "    @param price_df DataFrame with symbol columns and price values\n",
    "    @param training_ratio ratio of the subset of the price_df to be used to select paris\n",
    "    \"\"\"\n",
    "    def __init__(self, price_df: pd.DataFrame, training_ratio: float=0.5):\n",
    "        self.price_df = price_df.copy()\n",
    "        training_idx = int(len(price_df) * training_ratio)\n",
    "        self.index_selection_df = self.price_df[:training_idx]\n",
    "        self.pair_selection_df = self.price_df[training_idx:]\n",
    "        self.selected_indices = None\n",
    "        self.indicies_selector = IndicesSelector()\n",
    "        self.pairs_selector = PairsSelector()\n",
    "        self.selected_pairs = None\n",
    "        self.predictors = {\n",
    "            'linear': LinearPredictor()\n",
    "        }\n",
    "        self.predict_result = {\n",
    "            'linear': None\n",
    "        }\n",
    "        self.signal_generator = {\n",
    "            'percentile_current': PercentileCurrent(),\n",
    "            'most_spread_rtn': MostSpreadReturnPredict()\n",
    "        }\n",
    "\n",
    "    def select_indicies(self) -> List[str]:\n",
    "        self.selected_indices = self.indicies_selector.select(self.index_selection_df)\n",
    "        return self.selected_indices\n",
    "\n",
    "    def select_pairs(self) -> List[List[str]]:\n",
    "        if self.selected_indices is None:\n",
    "            self.select_indicies()\n",
    "        # self.selected_pairs = self.pairs_selector.select(self.index_selection_df[[self.selected_indices]])\n",
    "        self.selected_pairs = self.pairs_selector.select()\n",
    "        return self.selected_pairs \n",
    "\n",
    "    def predict(self, predictor: str, pair: List[str], params: Optional[Mapping] = None, periodic: Optional[bool] = False):\n",
    "        if periodic:\n",
    "            # self.predict_result[predictor] = self.predictors[predictor].periodic_train_predict(self.pair_selection_df[pair])\n",
    "            self.predict_result[predictor] = self.predictors[predictor].periodic_train_predict()\n",
    "        else:\n",
    "            # self.predictors[predictor].train(self.pair_selection_df)\n",
    "            # self.predict_result[predictor] = self.predictors[predictor].predict(self.pair_selection_df[pair])\n",
    "            self.predict_result[predictor] = self.predictors[predictor].predict()\n",
    "        return self.predict_result[predictor]\n",
    "    \n",
    "    def create_signal(self, signalGenerator: str, predict_df: pd.DataFrame, params: Optional[Mapping] = None):\n",
    "        if self.selected_pairs is None:\n",
    "            self.select_pairs()\n",
    "        return self.signal_generator[signalGenerator].generate(self.selected_pairs, self.price_df, predict_df, params)\n",
    "    \n",
    "    def generate_portfolio(self, trade_df: pd.DataFrame):\n",
    "        price_pivot_df = self.price_df.pivot_table(\"ETF Price\", [\"Date\"], columns=\"ETF_Ticker\")\n",
    "        price_pivot_df.index =pd.to_datetime(price_pivot_df.index)\n",
    "        return (trade_df.reindex(price_pivot_df.index).fillna(method='ffill').fillna(0) * price_pivot_df.fillna(0)).sum(axis = 1)\n"
   ]
  },
  {
   "cell_type": "code",
   "execution_count": null,
   "metadata": {},
   "outputs": [],
   "source": [
    "price_df = pd.read_csv('price_df.csv')\n",
    "price_df['Date'] = pd.to_datetime(price_df['Date'])\n",
    "\n",
    "training_df = pd.read_csv('TrainingSet.csv')\n",
    "training_df\n",
    "\n",
    "pipeline = PairTradingPipeline(price_df)\n",
    "pairs = pipeline.selected_pairs"
   ]
  },
  {
   "cell_type": "code",
   "execution_count": null,
   "metadata": {
    "scrolled": true
   },
   "outputs": [],
   "source": [
    "linear_pred_df = pipeline.predict('linear', pairs)\n",
    "trade_df, pair_trade_df = pipeline.create_signal('most_spread_rtn', linear_pred_df)\n",
    "df_port = pipeline.generate_portfolio(trade_df)\n",
    "trade_df.plot()"
   ]
  },
  {
   "cell_type": "code",
   "execution_count": null,
   "metadata": {},
   "outputs": [],
   "source": [
    "df_port.plot()"
   ]
  },
  {
   "cell_type": "code",
   "execution_count": null,
   "metadata": {},
   "outputs": [],
   "source": [
    "total_ret = (df_port + 1)\n",
    "daily_ret = total_ret/total_ret.shift() - 1\n",
    "daily_ret.plot()"
   ]
  },
  {
   "cell_type": "code",
   "execution_count": null,
   "metadata": {},
   "outputs": [],
   "source": [
    "trade_df, pair_trade_df = pipeline.create_signal('percentile_current', linear_pred_df)\n",
    "df_port = pipeline.generate_portfolio(trade_df)\n",
    "trade_df.plot()"
   ]
  },
  {
   "cell_type": "code",
   "execution_count": null,
   "metadata": {},
   "outputs": [],
   "source": [
    "df_port.plot()"
   ]
  },
  {
   "cell_type": "code",
   "execution_count": null,
   "metadata": {},
   "outputs": [],
   "source": [
    "total_ret = (df_port + 1)\n",
    "daily_ret = total_ret/total_ret.shift() - 1\n",
    "daily_ret.plot()"
   ]
  },
  {
   "cell_type": "code",
   "execution_count": null,
   "metadata": {},
   "outputs": [],
   "source": []
  }
 ],
 "metadata": {
  "interpreter": {
   "hash": "6b43f5cbe88954ffbc9eced35f8ad9fbd4e146e648d29dc77284849929a2ce1c"
  },
  "kernelspec": {
   "display_name": "Python 3 (ipykernel)",
   "language": "python",
   "name": "python3"
  },
  "language_info": {
   "codemirror_mode": {
    "name": "ipython",
    "version": 3
   },
   "file_extension": ".py",
   "mimetype": "text/x-python",
   "name": "python",
   "nbconvert_exporter": "python",
   "pygments_lexer": "ipython3",
   "version": "3.9.7"
  }
 },
 "nbformat": 4,
 "nbformat_minor": 2
}
