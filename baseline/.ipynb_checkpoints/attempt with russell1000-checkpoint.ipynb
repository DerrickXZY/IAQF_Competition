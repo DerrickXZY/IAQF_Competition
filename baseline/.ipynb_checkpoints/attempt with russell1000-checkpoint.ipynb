{
 "cells": [
  {
   "cell_type": "code",
   "execution_count": 38,
   "id": "f8bd3229-4062-454c-bbef-692438ed3d89",
   "metadata": {},
   "outputs": [],
   "source": [
    "import numpy as np\n",
    "import pandas as pd\n",
    "import yfinance as yf\n",
    "import statsmodels.api as sm\n",
    "from statsmodels.tsa.vector_ar.vecm import VECM, VAR, select_order, select_coint_rank, coint_johansen\n",
    "from time_series_utils import TSA\n",
    "import matplotlib.pyplot as plt"
   ]
  },
  {
   "cell_type": "code",
   "execution_count": 2,
   "id": "e56ef41c-0d09-4078-b352-7acab41cf9a9",
   "metadata": {},
   "outputs": [],
   "source": [
    "start_date = pd.Timestamp(\"2000-01-01\")\n",
    "end_date = pd.Timestamp(\"2019-12-31\")"
   ]
  },
  {
   "cell_type": "code",
   "execution_count": 15,
   "id": "1c59b745-e712-47f0-8bab-409f7d29cca1",
   "metadata": {},
   "outputs": [
    {
     "name": "stdout",
     "output_type": "stream",
     "text": [
      "[*********************100%***********************]  1 of 1 completed\n",
      "[*********************100%***********************]  1 of 1 completed\n"
     ]
    },
    {
     "data": {
      "text/html": [
       "<div>\n",
       "<style scoped>\n",
       "    .dataframe tbody tr th:only-of-type {\n",
       "        vertical-align: middle;\n",
       "    }\n",
       "\n",
       "    .dataframe tbody tr th {\n",
       "        vertical-align: top;\n",
       "    }\n",
       "\n",
       "    .dataframe thead th {\n",
       "        text-align: right;\n",
       "    }\n",
       "</style>\n",
       "<table border=\"1\" class=\"dataframe\">\n",
       "  <thead>\n",
       "    <tr style=\"text-align: right;\">\n",
       "      <th></th>\n",
       "      <th>Open</th>\n",
       "      <th>High</th>\n",
       "      <th>Low</th>\n",
       "      <th>Close</th>\n",
       "      <th>Adj Close</th>\n",
       "      <th>Volume</th>\n",
       "    </tr>\n",
       "    <tr>\n",
       "      <th>Date</th>\n",
       "      <th></th>\n",
       "      <th></th>\n",
       "      <th></th>\n",
       "      <th></th>\n",
       "      <th></th>\n",
       "      <th></th>\n",
       "    </tr>\n",
       "  </thead>\n",
       "  <tbody>\n",
       "    <tr>\n",
       "      <th>2000-01-03 00:00:00-05:00</th>\n",
       "      <td>148.25000</td>\n",
       "      <td>148.25000</td>\n",
       "      <td>143.875000</td>\n",
       "      <td>145.4375</td>\n",
       "      <td>95.308838</td>\n",
       "      <td>8164300</td>\n",
       "    </tr>\n",
       "    <tr>\n",
       "      <th>2000-01-04 00:00:00-05:00</th>\n",
       "      <td>143.53125</td>\n",
       "      <td>144.06250</td>\n",
       "      <td>139.640625</td>\n",
       "      <td>139.7500</td>\n",
       "      <td>91.581627</td>\n",
       "      <td>8089800</td>\n",
       "    </tr>\n",
       "    <tr>\n",
       "      <th>2000-01-05 00:00:00-05:00</th>\n",
       "      <td>139.93750</td>\n",
       "      <td>141.53125</td>\n",
       "      <td>137.250000</td>\n",
       "      <td>140.0000</td>\n",
       "      <td>91.745483</td>\n",
       "      <td>12177900</td>\n",
       "    </tr>\n",
       "    <tr>\n",
       "      <th>2000-01-06 00:00:00-05:00</th>\n",
       "      <td>139.62500</td>\n",
       "      <td>141.50000</td>\n",
       "      <td>137.750000</td>\n",
       "      <td>137.7500</td>\n",
       "      <td>90.270981</td>\n",
       "      <td>6227200</td>\n",
       "    </tr>\n",
       "    <tr>\n",
       "      <th>2000-01-07 00:00:00-05:00</th>\n",
       "      <td>140.31250</td>\n",
       "      <td>145.75000</td>\n",
       "      <td>140.062500</td>\n",
       "      <td>145.7500</td>\n",
       "      <td>95.513580</td>\n",
       "      <td>8066500</td>\n",
       "    </tr>\n",
       "  </tbody>\n",
       "</table>\n",
       "</div>"
      ],
      "text/plain": [
       "                                Open       High         Low     Close  \\\n",
       "Date                                                                    \n",
       "2000-01-03 00:00:00-05:00  148.25000  148.25000  143.875000  145.4375   \n",
       "2000-01-04 00:00:00-05:00  143.53125  144.06250  139.640625  139.7500   \n",
       "2000-01-05 00:00:00-05:00  139.93750  141.53125  137.250000  140.0000   \n",
       "2000-01-06 00:00:00-05:00  139.62500  141.50000  137.750000  137.7500   \n",
       "2000-01-07 00:00:00-05:00  140.31250  145.75000  140.062500  145.7500   \n",
       "\n",
       "                           Adj Close    Volume  \n",
       "Date                                            \n",
       "2000-01-03 00:00:00-05:00  95.308838   8164300  \n",
       "2000-01-04 00:00:00-05:00  91.581627   8089800  \n",
       "2000-01-05 00:00:00-05:00  91.745483  12177900  \n",
       "2000-01-06 00:00:00-05:00  90.270981   6227200  \n",
       "2000-01-07 00:00:00-05:00  95.513580   8066500  "
      ]
     },
     "metadata": {},
     "output_type": "display_data"
    },
    {
     "data": {
      "text/html": [
       "<div>\n",
       "<style scoped>\n",
       "    .dataframe tbody tr th:only-of-type {\n",
       "        vertical-align: middle;\n",
       "    }\n",
       "\n",
       "    .dataframe tbody tr th {\n",
       "        vertical-align: top;\n",
       "    }\n",
       "\n",
       "    .dataframe thead th {\n",
       "        text-align: right;\n",
       "    }\n",
       "</style>\n",
       "<table border=\"1\" class=\"dataframe\">\n",
       "  <thead>\n",
       "    <tr style=\"text-align: right;\">\n",
       "      <th></th>\n",
       "      <th>Open</th>\n",
       "      <th>High</th>\n",
       "      <th>Low</th>\n",
       "      <th>Close</th>\n",
       "      <th>Adj Close</th>\n",
       "      <th>Volume</th>\n",
       "    </tr>\n",
       "    <tr>\n",
       "      <th>Date</th>\n",
       "      <th></th>\n",
       "      <th></th>\n",
       "      <th></th>\n",
       "      <th></th>\n",
       "      <th></th>\n",
       "      <th></th>\n",
       "    </tr>\n",
       "  </thead>\n",
       "  <tbody>\n",
       "    <tr>\n",
       "      <th>2000-05-19 00:00:00-04:00</th>\n",
       "      <td>75.406250</td>\n",
       "      <td>75.406250</td>\n",
       "      <td>74.312500</td>\n",
       "      <td>74.312500</td>\n",
       "      <td>49.981689</td>\n",
       "      <td>8100</td>\n",
       "    </tr>\n",
       "    <tr>\n",
       "      <th>2000-05-22 00:00:00-04:00</th>\n",
       "      <td>74.609375</td>\n",
       "      <td>74.609375</td>\n",
       "      <td>72.078125</td>\n",
       "      <td>74.093750</td>\n",
       "      <td>49.834568</td>\n",
       "      <td>751300</td>\n",
       "    </tr>\n",
       "    <tr>\n",
       "      <th>2000-05-23 00:00:00-04:00</th>\n",
       "      <td>74.125000</td>\n",
       "      <td>74.125000</td>\n",
       "      <td>72.843750</td>\n",
       "      <td>72.843750</td>\n",
       "      <td>48.993839</td>\n",
       "      <td>271200</td>\n",
       "    </tr>\n",
       "    <tr>\n",
       "      <th>2000-05-24 00:00:00-04:00</th>\n",
       "      <td>72.890625</td>\n",
       "      <td>73.468750</td>\n",
       "      <td>72.000000</td>\n",
       "      <td>73.468750</td>\n",
       "      <td>49.414192</td>\n",
       "      <td>17900</td>\n",
       "    </tr>\n",
       "    <tr>\n",
       "      <th>2000-05-25 00:00:00-04:00</th>\n",
       "      <td>74.265625</td>\n",
       "      <td>74.359375</td>\n",
       "      <td>72.921875</td>\n",
       "      <td>72.921875</td>\n",
       "      <td>49.046394</td>\n",
       "      <td>2100</td>\n",
       "    </tr>\n",
       "  </tbody>\n",
       "</table>\n",
       "</div>"
      ],
      "text/plain": [
       "                                Open       High        Low      Close  \\\n",
       "Date                                                                    \n",
       "2000-05-19 00:00:00-04:00  75.406250  75.406250  74.312500  74.312500   \n",
       "2000-05-22 00:00:00-04:00  74.609375  74.609375  72.078125  74.093750   \n",
       "2000-05-23 00:00:00-04:00  74.125000  74.125000  72.843750  72.843750   \n",
       "2000-05-24 00:00:00-04:00  72.890625  73.468750  72.000000  73.468750   \n",
       "2000-05-25 00:00:00-04:00  74.265625  74.359375  72.921875  72.921875   \n",
       "\n",
       "                           Adj Close  Volume  \n",
       "Date                                          \n",
       "2000-05-19 00:00:00-04:00  49.981689    8100  \n",
       "2000-05-22 00:00:00-04:00  49.834568  751300  \n",
       "2000-05-23 00:00:00-04:00  48.993839  271200  \n",
       "2000-05-24 00:00:00-04:00  49.414192   17900  \n",
       "2000-05-25 00:00:00-04:00  49.046394    2100  "
      ]
     },
     "metadata": {},
     "output_type": "display_data"
    },
    {
     "data": {
      "text/plain": [
       "(5030, 4934)"
      ]
     },
     "execution_count": 15,
     "metadata": {},
     "output_type": "execute_result"
    }
   ],
   "source": [
    "# \"SPY\": SPDR S&P 500 ETF Trust\n",
    "# \"IWB\": iShares Russell 1000 ETF \n",
    "sp500_df = yf.download(\"SPY\", start=start_date, end=end_date)\n",
    "russell1000_df = yf.download(\"IWB\", start=start_date, end=end_date)\n",
    "display(sp500_df.head())\n",
    "display(russell1000_df.head())\n",
    "sp500_df.shape[0], russell1000_df.shape[0]"
   ]
  },
  {
   "cell_type": "code",
   "execution_count": 4,
   "id": "26be9b55-3a6e-476b-8258-cdc303910680",
   "metadata": {},
   "outputs": [
    {
     "data": {
      "text/html": [
       "<div>\n",
       "<style scoped>\n",
       "    .dataframe tbody tr th:only-of-type {\n",
       "        vertical-align: middle;\n",
       "    }\n",
       "\n",
       "    .dataframe tbody tr th {\n",
       "        vertical-align: top;\n",
       "    }\n",
       "\n",
       "    .dataframe thead th {\n",
       "        text-align: right;\n",
       "    }\n",
       "</style>\n",
       "<table border=\"1\" class=\"dataframe\">\n",
       "  <thead>\n",
       "    <tr style=\"text-align: right;\">\n",
       "      <th></th>\n",
       "      <th>sp500</th>\n",
       "      <th>russell1000</th>\n",
       "    </tr>\n",
       "    <tr>\n",
       "      <th>Date</th>\n",
       "      <th></th>\n",
       "      <th></th>\n",
       "    </tr>\n",
       "  </thead>\n",
       "  <tbody>\n",
       "    <tr>\n",
       "      <th>2000-05-19 00:00:00-04:00</th>\n",
       "      <td>92.717773</td>\n",
       "      <td>49.981716</td>\n",
       "    </tr>\n",
       "    <tr>\n",
       "      <th>2000-05-22 00:00:00-04:00</th>\n",
       "      <td>92.019707</td>\n",
       "      <td>49.834576</td>\n",
       "    </tr>\n",
       "    <tr>\n",
       "      <th>2000-05-23 00:00:00-04:00</th>\n",
       "      <td>90.664665</td>\n",
       "      <td>48.993855</td>\n",
       "    </tr>\n",
       "    <tr>\n",
       "      <th>2000-05-24 00:00:00-04:00</th>\n",
       "      <td>92.142891</td>\n",
       "      <td>49.414185</td>\n",
       "    </tr>\n",
       "    <tr>\n",
       "      <th>2000-05-25 00:00:00-04:00</th>\n",
       "      <td>90.562012</td>\n",
       "      <td>49.046368</td>\n",
       "    </tr>\n",
       "    <tr>\n",
       "      <th>...</th>\n",
       "      <td>...</td>\n",
       "      <td>...</td>\n",
       "    </tr>\n",
       "    <tr>\n",
       "      <th>2019-12-23 00:00:00-05:00</th>\n",
       "      <td>306.215424</td>\n",
       "      <td>170.501556</td>\n",
       "    </tr>\n",
       "    <tr>\n",
       "      <th>2019-12-24 00:00:00-05:00</th>\n",
       "      <td>306.224945</td>\n",
       "      <td>170.453659</td>\n",
       "    </tr>\n",
       "    <tr>\n",
       "      <th>2019-12-26 00:00:00-05:00</th>\n",
       "      <td>307.855072</td>\n",
       "      <td>171.295959</td>\n",
       "    </tr>\n",
       "    <tr>\n",
       "      <th>2019-12-27 00:00:00-05:00</th>\n",
       "      <td>307.778809</td>\n",
       "      <td>171.257645</td>\n",
       "    </tr>\n",
       "    <tr>\n",
       "      <th>2019-12-30 00:00:00-05:00</th>\n",
       "      <td>306.081909</td>\n",
       "      <td>170.377121</td>\n",
       "    </tr>\n",
       "  </tbody>\n",
       "</table>\n",
       "<p>4934 rows × 2 columns</p>\n",
       "</div>"
      ],
      "text/plain": [
       "                                sp500  russell1000\n",
       "Date                                              \n",
       "2000-05-19 00:00:00-04:00   92.717773    49.981716\n",
       "2000-05-22 00:00:00-04:00   92.019707    49.834576\n",
       "2000-05-23 00:00:00-04:00   90.664665    48.993855\n",
       "2000-05-24 00:00:00-04:00   92.142891    49.414185\n",
       "2000-05-25 00:00:00-04:00   90.562012    49.046368\n",
       "...                               ...          ...\n",
       "2019-12-23 00:00:00-05:00  306.215424   170.501556\n",
       "2019-12-24 00:00:00-05:00  306.224945   170.453659\n",
       "2019-12-26 00:00:00-05:00  307.855072   171.295959\n",
       "2019-12-27 00:00:00-05:00  307.778809   171.257645\n",
       "2019-12-30 00:00:00-05:00  306.081909   170.377121\n",
       "\n",
       "[4934 rows x 2 columns]"
      ]
     },
     "execution_count": 4,
     "metadata": {},
     "output_type": "execute_result"
    }
   ],
   "source": [
    "sp500 = sp500_df[\"Adj Close\"]\n",
    "russell1000 = russell1000_df[\"Adj Close\"]\n",
    "pair_df = pd.concat([sp500, russell1000], axis=1, join=\"inner\")\n",
    "pair_df.columns = [\"sp500\", \"russell1000\"]\n",
    "pair_df"
   ]
  },
  {
   "cell_type": "code",
   "execution_count": 5,
   "id": "c627320e-aaa0-4ad4-9f35-002451c3d56f",
   "metadata": {},
   "outputs": [],
   "source": [
    "train_df = pair_df.loc[pair_df.index < \"2017-01-01\"].reset_index(drop=True)\n",
    "test_df = pair_df.loc[pair_df.index >= \"2017-01-01\"].reset_index(drop=True)"
   ]
  },
  {
   "cell_type": "code",
   "execution_count": 19,
   "id": "31360dc7-c6c9-4670-bacf-99103b8998a6",
   "metadata": {},
   "outputs": [
    {
     "data": {
      "text/html": [
       "<div>\n",
       "<style scoped>\n",
       "    .dataframe tbody tr th:only-of-type {\n",
       "        vertical-align: middle;\n",
       "    }\n",
       "\n",
       "    .dataframe tbody tr th {\n",
       "        vertical-align: top;\n",
       "    }\n",
       "\n",
       "    .dataframe thead th {\n",
       "        text-align: right;\n",
       "    }\n",
       "</style>\n",
       "<table border=\"1\" class=\"dataframe\">\n",
       "  <thead>\n",
       "    <tr style=\"text-align: right;\">\n",
       "      <th></th>\n",
       "      <th>sp500</th>\n",
       "      <th>russell1000</th>\n",
       "    </tr>\n",
       "  </thead>\n",
       "  <tbody>\n",
       "    <tr>\n",
       "      <th>sp500</th>\n",
       "      <td>1.000000</td>\n",
       "      <td>0.999666</td>\n",
       "    </tr>\n",
       "    <tr>\n",
       "      <th>russell1000</th>\n",
       "      <td>0.999666</td>\n",
       "      <td>1.000000</td>\n",
       "    </tr>\n",
       "  </tbody>\n",
       "</table>\n",
       "</div>"
      ],
      "text/plain": [
       "                sp500  russell1000\n",
       "sp500        1.000000     0.999666\n",
       "russell1000  0.999666     1.000000"
      ]
     },
     "execution_count": 19,
     "metadata": {},
     "output_type": "execute_result"
    }
   ],
   "source": [
    "train_df.corr()"
   ]
  },
  {
   "cell_type": "markdown",
   "id": "1b7af0a2-9e30-431f-9c04-44dac7e49d51",
   "metadata": {
    "tags": []
   },
   "source": [
    "# VECM / VAR"
   ]
  },
  {
   "cell_type": "markdown",
   "id": "974f2eff-b9df-4b25-9957-e143ced87306",
   "metadata": {},
   "source": [
    "$$\\Delta y_t = \\alpha \\beta^T y_{t-1} + \\Gamma_1 \\Delta y_{t-1} + \\dots + \\Gamma_{p-1} \\Delta y_{t-p+1} + u_t$$\n",
    "where $\\alpha, \\beta \\in \\mathbb{R}^{K \\times r}$ and $\\Gamma_i \\in \\mathbb{R}^{K \\times K}$ for $i = 1, \\dots, p-1$ are the parameters and $u_t$ is $K$-dimensional white noise. Both $\\alpha$ and $\\beta$ have rank $r$ - then so called cointegration rank."
   ]
  },
  {
   "cell_type": "markdown",
   "id": "7fb82f1e-dfc1-4928-8e3f-4c9c50d57435",
   "metadata": {},
   "source": [
    "## Choose Deterministic Terms"
   ]
  },
  {
   "cell_type": "code",
   "execution_count": 6,
   "id": "2d8dff2b-d72a-44bc-851d-6075a0f44e75",
   "metadata": {},
   "outputs": [],
   "source": [
    "deterministic = \"colo\" # \"n\", \"ci\", \"co\", \"li\", \"lo\""
   ]
  },
  {
   "cell_type": "markdown",
   "id": "733c9792-84cc-4cc8-b4ae-efcc3ccf262a",
   "metadata": {},
   "source": [
    "## Select Lag Order For SP500 and Russell1000"
   ]
  },
  {
   "cell_type": "code",
   "execution_count": 7,
   "id": "e16b181c-209c-458d-92bb-e8290a619c18",
   "metadata": {},
   "outputs": [
    {
     "data": {
      "text/html": [
       "<table class=\"simpletable\">\n",
       "<caption>VECM Order Selection (* highlights the minimums)</caption>\n",
       "<tr>\n",
       "   <td></td>      <th>AIC</th>         <th>BIC</th>         <th>FPE</th>        <th>HQIC</th>    \n",
       "</tr>\n",
       "<tr>\n",
       "  <th>0</th>  <td>    -3.971</td>  <td>    -3.956</td>  <td>   0.01885</td>  <td>    -3.966</td> \n",
       "</tr>\n",
       "<tr>\n",
       "  <th>1</th>  <td>    -4.163</td>  <td>    -4.142</td>  <td>   0.01556</td>  <td>    -4.156</td> \n",
       "</tr>\n",
       "<tr>\n",
       "  <th>2</th>  <td>    -4.237</td>  <td>    -4.209</td>  <td>   0.01445</td>  <td>    -4.227</td> \n",
       "</tr>\n",
       "<tr>\n",
       "  <th>3</th>  <td>    -4.275</td>  <td>    -4.242</td>  <td>   0.01391</td>  <td>    -4.263</td> \n",
       "</tr>\n",
       "<tr>\n",
       "  <th>4</th>  <td>    -4.281</td>  <td>    -4.242</td>  <td>   0.01383</td>  <td>    -4.267</td> \n",
       "</tr>\n",
       "<tr>\n",
       "  <th>5</th>  <td>    -4.289</td>  <td>    -4.244</td>  <td>   0.01372</td>  <td>    -4.273</td> \n",
       "</tr>\n",
       "<tr>\n",
       "  <th>6</th>  <td>    -4.296</td>  <td>    -4.245*</td> <td>   0.01362</td>  <td>    -4.278*</td>\n",
       "</tr>\n",
       "<tr>\n",
       "  <th>7</th>  <td>    -4.295</td>  <td>    -4.237</td>  <td>   0.01364</td>  <td>    -4.275</td> \n",
       "</tr>\n",
       "<tr>\n",
       "  <th>8</th>  <td>    -4.294</td>  <td>    -4.230</td>  <td>   0.01365</td>  <td>    -4.272</td> \n",
       "</tr>\n",
       "<tr>\n",
       "  <th>9</th>  <td>    -4.293</td>  <td>    -4.224</td>  <td>   0.01366</td>  <td>    -4.269</td> \n",
       "</tr>\n",
       "<tr>\n",
       "  <th>10</th> <td>    -4.299*</td> <td>    -4.224</td>  <td>   0.01358*</td> <td>    -4.273</td> \n",
       "</tr>\n",
       "</table>"
      ],
      "text/plain": [
       "<class 'statsmodels.iolib.table.SimpleTable'>"
      ]
     },
     "execution_count": 7,
     "metadata": {},
     "output_type": "execute_result"
    }
   ],
   "source": [
    "# without `.reset_index(drop=True)`: warning - not use date index\n",
    "lag_order = select_order(data=train_df, maxlags=10, deterministic=deterministic)\n",
    "lag_order.summary()"
   ]
  },
  {
   "cell_type": "code",
   "execution_count": 8,
   "id": "63488080-d4e1-4d27-a888-67deadebeb6e",
   "metadata": {},
   "outputs": [
    {
     "name": "stdout",
     "output_type": "stream",
     "text": [
      "<statsmodels.tsa.vector_ar.var_model.LagOrderResults object. Selected orders are: AIC -> 10, BIC -> 6, FPE -> 10, HQIC ->  6>\n"
     ]
    }
   ],
   "source": [
    "print(lag_order)"
   ]
  },
  {
   "cell_type": "code",
   "execution_count": 9,
   "id": "7725fcaa-b364-4364-a281-b381d7769b6a",
   "metadata": {},
   "outputs": [
    {
     "data": {
      "text/plain": [
       "(10, 6, 10, 6)"
      ]
     },
     "execution_count": 9,
     "metadata": {},
     "output_type": "execute_result"
    }
   ],
   "source": [
    "lag_order.aic, lag_order.bic, lag_order.fpe, lag_order.hqic"
   ]
  },
  {
   "cell_type": "markdown",
   "id": "21ba4e1a-8de6-4f1c-a8dd-0239dd6d4df0",
   "metadata": {
    "tags": []
   },
   "source": [
    "## Cointegration Rank"
   ]
  },
  {
   "cell_type": "code",
   "execution_count": 27,
   "id": "93d42279-e5b1-4b6b-a7ec-2a924579f5cf",
   "metadata": {},
   "outputs": [
    {
     "data": {
      "text/plain": [
       "0"
      ]
     },
     "execution_count": 27,
     "metadata": {},
     "output_type": "execute_result"
    }
   ],
   "source": [
    "# `det_order=-1`: no deterministic terms\n",
    "rank_test = select_coint_rank(train_df, det_order=-1, k_ar_diff=lag_order.aic, signif=0.05)\n",
    "rank_test.rank"
   ]
  },
  {
   "cell_type": "code",
   "execution_count": 29,
   "id": "f6aa1d72-81ba-478d-b327-01cc4680b11a",
   "metadata": {},
   "outputs": [
    {
     "data": {
      "text/html": [
       "<table class=\"simpletable\">\n",
       "<caption>Johansen cointegration test using trace test statistic with 5% significance level</caption>\n",
       "<tr>\n",
       "  <th>r_0</th> <th>r_1</th> <th>test statistic</th> <th>critical value</th>\n",
       "</tr>\n",
       "<tr>\n",
       "    <td>0</td>   <td>2</td>          <td>12.11</td>          <td>12.32</td>\n",
       "</tr>\n",
       "</table>"
      ],
      "text/plain": [
       "<class 'statsmodels.iolib.table.SimpleTable'>"
      ]
     },
     "execution_count": 29,
     "metadata": {},
     "output_type": "execute_result"
    }
   ],
   "source": [
    "rank_test.summary()"
   ]
  },
  {
   "cell_type": "markdown",
   "id": "f9f77905-1966-4c24-b5c3-35623754db19",
   "metadata": {},
   "source": [
    "## Error Correction Term Not Statistically Significant -> VAR($\\Delta y_t$)"
   ]
  },
  {
   "cell_type": "code",
   "execution_count": 55,
   "id": "168c9fcb-a69f-442b-928f-254b1d4aecab",
   "metadata": {},
   "outputs": [],
   "source": [
    "train_rtn_df = train_df.pct_change().dropna().reset_index(drop=True)\n",
    "train_rtn_df.columns = [x + \"_rtn\" for x in pair_df.columns]\n",
    "test_rtn_df = test_df.pct_change().dropna().reset_index(drop=True)\n",
    "test_rtn_df.columns = [x + \"_rtn\" for x in pair_df.columns]"
   ]
  },
  {
   "cell_type": "code",
   "execution_count": 60,
   "id": "ee0bfa2e-9c73-4cbe-a196-81e68e1bbda9",
   "metadata": {},
   "outputs": [
    {
     "data": {
      "text/plain": [
       "(-50.685135980170244, 0.0, 1, 'n')"
      ]
     },
     "execution_count": 60,
     "metadata": {},
     "output_type": "execute_result"
    }
   ],
   "source": [
    "sp500_rtn_tsa = TSA(train_rtn_df.sp500_rtn.values)\n",
    "ADF_stats, ADF_p_value, best_lag, terms = sp500_rtn_tsa.ADF_test_complete()\n",
    "ADF_stats, ADF_p_value, best_lag, terms"
   ]
  },
  {
   "cell_type": "code",
   "execution_count": 61,
   "id": "44b0d3f5-a696-4e10-b6c5-f97db3812eb9",
   "metadata": {},
   "outputs": [
    {
     "data": {
      "text/plain": [
       "(-49.616865117337554, 0.0, 1, 'n')"
      ]
     },
     "execution_count": 61,
     "metadata": {},
     "output_type": "execute_result"
    }
   ],
   "source": [
    "russell1000_rtn_tsa = TSA(train_rtn_df.russell1000_rtn.values)\n",
    "ADF_stats, ADF_p_value, best_lag, terms = russell1000_rtn_tsa.ADF_test_complete()\n",
    "ADF_stats, ADF_p_value, best_lag, terms"
   ]
  },
  {
   "cell_type": "markdown",
   "id": "93ae536f-49dc-4712-a88f-974b55964216",
   "metadata": {},
   "source": [
    "Both sp500 return and russell1000 return are stationary.  \n",
    "(Using difference sequences is also reasonable. Here, we just want our variables to have a clearer finanical meaning.)  \n",
    "Then we choose lag order for sp500 return and russell1000 return and build VAR model."
   ]
  },
  {
   "cell_type": "markdown",
   "id": "386f23d5-d9a9-4fba-8af9-aa471acc3897",
   "metadata": {},
   "source": [
    "## Model"
   ]
  },
  {
   "cell_type": "code",
   "execution_count": 79,
   "id": "25c540e6-a542-4dc4-8d8a-51ec47c2fac9",
   "metadata": {},
   "outputs": [],
   "source": [
    "var = VAR(train_rtn_df)\n",
    "var_res = var.fit(maxlags=10, ic=\"aic\") # VAR model chooses best lag order according to `ic` implicitly"
   ]
  },
  {
   "cell_type": "code",
   "execution_count": 80,
   "id": "d17a4403-9318-4ddd-8e76-80ed0e226a77",
   "metadata": {},
   "outputs": [
    {
     "data": {
      "text/plain": [
       "  Summary of Regression Results   \n",
       "==================================\n",
       "Model:                         VAR\n",
       "Method:                        OLS\n",
       "Date:           Thu, 02, Feb, 2023\n",
       "Time:                     19:47:08\n",
       "--------------------------------------------------------------------\n",
       "No. of Equations:         2.00000    BIC:                   -21.0281\n",
       "Nobs:                     4170.00    HQIC:                  -21.0693\n",
       "Log likelihood:           32184.6    FPE:                6.91684e-10\n",
       "AIC:                     -21.0919    Det(Omega_mle):     6.84770e-10\n",
       "--------------------------------------------------------------------\n",
       "Results for equation sp500_rtn\n",
       "======================================================================================\n",
       "                         coefficient       std. error           t-stat            prob\n",
       "--------------------------------------------------------------------------------------\n",
       "const                       0.000298         0.000190            1.568           0.117\n",
       "L1.sp500_rtn               -0.453767         0.086866           -5.224           0.000\n",
       "L1.russell1000_rtn          0.389134         0.087799            4.432           0.000\n",
       "L2.sp500_rtn               -0.702510         0.104537           -6.720           0.000\n",
       "L2.russell1000_rtn          0.637628         0.104763            6.086           0.000\n",
       "L3.sp500_rtn               -0.416839         0.113138           -3.684           0.000\n",
       "L3.russell1000_rtn          0.411618         0.112916            3.645           0.000\n",
       "L4.sp500_rtn               -0.242241         0.117852           -2.055           0.040\n",
       "L4.russell1000_rtn          0.210117         0.117173            1.793           0.073\n",
       "L5.sp500_rtn               -0.164604         0.118837           -1.385           0.166\n",
       "L5.russell1000_rtn          0.107855         0.118094            0.913           0.361\n",
       "L6.sp500_rtn               -0.138926         0.118386           -1.173           0.241\n",
       "L6.russell1000_rtn          0.136313         0.117593            1.159           0.246\n",
       "L7.sp500_rtn                0.007317         0.116803            0.063           0.950\n",
       "L7.russell1000_rtn         -0.035567         0.116044           -0.306           0.759\n",
       "L8.sp500_rtn                0.077751         0.111359            0.698           0.485\n",
       "L8.russell1000_rtn         -0.063567         0.110708           -0.574           0.566\n",
       "L9.sp500_rtn               -0.186373         0.102425           -1.820           0.069\n",
       "L9.russell1000_rtn          0.175852         0.102264            1.720           0.086\n",
       "L10.sp500_rtn              -0.130024         0.085406           -1.522           0.128\n",
       "L10.russell1000_rtn         0.138912         0.085204            1.630           0.103\n",
       "======================================================================================\n",
       "\n",
       "Results for equation russell1000_rtn\n",
       "======================================================================================\n",
       "                         coefficient       std. error           t-stat            prob\n",
       "--------------------------------------------------------------------------------------\n",
       "const                       0.000301         0.000188            1.600           0.110\n",
       "L1.sp500_rtn                0.233410         0.085949            2.716           0.007\n",
       "L1.russell1000_rtn         -0.287089         0.086871           -3.305           0.001\n",
       "L2.sp500_rtn               -0.186883         0.103433           -1.807           0.071\n",
       "L2.russell1000_rtn          0.130873         0.103657            1.263           0.207\n",
       "L3.sp500_rtn               -0.024193         0.111943           -0.216           0.829\n",
       "L3.russell1000_rtn          0.039038         0.111723            0.349           0.727\n",
       "L4.sp500_rtn                0.023785         0.116607            0.204           0.838\n",
       "L4.russell1000_rtn         -0.048772         0.115936           -0.421           0.674\n",
       "L5.sp500_rtn                0.051955         0.117582            0.442           0.659\n",
       "L5.russell1000_rtn         -0.099320         0.116846           -0.850           0.395\n",
       "L6.sp500_rtn                0.031597         0.117136            0.270           0.787\n",
       "L6.russell1000_rtn         -0.032204         0.116351           -0.277           0.782\n",
       "L7.sp500_rtn                0.106237         0.115570            0.919           0.358\n",
       "L7.russell1000_rtn         -0.131226         0.114818           -1.143           0.253\n",
       "L8.sp500_rtn                0.171552         0.110183            1.557           0.119\n",
       "L8.russell1000_rtn         -0.154869         0.109538           -1.414           0.157\n",
       "L9.sp500_rtn               -0.082086         0.101343           -0.810           0.418\n",
       "L9.russell1000_rtn          0.076797         0.101184            0.759           0.448\n",
       "L10.sp500_rtn              -0.046729         0.084504           -0.553           0.580\n",
       "L10.russell1000_rtn         0.072726         0.084304            0.863           0.388\n",
       "======================================================================================\n",
       "\n",
       "Correlation matrix of residuals\n",
       "                   sp500_rtn  russell1000_rtn\n",
       "sp500_rtn           1.000000         0.984200\n",
       "russell1000_rtn     0.984200         1.000000\n",
       "\n"
      ]
     },
     "execution_count": 80,
     "metadata": {},
     "output_type": "execute_result"
    }
   ],
   "source": [
    "var_res.summary()"
   ]
  },
  {
   "cell_type": "markdown",
   "id": "bbe741d1-b9cc-4043-b2e3-78fbf2512c39",
   "metadata": {},
   "source": [
    "## Forecast"
   ]
  },
  {
   "cell_type": "code",
   "execution_count": 81,
   "id": "cc759395-b7fb-462e-85da-338ef19f77c0",
   "metadata": {},
   "outputs": [
    {
     "data": {
      "text/plain": [
       "10"
      ]
     },
     "execution_count": 81,
     "metadata": {},
     "output_type": "execute_result"
    }
   ],
   "source": [
    "lag_order = var_res.k_ar\n",
    "lag_order"
   ]
  },
  {
   "cell_type": "code",
   "execution_count": 84,
   "id": "fd1430cd-9060-4651-b101-9e33ea828b76",
   "metadata": {},
   "outputs": [
    {
     "data": {
      "text/plain": [
       "array([[0.00061862, 0.00053873],\n",
       "       [0.00051399, 0.00065487],\n",
       "       [0.00071225, 0.00065491],\n",
       "       [0.00027241, 0.00027417],\n",
       "       [0.00058742, 0.00058941]])"
      ]
     },
     "execution_count": 84,
     "metadata": {},
     "output_type": "execute_result"
    }
   ],
   "source": [
    "var_res.forecast(train_rtn_df.iloc[-lag_order:].values, steps=5)"
   ]
  },
  {
   "cell_type": "code",
   "execution_count": null,
   "id": "537833e1-3cd4-44ce-a39b-fadef913fe09",
   "metadata": {},
   "outputs": [],
   "source": []
  },
  {
   "cell_type": "code",
   "execution_count": null,
   "id": "25188ef2-baa8-4732-89a1-de2889452193",
   "metadata": {},
   "outputs": [],
   "source": []
  },
  {
   "cell_type": "markdown",
   "id": "7ea3e898-914c-46f0-89ac-9c6faef611d0",
   "metadata": {},
   "source": [
    "**Question:**  \n",
    "Why is error correction term statistically significant for sp500 and russell2000 pair, but not statistically significant for sp500 and russell1000 pair?"
   ]
  },
  {
   "cell_type": "markdown",
   "id": "6a88dc18-73c2-4620-b945-44125aa70b22",
   "metadata": {},
   "source": [
    "**My Answer:**  \n",
    "Because error correction term captures the correlation between large cap stocks, while there is a big overlap on constiuent stocks for sp500 and russell1000 and remaining information captured by error correction term is insignificant for indices pnl."
   ]
  },
  {
   "cell_type": "code",
   "execution_count": null,
   "id": "bcc2d673-b45d-46b3-946d-4d2b3ff8857c",
   "metadata": {},
   "outputs": [],
   "source": []
  }
 ],
 "metadata": {
  "kernelspec": {
   "display_name": "Python 3 (ipykernel)",
   "language": "python",
   "name": "python3"
  },
  "language_info": {
   "codemirror_mode": {
    "name": "ipython",
    "version": 3
   },
   "file_extension": ".py",
   "mimetype": "text/x-python",
   "name": "python",
   "nbconvert_exporter": "python",
   "pygments_lexer": "ipython3",
   "version": "3.9.13"
  }
 },
 "nbformat": 4,
 "nbformat_minor": 5
}
