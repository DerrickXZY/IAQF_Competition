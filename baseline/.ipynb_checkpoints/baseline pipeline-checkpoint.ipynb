{
 "cells": [
  {
   "cell_type": "code",
   "execution_count": 1,
   "id": "f8bd3229-4062-454c-bbef-692438ed3d89",
   "metadata": {},
   "outputs": [],
   "source": [
    "import numpy as np\n",
    "import pandas as pd\n",
    "import yfinance as yf\n",
    "import statsmodels.api as sm\n",
    "from statsmodels.tsa.vector_ar.vecm import VECM, select_order, select_coint_rank, coint_johansen\n",
    "from time_series_utils import TSA\n",
    "import matplotlib.pyplot as plt"
   ]
  },
  {
   "cell_type": "code",
   "execution_count": 2,
   "id": "e56ef41c-0d09-4078-b352-7acab41cf9a9",
   "metadata": {},
   "outputs": [],
   "source": [
    "start_date = pd.Timestamp(\"2000-01-01\")\n",
    "end_date = pd.Timestamp(\"2019-12-31\")"
   ]
  },
  {
   "cell_type": "code",
   "execution_count": 3,
   "id": "1c59b745-e712-47f0-8bab-409f7d29cca1",
   "metadata": {},
   "outputs": [
    {
     "name": "stdout",
     "output_type": "stream",
     "text": [
      "[*********************100%***********************]  1 of 1 completed\n",
      "[*********************100%***********************]  1 of 1 completed\n"
     ]
    },
    {
     "data": {
      "text/html": [
       "<div>\n",
       "<style scoped>\n",
       "    .dataframe tbody tr th:only-of-type {\n",
       "        vertical-align: middle;\n",
       "    }\n",
       "\n",
       "    .dataframe tbody tr th {\n",
       "        vertical-align: top;\n",
       "    }\n",
       "\n",
       "    .dataframe thead th {\n",
       "        text-align: right;\n",
       "    }\n",
       "</style>\n",
       "<table border=\"1\" class=\"dataframe\">\n",
       "  <thead>\n",
       "    <tr style=\"text-align: right;\">\n",
       "      <th></th>\n",
       "      <th>Open</th>\n",
       "      <th>High</th>\n",
       "      <th>Low</th>\n",
       "      <th>Close</th>\n",
       "      <th>Adj Close</th>\n",
       "      <th>Volume</th>\n",
       "    </tr>\n",
       "    <tr>\n",
       "      <th>Date</th>\n",
       "      <th></th>\n",
       "      <th></th>\n",
       "      <th></th>\n",
       "      <th></th>\n",
       "      <th></th>\n",
       "      <th></th>\n",
       "    </tr>\n",
       "  </thead>\n",
       "  <tbody>\n",
       "    <tr>\n",
       "      <th>2000-01-03 00:00:00-05:00</th>\n",
       "      <td>148.25000</td>\n",
       "      <td>148.25000</td>\n",
       "      <td>143.875000</td>\n",
       "      <td>145.4375</td>\n",
       "      <td>95.308784</td>\n",
       "      <td>8164300</td>\n",
       "    </tr>\n",
       "    <tr>\n",
       "      <th>2000-01-04 00:00:00-05:00</th>\n",
       "      <td>143.53125</td>\n",
       "      <td>144.06250</td>\n",
       "      <td>139.640625</td>\n",
       "      <td>139.7500</td>\n",
       "      <td>91.581642</td>\n",
       "      <td>8089800</td>\n",
       "    </tr>\n",
       "    <tr>\n",
       "      <th>2000-01-05 00:00:00-05:00</th>\n",
       "      <td>139.93750</td>\n",
       "      <td>141.53125</td>\n",
       "      <td>137.250000</td>\n",
       "      <td>140.0000</td>\n",
       "      <td>91.745483</td>\n",
       "      <td>12177900</td>\n",
       "    </tr>\n",
       "    <tr>\n",
       "      <th>2000-01-06 00:00:00-05:00</th>\n",
       "      <td>139.62500</td>\n",
       "      <td>141.50000</td>\n",
       "      <td>137.750000</td>\n",
       "      <td>137.7500</td>\n",
       "      <td>90.271011</td>\n",
       "      <td>6227200</td>\n",
       "    </tr>\n",
       "    <tr>\n",
       "      <th>2000-01-07 00:00:00-05:00</th>\n",
       "      <td>140.31250</td>\n",
       "      <td>145.75000</td>\n",
       "      <td>140.062500</td>\n",
       "      <td>145.7500</td>\n",
       "      <td>95.513603</td>\n",
       "      <td>8066500</td>\n",
       "    </tr>\n",
       "  </tbody>\n",
       "</table>\n",
       "</div>"
      ],
      "text/plain": [
       "                                Open       High         Low     Close  \\\n",
       "Date                                                                    \n",
       "2000-01-03 00:00:00-05:00  148.25000  148.25000  143.875000  145.4375   \n",
       "2000-01-04 00:00:00-05:00  143.53125  144.06250  139.640625  139.7500   \n",
       "2000-01-05 00:00:00-05:00  139.93750  141.53125  137.250000  140.0000   \n",
       "2000-01-06 00:00:00-05:00  139.62500  141.50000  137.750000  137.7500   \n",
       "2000-01-07 00:00:00-05:00  140.31250  145.75000  140.062500  145.7500   \n",
       "\n",
       "                           Adj Close    Volume  \n",
       "Date                                            \n",
       "2000-01-03 00:00:00-05:00  95.308784   8164300  \n",
       "2000-01-04 00:00:00-05:00  91.581642   8089800  \n",
       "2000-01-05 00:00:00-05:00  91.745483  12177900  \n",
       "2000-01-06 00:00:00-05:00  90.271011   6227200  \n",
       "2000-01-07 00:00:00-05:00  95.513603   8066500  "
      ]
     },
     "metadata": {},
     "output_type": "display_data"
    },
    {
     "data": {
      "text/html": [
       "<div>\n",
       "<style scoped>\n",
       "    .dataframe tbody tr th:only-of-type {\n",
       "        vertical-align: middle;\n",
       "    }\n",
       "\n",
       "    .dataframe tbody tr th {\n",
       "        vertical-align: top;\n",
       "    }\n",
       "\n",
       "    .dataframe thead th {\n",
       "        text-align: right;\n",
       "    }\n",
       "</style>\n",
       "<table border=\"1\" class=\"dataframe\">\n",
       "  <thead>\n",
       "    <tr style=\"text-align: right;\">\n",
       "      <th></th>\n",
       "      <th>Open</th>\n",
       "      <th>High</th>\n",
       "      <th>Low</th>\n",
       "      <th>Close</th>\n",
       "      <th>Adj Close</th>\n",
       "      <th>Volume</th>\n",
       "    </tr>\n",
       "    <tr>\n",
       "      <th>Date</th>\n",
       "      <th></th>\n",
       "      <th></th>\n",
       "      <th></th>\n",
       "      <th></th>\n",
       "      <th></th>\n",
       "      <th></th>\n",
       "    </tr>\n",
       "  </thead>\n",
       "  <tbody>\n",
       "    <tr>\n",
       "      <th>2000-05-26 00:00:00-04:00</th>\n",
       "      <td>45.531250</td>\n",
       "      <td>45.71875</td>\n",
       "      <td>45.312500</td>\n",
       "      <td>45.718750</td>\n",
       "      <td>33.982517</td>\n",
       "      <td>74800</td>\n",
       "    </tr>\n",
       "    <tr>\n",
       "      <th>2000-05-30 00:00:00-04:00</th>\n",
       "      <td>46.375000</td>\n",
       "      <td>47.40625</td>\n",
       "      <td>46.375000</td>\n",
       "      <td>47.406250</td>\n",
       "      <td>35.236813</td>\n",
       "      <td>57600</td>\n",
       "    </tr>\n",
       "    <tr>\n",
       "      <th>2000-05-31 00:00:00-04:00</th>\n",
       "      <td>47.562500</td>\n",
       "      <td>48.18750</td>\n",
       "      <td>47.562500</td>\n",
       "      <td>47.578125</td>\n",
       "      <td>35.364586</td>\n",
       "      <td>36000</td>\n",
       "    </tr>\n",
       "    <tr>\n",
       "      <th>2000-06-01 00:00:00-04:00</th>\n",
       "      <td>48.554688</td>\n",
       "      <td>48.65625</td>\n",
       "      <td>48.554688</td>\n",
       "      <td>48.656250</td>\n",
       "      <td>36.165955</td>\n",
       "      <td>7000</td>\n",
       "    </tr>\n",
       "    <tr>\n",
       "      <th>2000-06-02 00:00:00-04:00</th>\n",
       "      <td>50.859375</td>\n",
       "      <td>51.18750</td>\n",
       "      <td>50.859375</td>\n",
       "      <td>51.187500</td>\n",
       "      <td>38.047401</td>\n",
       "      <td>29400</td>\n",
       "    </tr>\n",
       "  </tbody>\n",
       "</table>\n",
       "</div>"
      ],
      "text/plain": [
       "                                Open      High        Low      Close  \\\n",
       "Date                                                                   \n",
       "2000-05-26 00:00:00-04:00  45.531250  45.71875  45.312500  45.718750   \n",
       "2000-05-30 00:00:00-04:00  46.375000  47.40625  46.375000  47.406250   \n",
       "2000-05-31 00:00:00-04:00  47.562500  48.18750  47.562500  47.578125   \n",
       "2000-06-01 00:00:00-04:00  48.554688  48.65625  48.554688  48.656250   \n",
       "2000-06-02 00:00:00-04:00  50.859375  51.18750  50.859375  51.187500   \n",
       "\n",
       "                           Adj Close  Volume  \n",
       "Date                                          \n",
       "2000-05-26 00:00:00-04:00  33.982517   74800  \n",
       "2000-05-30 00:00:00-04:00  35.236813   57600  \n",
       "2000-05-31 00:00:00-04:00  35.364586   36000  \n",
       "2000-06-01 00:00:00-04:00  36.165955    7000  \n",
       "2000-06-02 00:00:00-04:00  38.047401   29400  "
      ]
     },
     "metadata": {},
     "output_type": "display_data"
    },
    {
     "data": {
      "text/plain": [
       "(5030, 4929)"
      ]
     },
     "execution_count": 3,
     "metadata": {},
     "output_type": "execute_result"
    }
   ],
   "source": [
    "# \"SPY\": SPDR S&P 500 ETF Trust\n",
    "# \"IWM\": iShares Russell 2000 ETF \n",
    "sp500_df = yf.download(\"SPY\", start=start_date, end=end_date)\n",
    "russell2000_df = yf.download(\"IWM\", start=start_date, end=end_date)\n",
    "display(sp500_df.head())\n",
    "display(russell2000_df.head())\n",
    "sp500_df.shape[0], russell2000_df.shape[0]"
   ]
  },
  {
   "cell_type": "code",
   "execution_count": 4,
   "id": "26be9b55-3a6e-476b-8258-cdc303910680",
   "metadata": {},
   "outputs": [
    {
     "data": {
      "text/html": [
       "<div>\n",
       "<style scoped>\n",
       "    .dataframe tbody tr th:only-of-type {\n",
       "        vertical-align: middle;\n",
       "    }\n",
       "\n",
       "    .dataframe tbody tr th {\n",
       "        vertical-align: top;\n",
       "    }\n",
       "\n",
       "    .dataframe thead th {\n",
       "        text-align: right;\n",
       "    }\n",
       "</style>\n",
       "<table border=\"1\" class=\"dataframe\">\n",
       "  <thead>\n",
       "    <tr style=\"text-align: right;\">\n",
       "      <th></th>\n",
       "      <th>sp500</th>\n",
       "      <th>russell2000</th>\n",
       "    </tr>\n",
       "    <tr>\n",
       "      <th>Date</th>\n",
       "      <th></th>\n",
       "      <th></th>\n",
       "    </tr>\n",
       "  </thead>\n",
       "  <tbody>\n",
       "    <tr>\n",
       "      <th>2000-05-26 00:00:00-04:00</th>\n",
       "      <td>90.664650</td>\n",
       "      <td>33.982517</td>\n",
       "    </tr>\n",
       "    <tr>\n",
       "      <th>2000-05-30 00:00:00-04:00</th>\n",
       "      <td>93.621147</td>\n",
       "      <td>35.236813</td>\n",
       "    </tr>\n",
       "    <tr>\n",
       "      <th>2000-05-31 00:00:00-04:00</th>\n",
       "      <td>93.826439</td>\n",
       "      <td>35.364586</td>\n",
       "    </tr>\n",
       "    <tr>\n",
       "      <th>2000-06-01 00:00:00-04:00</th>\n",
       "      <td>95.468918</td>\n",
       "      <td>36.165955</td>\n",
       "    </tr>\n",
       "    <tr>\n",
       "      <th>2000-06-02 00:00:00-04:00</th>\n",
       "      <td>97.131912</td>\n",
       "      <td>38.047401</td>\n",
       "    </tr>\n",
       "    <tr>\n",
       "      <th>...</th>\n",
       "      <td>...</td>\n",
       "      <td>...</td>\n",
       "    </tr>\n",
       "    <tr>\n",
       "      <th>2019-12-23 00:00:00-05:00</th>\n",
       "      <td>306.215424</td>\n",
       "      <td>160.106979</td>\n",
       "    </tr>\n",
       "    <tr>\n",
       "      <th>2019-12-24 00:00:00-05:00</th>\n",
       "      <td>306.224884</td>\n",
       "      <td>160.472794</td>\n",
       "    </tr>\n",
       "    <tr>\n",
       "      <th>2019-12-26 00:00:00-05:00</th>\n",
       "      <td>307.855072</td>\n",
       "      <td>160.472794</td>\n",
       "    </tr>\n",
       "    <tr>\n",
       "      <th>2019-12-27 00:00:00-05:00</th>\n",
       "      <td>307.778778</td>\n",
       "      <td>159.683350</td>\n",
       "    </tr>\n",
       "    <tr>\n",
       "      <th>2019-12-30 00:00:00-05:00</th>\n",
       "      <td>306.081940</td>\n",
       "      <td>159.278976</td>\n",
       "    </tr>\n",
       "  </tbody>\n",
       "</table>\n",
       "<p>4929 rows × 2 columns</p>\n",
       "</div>"
      ],
      "text/plain": [
       "                                sp500  russell2000\n",
       "Date                                              \n",
       "2000-05-26 00:00:00-04:00   90.664650    33.982517\n",
       "2000-05-30 00:00:00-04:00   93.621147    35.236813\n",
       "2000-05-31 00:00:00-04:00   93.826439    35.364586\n",
       "2000-06-01 00:00:00-04:00   95.468918    36.165955\n",
       "2000-06-02 00:00:00-04:00   97.131912    38.047401\n",
       "...                               ...          ...\n",
       "2019-12-23 00:00:00-05:00  306.215424   160.106979\n",
       "2019-12-24 00:00:00-05:00  306.224884   160.472794\n",
       "2019-12-26 00:00:00-05:00  307.855072   160.472794\n",
       "2019-12-27 00:00:00-05:00  307.778778   159.683350\n",
       "2019-12-30 00:00:00-05:00  306.081940   159.278976\n",
       "\n",
       "[4929 rows x 2 columns]"
      ]
     },
     "execution_count": 4,
     "metadata": {},
     "output_type": "execute_result"
    }
   ],
   "source": [
    "sp500 = sp500_df[\"Adj Close\"]\n",
    "russell2000 = russell2000_df[\"Adj Close\"]\n",
    "pair_df = pd.concat([sp500, russell2000], axis=1, join=\"inner\")\n",
    "pair_df.columns = [\"sp500\", \"russell2000\"]\n",
    "pair_df"
   ]
  },
  {
   "cell_type": "code",
   "execution_count": 5,
   "id": "c627320e-aaa0-4ad4-9f35-002451c3d56f",
   "metadata": {},
   "outputs": [],
   "source": [
    "train_df = pair_df.loc[pair_df.index < \"2017-01-01\"].reset_index(drop=True)\n",
    "test_df = pair_df.loc[pair_df.index >= \"2017-01-01\"].reset_index(drop=True)"
   ]
  },
  {
   "cell_type": "markdown",
   "id": "1b7af0a2-9e30-431f-9c04-44dac7e49d51",
   "metadata": {
    "tags": []
   },
   "source": [
    "# VECM / VAR (SP500 & Russell2000)"
   ]
  },
  {
   "cell_type": "markdown",
   "id": "974f2eff-b9df-4b25-9957-e143ced87306",
   "metadata": {},
   "source": [
    "$$\\Delta y_t = \\alpha \\beta^T y_{t-1} + \\Gamma_1 \\Delta y_{t-1} + \\dots + \\Gamma_{p-1} \\Delta y_{t-p+1} + u_t$$\n",
    "where $\\alpha, \\beta \\in \\mathbb{R}^{K \\times r}$ and $\\Gamma_i \\in \\mathbb{R}^{K \\times K}$ for $i = 1, \\dots, p-1$ are the parameters and $u_t$ is $K$-dimensional white noise. Both $\\alpha$ and $\\beta$ have rank $r$ - then so called cointegration rank."
   ]
  },
  {
   "cell_type": "markdown",
   "id": "7fb82f1e-dfc1-4928-8e3f-4c9c50d57435",
   "metadata": {},
   "source": [
    "## Choose Deterministic Terms"
   ]
  },
  {
   "cell_type": "markdown",
   "id": "6730ba43-99d9-499b-a024-2e9eaab5c837",
   "metadata": {},
   "source": [
    "**Logic:**  \n",
    "sp500 and russell2000 are stock indices, so their movements are both triggered by their constitutent stock prices. With a regression coefficient $k$, residual $sp500 - k \\times russell2000$, also error correction term, stands for excess profit of investing sp500 over russell2000. (Here, $k$ converts sp500 and russell2000 into the same scale.) Therefore, there is no need to add constand and or trend term inside cointegration relation.  \n",
    "\n",
    "Outside cointegration relation, the financial meaning of VECM is clear. If we look at the first row of VECM, it shows that pnl of sp500 is influenced by the long-term excess profit of sp500 over russell2000 and the recent performance of sp500 and russell2000. So, there is no need to add constant or trend term outside cointegration relation.\n",
    "\n",
    "This logic can also be applied to other stock indices.  "
   ]
  },
  {
   "cell_type": "code",
   "execution_count": 6,
   "id": "2d8dff2b-d72a-44bc-851d-6075a0f44e75",
   "metadata": {},
   "outputs": [],
   "source": [
    "deterministic = \"n\" # \"n\", \"ci\", \"co\", \"li\", \"lo\""
   ]
  },
  {
   "cell_type": "markdown",
   "id": "733c9792-84cc-4cc8-b4ae-efcc3ccf262a",
   "metadata": {},
   "source": [
    "## Select Lag Order"
   ]
  },
  {
   "cell_type": "code",
   "execution_count": 7,
   "id": "e16b181c-209c-458d-92bb-e8290a619c18",
   "metadata": {},
   "outputs": [
    {
     "data": {
      "text/html": [
       "<table class=\"simpletable\">\n",
       "<caption>VECM Order Selection (* highlights the minimums)</caption>\n",
       "<tr>\n",
       "   <td></td>      <th>AIC</th>         <th>BIC</th>         <th>FPE</th>        <th>HQIC</th>    \n",
       "</tr>\n",
       "<tr>\n",
       "  <th>0</th>  <td>    -1.551</td>  <td>    -1.542*</td> <td>    0.2119</td>  <td>    -1.548</td> \n",
       "</tr>\n",
       "<tr>\n",
       "  <th>1</th>  <td>    -1.553</td>  <td>    -1.537</td>  <td>    0.2117</td>  <td>    -1.547</td> \n",
       "</tr>\n",
       "<tr>\n",
       "  <th>2</th>  <td>    -1.559</td>  <td>    -1.538</td>  <td>    0.2103</td>  <td>    -1.552*</td>\n",
       "</tr>\n",
       "<tr>\n",
       "  <th>3</th>  <td>    -1.559</td>  <td>    -1.532</td>  <td>    0.2103</td>  <td>    -1.550</td> \n",
       "</tr>\n",
       "<tr>\n",
       "  <th>4</th>  <td>    -1.559</td>  <td>    -1.526</td>  <td>    0.2103</td>  <td>    -1.548</td> \n",
       "</tr>\n",
       "<tr>\n",
       "  <th>5</th>  <td>    -1.560*</td> <td>    -1.520</td>  <td>    0.2102*</td> <td>    -1.546</td> \n",
       "</tr>\n",
       "<tr>\n",
       "  <th>6</th>  <td>    -1.559</td>  <td>    -1.513</td>  <td>    0.2104</td>  <td>    -1.543</td> \n",
       "</tr>\n",
       "<tr>\n",
       "  <th>7</th>  <td>    -1.557</td>  <td>    -1.506</td>  <td>    0.2107</td>  <td>    -1.539</td> \n",
       "</tr>\n",
       "<tr>\n",
       "  <th>8</th>  <td>    -1.557</td>  <td>    -1.499</td>  <td>    0.2108</td>  <td>    -1.536</td> \n",
       "</tr>\n",
       "<tr>\n",
       "  <th>9</th>  <td>    -1.556</td>  <td>    -1.492</td>  <td>    0.2110</td>  <td>    -1.533</td> \n",
       "</tr>\n",
       "<tr>\n",
       "  <th>10</th> <td>    -1.555</td>  <td>    -1.485</td>  <td>    0.2112</td>  <td>    -1.530</td> \n",
       "</tr>\n",
       "</table>"
      ],
      "text/plain": [
       "<class 'statsmodels.iolib.table.SimpleTable'>"
      ]
     },
     "execution_count": 7,
     "metadata": {},
     "output_type": "execute_result"
    }
   ],
   "source": [
    "# without `.reset_index(drop=True)`: warning - not use date index\n",
    "lag_order = select_order(data=train_df, maxlags=10, deterministic=deterministic)\n",
    "lag_order.summary()"
   ]
  },
  {
   "cell_type": "code",
   "execution_count": 8,
   "id": "63488080-d4e1-4d27-a888-67deadebeb6e",
   "metadata": {},
   "outputs": [
    {
     "name": "stdout",
     "output_type": "stream",
     "text": [
      "<statsmodels.tsa.vector_ar.var_model.LagOrderResults object. Selected orders are: AIC -> 5, BIC -> 0, FPE -> 5, HQIC ->  2>\n"
     ]
    }
   ],
   "source": [
    "print(lag_order)"
   ]
  },
  {
   "cell_type": "code",
   "execution_count": 9,
   "id": "7725fcaa-b364-4364-a281-b381d7769b6a",
   "metadata": {},
   "outputs": [
    {
     "data": {
      "text/plain": [
       "(5, 0, 5, 2)"
      ]
     },
     "execution_count": 9,
     "metadata": {},
     "output_type": "execute_result"
    }
   ],
   "source": [
    "lag_order.aic, lag_order.bic, lag_order.fpe, lag_order.hqic"
   ]
  },
  {
   "cell_type": "markdown",
   "id": "21ba4e1a-8de6-4f1c-a8dd-0239dd6d4df0",
   "metadata": {},
   "source": [
    "## Cointegration Rank"
   ]
  },
  {
   "cell_type": "code",
   "execution_count": 10,
   "id": "f84fe114-9124-475f-af1c-037832b56b63",
   "metadata": {},
   "outputs": [
    {
     "data": {
      "text/plain": [
       "1"
      ]
     },
     "execution_count": 10,
     "metadata": {},
     "output_type": "execute_result"
    }
   ],
   "source": [
    "# `det_order=-1`: no deterministic terms\n",
    "rank_test = select_coint_rank(train_df, det_order=-1, k_ar_diff=lag_order.aic, signif=0.05)\n",
    "rank_test.rank"
   ]
  },
  {
   "cell_type": "code",
   "execution_count": 11,
   "id": "f6aa1d72-81ba-478d-b327-01cc4680b11a",
   "metadata": {},
   "outputs": [
    {
     "data": {
      "text/html": [
       "<table class=\"simpletable\">\n",
       "<caption>Johansen cointegration test using trace test statistic with 5% significance level</caption>\n",
       "<tr>\n",
       "  <th>r_0</th> <th>r_1</th> <th>test statistic</th> <th>critical value</th>\n",
       "</tr>\n",
       "<tr>\n",
       "    <td>0</td>   <td>2</td>          <td>17.87</td>          <td>12.32</td>\n",
       "</tr>\n",
       "<tr>\n",
       "    <td>1</td>   <td>2</td>          <td>3.588</td>          <td>4.130</td>\n",
       "</tr>\n",
       "</table>"
      ],
      "text/plain": [
       "<class 'statsmodels.iolib.table.SimpleTable'>"
      ]
     },
     "execution_count": 11,
     "metadata": {},
     "output_type": "execute_result"
    }
   ],
   "source": [
    "rank_test.summary()"
   ]
  },
  {
   "cell_type": "markdown",
   "id": "386f23d5-d9a9-4fba-8af9-aa471acc3897",
   "metadata": {},
   "source": [
    "## Model"
   ]
  },
  {
   "cell_type": "code",
   "execution_count": 12,
   "id": "cb0997e4-6ff7-45ea-b86f-7d58aa3507a5",
   "metadata": {},
   "outputs": [],
   "source": [
    "vecm = VECM(train_df, \n",
    "            k_ar_diff=lag_order.aic, \n",
    "            coint_rank=rank_test.rank,\n",
    "            deterministic=deterministic)"
   ]
  },
  {
   "cell_type": "code",
   "execution_count": 13,
   "id": "c7b099e8-d3dc-4339-b3de-6546512e2ef9",
   "metadata": {},
   "outputs": [
    {
     "data": {
      "text/html": [
       "<table class=\"simpletable\">\n",
       "<caption>Det. terms outside the coint. relation & lagged endog. parameters for equation sp500</caption>\n",
       "<tr>\n",
       "         <td></td>           <th>coef</th>     <th>std err</th>      <th>z</th>      <th>P>|z|</th>  <th>[0.025</th>    <th>0.975]</th>  \n",
       "</tr>\n",
       "<tr>\n",
       "  <th>L1.sp500</th>       <td>   -0.0739</td> <td>    0.033</td> <td>   -2.216</td> <td> 0.027</td> <td>   -0.139</td> <td>   -0.009</td>\n",
       "</tr>\n",
       "<tr>\n",
       "  <th>L1.russell2000</th> <td>    0.0314</td> <td>    0.045</td> <td>    0.699</td> <td> 0.484</td> <td>   -0.057</td> <td>    0.119</td>\n",
       "</tr>\n",
       "<tr>\n",
       "  <th>L2.sp500</th>       <td>   -0.1137</td> <td>    0.033</td> <td>   -3.408</td> <td> 0.001</td> <td>   -0.179</td> <td>   -0.048</td>\n",
       "</tr>\n",
       "<tr>\n",
       "  <th>L2.russell2000</th> <td>    0.0937</td> <td>    0.045</td> <td>    2.091</td> <td> 0.037</td> <td>    0.006</td> <td>    0.182</td>\n",
       "</tr>\n",
       "<tr>\n",
       "  <th>L3.sp500</th>       <td>   -0.0107</td> <td>    0.033</td> <td>   -0.319</td> <td> 0.750</td> <td>   -0.076</td> <td>    0.055</td>\n",
       "</tr>\n",
       "<tr>\n",
       "  <th>L3.russell2000</th> <td>   -0.0007</td> <td>    0.045</td> <td>   -0.016</td> <td> 0.987</td> <td>   -0.089</td> <td>    0.087</td>\n",
       "</tr>\n",
       "<tr>\n",
       "  <th>L4.sp500</th>       <td>   -0.0466</td> <td>    0.033</td> <td>   -1.397</td> <td> 0.162</td> <td>   -0.112</td> <td>    0.019</td>\n",
       "</tr>\n",
       "<tr>\n",
       "  <th>L4.russell2000</th> <td>    0.0332</td> <td>    0.045</td> <td>    0.742</td> <td> 0.458</td> <td>   -0.054</td> <td>    0.121</td>\n",
       "</tr>\n",
       "<tr>\n",
       "  <th>L5.sp500</th>       <td>   -0.0007</td> <td>    0.033</td> <td>   -0.020</td> <td> 0.984</td> <td>   -0.066</td> <td>    0.065</td>\n",
       "</tr>\n",
       "<tr>\n",
       "  <th>L5.russell2000</th> <td>   -0.0604</td> <td>    0.045</td> <td>   -1.351</td> <td> 0.177</td> <td>   -0.148</td> <td>    0.027</td>\n",
       "</tr>\n",
       "</table>\n",
       "<table class=\"simpletable\">\n",
       "<caption>Det. terms outside the coint. relation & lagged endog. parameters for equation russell2000</caption>\n",
       "<tr>\n",
       "         <td></td>           <th>coef</th>     <th>std err</th>      <th>z</th>      <th>P>|z|</th>  <th>[0.025</th>    <th>0.975]</th>  \n",
       "</tr>\n",
       "<tr>\n",
       "  <th>L1.sp500</th>       <td>   -0.0354</td> <td>    0.025</td> <td>   -1.427</td> <td> 0.154</td> <td>   -0.084</td> <td>    0.013</td>\n",
       "</tr>\n",
       "<tr>\n",
       "  <th>L1.russell2000</th> <td>   -0.0008</td> <td>    0.033</td> <td>   -0.025</td> <td> 0.980</td> <td>   -0.066</td> <td>    0.065</td>\n",
       "</tr>\n",
       "<tr>\n",
       "  <th>L2.sp500</th>       <td>   -0.0329</td> <td>    0.025</td> <td>   -1.323</td> <td> 0.186</td> <td>   -0.082</td> <td>    0.016</td>\n",
       "</tr>\n",
       "<tr>\n",
       "  <th>L2.russell2000</th> <td>    0.0340</td> <td>    0.033</td> <td>    1.019</td> <td> 0.308</td> <td>   -0.031</td> <td>    0.099</td>\n",
       "</tr>\n",
       "<tr>\n",
       "  <th>L3.sp500</th>       <td>    0.0258</td> <td>    0.025</td> <td>    1.037</td> <td> 0.300</td> <td>   -0.023</td> <td>    0.075</td>\n",
       "</tr>\n",
       "<tr>\n",
       "  <th>L3.russell2000</th> <td>   -0.0329</td> <td>    0.033</td> <td>   -0.986</td> <td> 0.324</td> <td>   -0.098</td> <td>    0.032</td>\n",
       "</tr>\n",
       "<tr>\n",
       "  <th>L4.sp500</th>       <td>   -0.0167</td> <td>    0.025</td> <td>   -0.675</td> <td> 0.500</td> <td>   -0.065</td> <td>    0.032</td>\n",
       "</tr>\n",
       "<tr>\n",
       "  <th>L4.russell2000</th> <td>   -0.0081</td> <td>    0.033</td> <td>   -0.243</td> <td> 0.808</td> <td>   -0.073</td> <td>    0.057</td>\n",
       "</tr>\n",
       "<tr>\n",
       "  <th>L5.sp500</th>       <td>    0.0043</td> <td>    0.025</td> <td>    0.175</td> <td> 0.861</td> <td>   -0.044</td> <td>    0.053</td>\n",
       "</tr>\n",
       "<tr>\n",
       "  <th>L5.russell2000</th> <td>   -0.0445</td> <td>    0.033</td> <td>   -1.336</td> <td> 0.181</td> <td>   -0.110</td> <td>    0.021</td>\n",
       "</tr>\n",
       "</table>\n",
       "<table class=\"simpletable\">\n",
       "<caption>Loading coefficients (alpha) for equation sp500</caption>\n",
       "<tr>\n",
       "   <td></td>      <th>coef</th>     <th>std err</th>      <th>z</th>      <th>P>|z|</th>  <th>[0.025</th>    <th>0.975]</th>  \n",
       "</tr>\n",
       "<tr>\n",
       "  <th>ec1</th> <td>   -0.0026</td> <td>    0.002</td> <td>   -1.506</td> <td> 0.132</td> <td>   -0.006</td> <td>    0.001</td>\n",
       "</tr>\n",
       "</table>\n",
       "<table class=\"simpletable\">\n",
       "<caption>Loading coefficients (alpha) for equation russell2000</caption>\n",
       "<tr>\n",
       "   <td></td>      <th>coef</th>     <th>std err</th>      <th>z</th>      <th>P>|z|</th>  <th>[0.025</th>    <th>0.975]</th>  \n",
       "</tr>\n",
       "<tr>\n",
       "  <th>ec1</th> <td>    0.0003</td> <td>    0.001</td> <td>    0.272</td> <td> 0.785</td> <td>   -0.002</td> <td>    0.003</td>\n",
       "</tr>\n",
       "</table>\n",
       "<table class=\"simpletable\">\n",
       "<caption>Cointegration relations for loading-coefficients-column 1</caption>\n",
       "<tr>\n",
       "     <td></td>       <th>coef</th>     <th>std err</th>      <th>z</th>      <th>P>|z|</th>  <th>[0.025</th>    <th>0.975]</th>  \n",
       "</tr>\n",
       "<tr>\n",
       "  <th>beta.1</th> <td>    1.0000</td> <td>        0</td> <td>        0</td> <td> 0.000</td> <td>    1.000</td> <td>    1.000</td>\n",
       "</tr>\n",
       "<tr>\n",
       "  <th>beta.2</th> <td>   -1.7116</td> <td>    0.041</td> <td>  -41.363</td> <td> 0.000</td> <td>   -1.793</td> <td>   -1.630</td>\n",
       "</tr>\n",
       "</table>"
      ],
      "text/plain": [
       "<class 'statsmodels.iolib.summary.Summary'>\n",
       "\"\"\"\n",
       "Det. terms outside the coint. relation & lagged endog. parameters for equation sp500\n",
       "==================================================================================\n",
       "                     coef    std err          z      P>|z|      [0.025      0.975]\n",
       "----------------------------------------------------------------------------------\n",
       "L1.sp500          -0.0739      0.033     -2.216      0.027      -0.139      -0.009\n",
       "L1.russell2000     0.0314      0.045      0.699      0.484      -0.057       0.119\n",
       "L2.sp500          -0.1137      0.033     -3.408      0.001      -0.179      -0.048\n",
       "L2.russell2000     0.0937      0.045      2.091      0.037       0.006       0.182\n",
       "L3.sp500          -0.0107      0.033     -0.319      0.750      -0.076       0.055\n",
       "L3.russell2000    -0.0007      0.045     -0.016      0.987      -0.089       0.087\n",
       "L4.sp500          -0.0466      0.033     -1.397      0.162      -0.112       0.019\n",
       "L4.russell2000     0.0332      0.045      0.742      0.458      -0.054       0.121\n",
       "L5.sp500          -0.0007      0.033     -0.020      0.984      -0.066       0.065\n",
       "L5.russell2000    -0.0604      0.045     -1.351      0.177      -0.148       0.027\n",
       "Det. terms outside the coint. relation & lagged endog. parameters for equation russell2000\n",
       "==================================================================================\n",
       "                     coef    std err          z      P>|z|      [0.025      0.975]\n",
       "----------------------------------------------------------------------------------\n",
       "L1.sp500          -0.0354      0.025     -1.427      0.154      -0.084       0.013\n",
       "L1.russell2000    -0.0008      0.033     -0.025      0.980      -0.066       0.065\n",
       "L2.sp500          -0.0329      0.025     -1.323      0.186      -0.082       0.016\n",
       "L2.russell2000     0.0340      0.033      1.019      0.308      -0.031       0.099\n",
       "L3.sp500           0.0258      0.025      1.037      0.300      -0.023       0.075\n",
       "L3.russell2000    -0.0329      0.033     -0.986      0.324      -0.098       0.032\n",
       "L4.sp500          -0.0167      0.025     -0.675      0.500      -0.065       0.032\n",
       "L4.russell2000    -0.0081      0.033     -0.243      0.808      -0.073       0.057\n",
       "L5.sp500           0.0043      0.025      0.175      0.861      -0.044       0.053\n",
       "L5.russell2000    -0.0445      0.033     -1.336      0.181      -0.110       0.021\n",
       "               Loading coefficients (alpha) for equation sp500                \n",
       "==============================================================================\n",
       "                 coef    std err          z      P>|z|      [0.025      0.975]\n",
       "------------------------------------------------------------------------------\n",
       "ec1           -0.0026      0.002     -1.506      0.132      -0.006       0.001\n",
       "            Loading coefficients (alpha) for equation russell2000             \n",
       "==============================================================================\n",
       "                 coef    std err          z      P>|z|      [0.025      0.975]\n",
       "------------------------------------------------------------------------------\n",
       "ec1            0.0003      0.001      0.272      0.785      -0.002       0.003\n",
       "          Cointegration relations for loading-coefficients-column 1           \n",
       "==============================================================================\n",
       "                 coef    std err          z      P>|z|      [0.025      0.975]\n",
       "------------------------------------------------------------------------------\n",
       "beta.1         1.0000          0          0      0.000       1.000       1.000\n",
       "beta.2        -1.7116      0.041    -41.363      0.000      -1.793      -1.630\n",
       "==============================================================================\n",
       "\"\"\""
      ]
     },
     "execution_count": 13,
     "metadata": {},
     "output_type": "execute_result"
    }
   ],
   "source": [
    "vecm_res = vecm.fit()\n",
    "vecm_res.summary()"
   ]
  },
  {
   "cell_type": "markdown",
   "id": "bbe741d1-b9cc-4043-b2e3-78fbf2512c39",
   "metadata": {},
   "source": [
    "## Forecast"
   ]
  },
  {
   "cell_type": "code",
   "execution_count": 14,
   "id": "fd1430cd-9060-4651-b101-9e33ea828b76",
   "metadata": {},
   "outputs": [
    {
     "data": {
      "text/plain": [
       "array([[201.37700974, 124.89139803],\n",
       "       [201.4437947 , 124.90378792],\n",
       "       [201.55596951, 124.9417114 ],\n",
       "       [201.58487933, 124.94485203],\n",
       "       [201.63053241, 124.95585159]])"
      ]
     },
     "execution_count": 14,
     "metadata": {},
     "output_type": "execute_result"
    }
   ],
   "source": [
    "vecm_res.predict(steps=5)"
   ]
  },
  {
   "cell_type": "code",
   "execution_count": 15,
   "id": "0ee5fc1f-3f80-4eac-a8f3-b62d00478359",
   "metadata": {},
   "outputs": [
    {
     "name": "stdout",
     "output_type": "stream",
     "text": [
      "forecast:\n",
      "[[201.37700974 124.89139803]\n",
      " [201.4437947  124.90378792]\n",
      " [201.55596951 124.9417114 ]\n",
      " [201.58487933 124.94485203]\n",
      " [201.63053241 124.95585159]]\n",
      "lower:\n",
      "[[199.12320046 123.21447279]\n",
      " [198.33948421 122.5826116 ]\n",
      " [197.84844053 122.12231172]\n",
      " [197.36462885 121.70398766]\n",
      " [196.97056885 121.36182567]]\n",
      "upper:\n",
      "[[203.63081901 126.56832327]\n",
      " [204.5481052  127.22496423]\n",
      " [205.2634985  127.76111108]\n",
      " [205.80512982 128.1857164 ]\n",
      " [206.29049598 128.54987751]]\n"
     ]
    }
   ],
   "source": [
    "for text, nd in zip(\n",
    "    [\"forecast\", \"lower\", \"upper\"], \n",
    "    vecm_res.predict(steps=5, alpha=0.05) # 95% confidence level\n",
    "):\n",
    "    print(f\"{text}:\\n{nd}\")"
   ]
  },
  {
   "cell_type": "code",
   "execution_count": null,
   "id": "e8ad2a68-dc01-4b15-b5f4-24718368d3d2",
   "metadata": {},
   "outputs": [],
   "source": []
  },
  {
   "cell_type": "code",
   "execution_count": null,
   "id": "537833e1-3cd4-44ce-a39b-fadef913fe09",
   "metadata": {},
   "outputs": [],
   "source": []
  }
 ],
 "metadata": {
  "kernelspec": {
   "display_name": "Python 3 (ipykernel)",
   "language": "python",
   "name": "python3"
  },
  "language_info": {
   "codemirror_mode": {
    "name": "ipython",
    "version": 3
   },
   "file_extension": ".py",
   "mimetype": "text/x-python",
   "name": "python",
   "nbconvert_exporter": "python",
   "pygments_lexer": "ipython3",
   "version": "3.9.13"
  }
 },
 "nbformat": 4,
 "nbformat_minor": 5
}
