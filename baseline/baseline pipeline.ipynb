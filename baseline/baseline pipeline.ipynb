{
 "cells": [
  {
   "cell_type": "code",
   "execution_count": 1,
   "id": "f8bd3229-4062-454c-bbef-692438ed3d89",
   "metadata": {},
   "outputs": [],
   "source": [
    "import numpy as np\n",
    "import pandas as pd\n",
    "import yfinance as yf\n",
    "import statsmodels.api as sm\n",
    "from statsmodels.tsa.vector_ar.vecm import VECM, select_order, select_coint_rank\n",
    "from time_series_utils import TSA\n",
    "import matplotlib.pyplot as plt"
   ]
  },
  {
   "cell_type": "code",
   "execution_count": 2,
   "id": "e56ef41c-0d09-4078-b352-7acab41cf9a9",
   "metadata": {},
   "outputs": [],
   "source": [
    "start_date = pd.Timestamp(\"2000-01-01\")\n",
    "end_date = pd.Timestamp(\"2019-12-31\")"
   ]
  },
  {
   "cell_type": "code",
   "execution_count": 3,
   "id": "1c59b745-e712-47f0-8bab-409f7d29cca1",
   "metadata": {},
   "outputs": [
    {
     "name": "stdout",
     "output_type": "stream",
     "text": [
      "[*********************100%***********************]  1 of 1 completed\n",
      "[*********************100%***********************]  1 of 1 completed\n"
     ]
    },
    {
     "data": {
      "text/html": [
       "<div>\n",
       "<style scoped>\n",
       "    .dataframe tbody tr th:only-of-type {\n",
       "        vertical-align: middle;\n",
       "    }\n",
       "\n",
       "    .dataframe tbody tr th {\n",
       "        vertical-align: top;\n",
       "    }\n",
       "\n",
       "    .dataframe thead th {\n",
       "        text-align: right;\n",
       "    }\n",
       "</style>\n",
       "<table border=\"1\" class=\"dataframe\">\n",
       "  <thead>\n",
       "    <tr style=\"text-align: right;\">\n",
       "      <th></th>\n",
       "      <th>Open</th>\n",
       "      <th>High</th>\n",
       "      <th>Low</th>\n",
       "      <th>Close</th>\n",
       "      <th>Adj Close</th>\n",
       "      <th>Volume</th>\n",
       "    </tr>\n",
       "    <tr>\n",
       "      <th>Date</th>\n",
       "      <th></th>\n",
       "      <th></th>\n",
       "      <th></th>\n",
       "      <th></th>\n",
       "      <th></th>\n",
       "      <th></th>\n",
       "    </tr>\n",
       "  </thead>\n",
       "  <tbody>\n",
       "    <tr>\n",
       "      <th>2000-01-03 00:00:00-05:00</th>\n",
       "      <td>148.25000</td>\n",
       "      <td>148.25000</td>\n",
       "      <td>143.875000</td>\n",
       "      <td>145.4375</td>\n",
       "      <td>95.308800</td>\n",
       "      <td>8164300</td>\n",
       "    </tr>\n",
       "    <tr>\n",
       "      <th>2000-01-04 00:00:00-05:00</th>\n",
       "      <td>143.53125</td>\n",
       "      <td>144.06250</td>\n",
       "      <td>139.640625</td>\n",
       "      <td>139.7500</td>\n",
       "      <td>91.581642</td>\n",
       "      <td>8089800</td>\n",
       "    </tr>\n",
       "    <tr>\n",
       "      <th>2000-01-05 00:00:00-05:00</th>\n",
       "      <td>139.93750</td>\n",
       "      <td>141.53125</td>\n",
       "      <td>137.250000</td>\n",
       "      <td>140.0000</td>\n",
       "      <td>91.745514</td>\n",
       "      <td>12177900</td>\n",
       "    </tr>\n",
       "    <tr>\n",
       "      <th>2000-01-06 00:00:00-05:00</th>\n",
       "      <td>139.62500</td>\n",
       "      <td>141.50000</td>\n",
       "      <td>137.750000</td>\n",
       "      <td>137.7500</td>\n",
       "      <td>90.270958</td>\n",
       "      <td>6227200</td>\n",
       "    </tr>\n",
       "    <tr>\n",
       "      <th>2000-01-07 00:00:00-05:00</th>\n",
       "      <td>140.31250</td>\n",
       "      <td>145.75000</td>\n",
       "      <td>140.062500</td>\n",
       "      <td>145.7500</td>\n",
       "      <td>95.513596</td>\n",
       "      <td>8066500</td>\n",
       "    </tr>\n",
       "  </tbody>\n",
       "</table>\n",
       "</div>"
      ],
      "text/plain": [
       "                                Open       High         Low     Close  \\\n",
       "Date                                                                    \n",
       "2000-01-03 00:00:00-05:00  148.25000  148.25000  143.875000  145.4375   \n",
       "2000-01-04 00:00:00-05:00  143.53125  144.06250  139.640625  139.7500   \n",
       "2000-01-05 00:00:00-05:00  139.93750  141.53125  137.250000  140.0000   \n",
       "2000-01-06 00:00:00-05:00  139.62500  141.50000  137.750000  137.7500   \n",
       "2000-01-07 00:00:00-05:00  140.31250  145.75000  140.062500  145.7500   \n",
       "\n",
       "                           Adj Close    Volume  \n",
       "Date                                            \n",
       "2000-01-03 00:00:00-05:00  95.308800   8164300  \n",
       "2000-01-04 00:00:00-05:00  91.581642   8089800  \n",
       "2000-01-05 00:00:00-05:00  91.745514  12177900  \n",
       "2000-01-06 00:00:00-05:00  90.270958   6227200  \n",
       "2000-01-07 00:00:00-05:00  95.513596   8066500  "
      ]
     },
     "metadata": {},
     "output_type": "display_data"
    },
    {
     "data": {
      "text/html": [
       "<div>\n",
       "<style scoped>\n",
       "    .dataframe tbody tr th:only-of-type {\n",
       "        vertical-align: middle;\n",
       "    }\n",
       "\n",
       "    .dataframe tbody tr th {\n",
       "        vertical-align: top;\n",
       "    }\n",
       "\n",
       "    .dataframe thead th {\n",
       "        text-align: right;\n",
       "    }\n",
       "</style>\n",
       "<table border=\"1\" class=\"dataframe\">\n",
       "  <thead>\n",
       "    <tr style=\"text-align: right;\">\n",
       "      <th></th>\n",
       "      <th>Open</th>\n",
       "      <th>High</th>\n",
       "      <th>Low</th>\n",
       "      <th>Close</th>\n",
       "      <th>Adj Close</th>\n",
       "      <th>Volume</th>\n",
       "    </tr>\n",
       "    <tr>\n",
       "      <th>Date</th>\n",
       "      <th></th>\n",
       "      <th></th>\n",
       "      <th></th>\n",
       "      <th></th>\n",
       "      <th></th>\n",
       "      <th></th>\n",
       "    </tr>\n",
       "  </thead>\n",
       "  <tbody>\n",
       "    <tr>\n",
       "      <th>2000-05-26 00:00:00-04:00</th>\n",
       "      <td>45.531250</td>\n",
       "      <td>45.71875</td>\n",
       "      <td>45.312500</td>\n",
       "      <td>45.718750</td>\n",
       "      <td>33.982506</td>\n",
       "      <td>74800</td>\n",
       "    </tr>\n",
       "    <tr>\n",
       "      <th>2000-05-30 00:00:00-04:00</th>\n",
       "      <td>46.375000</td>\n",
       "      <td>47.40625</td>\n",
       "      <td>46.375000</td>\n",
       "      <td>47.406250</td>\n",
       "      <td>35.236828</td>\n",
       "      <td>57600</td>\n",
       "    </tr>\n",
       "    <tr>\n",
       "      <th>2000-05-31 00:00:00-04:00</th>\n",
       "      <td>47.562500</td>\n",
       "      <td>48.18750</td>\n",
       "      <td>47.562500</td>\n",
       "      <td>47.578125</td>\n",
       "      <td>35.364574</td>\n",
       "      <td>36000</td>\n",
       "    </tr>\n",
       "    <tr>\n",
       "      <th>2000-06-01 00:00:00-04:00</th>\n",
       "      <td>48.554688</td>\n",
       "      <td>48.65625</td>\n",
       "      <td>48.554688</td>\n",
       "      <td>48.656250</td>\n",
       "      <td>36.165936</td>\n",
       "      <td>7000</td>\n",
       "    </tr>\n",
       "    <tr>\n",
       "      <th>2000-06-02 00:00:00-04:00</th>\n",
       "      <td>50.859375</td>\n",
       "      <td>51.18750</td>\n",
       "      <td>50.859375</td>\n",
       "      <td>51.187500</td>\n",
       "      <td>38.047409</td>\n",
       "      <td>29400</td>\n",
       "    </tr>\n",
       "  </tbody>\n",
       "</table>\n",
       "</div>"
      ],
      "text/plain": [
       "                                Open      High        Low      Close  \\\n",
       "Date                                                                   \n",
       "2000-05-26 00:00:00-04:00  45.531250  45.71875  45.312500  45.718750   \n",
       "2000-05-30 00:00:00-04:00  46.375000  47.40625  46.375000  47.406250   \n",
       "2000-05-31 00:00:00-04:00  47.562500  48.18750  47.562500  47.578125   \n",
       "2000-06-01 00:00:00-04:00  48.554688  48.65625  48.554688  48.656250   \n",
       "2000-06-02 00:00:00-04:00  50.859375  51.18750  50.859375  51.187500   \n",
       "\n",
       "                           Adj Close  Volume  \n",
       "Date                                          \n",
       "2000-05-26 00:00:00-04:00  33.982506   74800  \n",
       "2000-05-30 00:00:00-04:00  35.236828   57600  \n",
       "2000-05-31 00:00:00-04:00  35.364574   36000  \n",
       "2000-06-01 00:00:00-04:00  36.165936    7000  \n",
       "2000-06-02 00:00:00-04:00  38.047409   29400  "
      ]
     },
     "metadata": {},
     "output_type": "display_data"
    },
    {
     "data": {
      "text/plain": [
       "(5030, 4929)"
      ]
     },
     "execution_count": 3,
     "metadata": {},
     "output_type": "execute_result"
    }
   ],
   "source": [
    "# \"SPY\": SPDR S&P 500 ETF Trust\n",
    "# \"IWM\": iShares Russell 2000 ETF \n",
    "sp500_df = yf.download(\"SPY\", start=start_date, end=end_date)\n",
    "russell2000_df = yf.download(\"IWM\", start=start_date, end=end_date)\n",
    "display(sp500_df.head())\n",
    "display(russell2000_df.head())\n",
    "sp500_df.shape[0], russell2000_df.shape[0]"
   ]
  },
  {
   "cell_type": "code",
   "execution_count": 4,
   "id": "26be9b55-3a6e-476b-8258-cdc303910680",
   "metadata": {},
   "outputs": [
    {
     "data": {
      "text/html": [
       "<div>\n",
       "<style scoped>\n",
       "    .dataframe tbody tr th:only-of-type {\n",
       "        vertical-align: middle;\n",
       "    }\n",
       "\n",
       "    .dataframe tbody tr th {\n",
       "        vertical-align: top;\n",
       "    }\n",
       "\n",
       "    .dataframe thead th {\n",
       "        text-align: right;\n",
       "    }\n",
       "</style>\n",
       "<table border=\"1\" class=\"dataframe\">\n",
       "  <thead>\n",
       "    <tr style=\"text-align: right;\">\n",
       "      <th></th>\n",
       "      <th>sp500</th>\n",
       "      <th>russell2000</th>\n",
       "    </tr>\n",
       "    <tr>\n",
       "      <th>Date</th>\n",
       "      <th></th>\n",
       "      <th></th>\n",
       "    </tr>\n",
       "  </thead>\n",
       "  <tbody>\n",
       "    <tr>\n",
       "      <th>2000-05-26 00:00:00-04:00</th>\n",
       "      <td>90.664650</td>\n",
       "      <td>33.982506</td>\n",
       "    </tr>\n",
       "    <tr>\n",
       "      <th>2000-05-30 00:00:00-04:00</th>\n",
       "      <td>93.621140</td>\n",
       "      <td>35.236828</td>\n",
       "    </tr>\n",
       "    <tr>\n",
       "      <th>2000-05-31 00:00:00-04:00</th>\n",
       "      <td>93.826416</td>\n",
       "      <td>35.364574</td>\n",
       "    </tr>\n",
       "    <tr>\n",
       "      <th>2000-06-01 00:00:00-04:00</th>\n",
       "      <td>95.468910</td>\n",
       "      <td>36.165936</td>\n",
       "    </tr>\n",
       "    <tr>\n",
       "      <th>2000-06-02 00:00:00-04:00</th>\n",
       "      <td>97.131927</td>\n",
       "      <td>38.047409</td>\n",
       "    </tr>\n",
       "    <tr>\n",
       "      <th>...</th>\n",
       "      <td>...</td>\n",
       "      <td>...</td>\n",
       "    </tr>\n",
       "    <tr>\n",
       "      <th>2019-12-23 00:00:00-05:00</th>\n",
       "      <td>306.215393</td>\n",
       "      <td>160.106979</td>\n",
       "    </tr>\n",
       "    <tr>\n",
       "      <th>2019-12-24 00:00:00-05:00</th>\n",
       "      <td>306.224945</td>\n",
       "      <td>160.472778</td>\n",
       "    </tr>\n",
       "    <tr>\n",
       "      <th>2019-12-26 00:00:00-05:00</th>\n",
       "      <td>307.855042</td>\n",
       "      <td>160.472778</td>\n",
       "    </tr>\n",
       "    <tr>\n",
       "      <th>2019-12-27 00:00:00-05:00</th>\n",
       "      <td>307.778778</td>\n",
       "      <td>159.683365</td>\n",
       "    </tr>\n",
       "    <tr>\n",
       "      <th>2019-12-30 00:00:00-05:00</th>\n",
       "      <td>306.081909</td>\n",
       "      <td>159.278961</td>\n",
       "    </tr>\n",
       "  </tbody>\n",
       "</table>\n",
       "<p>4929 rows × 2 columns</p>\n",
       "</div>"
      ],
      "text/plain": [
       "                                sp500  russell2000\n",
       "Date                                              \n",
       "2000-05-26 00:00:00-04:00   90.664650    33.982506\n",
       "2000-05-30 00:00:00-04:00   93.621140    35.236828\n",
       "2000-05-31 00:00:00-04:00   93.826416    35.364574\n",
       "2000-06-01 00:00:00-04:00   95.468910    36.165936\n",
       "2000-06-02 00:00:00-04:00   97.131927    38.047409\n",
       "...                               ...          ...\n",
       "2019-12-23 00:00:00-05:00  306.215393   160.106979\n",
       "2019-12-24 00:00:00-05:00  306.224945   160.472778\n",
       "2019-12-26 00:00:00-05:00  307.855042   160.472778\n",
       "2019-12-27 00:00:00-05:00  307.778778   159.683365\n",
       "2019-12-30 00:00:00-05:00  306.081909   159.278961\n",
       "\n",
       "[4929 rows x 2 columns]"
      ]
     },
     "execution_count": 4,
     "metadata": {},
     "output_type": "execute_result"
    }
   ],
   "source": [
    "sp500 = sp500_df[\"Adj Close\"]\n",
    "russell2000 = russell2000_df[\"Adj Close\"]\n",
    "pair_df = pd.concat([sp500, russell2000], axis=1, join=\"inner\")\n",
    "pair_df.columns = [\"sp500\", \"russell2000\"]\n",
    "pair_df"
   ]
  },
  {
   "cell_type": "code",
   "execution_count": 5,
   "id": "c627320e-aaa0-4ad4-9f35-002451c3d56f",
   "metadata": {},
   "outputs": [],
   "source": [
    "train_df = pair_df.loc[pair_df.index < \"2017-01-01\"].reset_index(drop=True)\n",
    "test_df = pair_df.loc[pair_df.index >= \"2017-01-01\"].reset_index(drop=True)"
   ]
  },
  {
   "cell_type": "code",
   "execution_count": 6,
   "id": "710cf23a-5f10-4944-b8e9-92fb495297a0",
   "metadata": {},
   "outputs": [
    {
     "data": {
      "text/html": [
       "<div>\n",
       "<style scoped>\n",
       "    .dataframe tbody tr th:only-of-type {\n",
       "        vertical-align: middle;\n",
       "    }\n",
       "\n",
       "    .dataframe tbody tr th {\n",
       "        vertical-align: top;\n",
       "    }\n",
       "\n",
       "    .dataframe thead th {\n",
       "        text-align: right;\n",
       "    }\n",
       "</style>\n",
       "<table border=\"1\" class=\"dataframe\">\n",
       "  <thead>\n",
       "    <tr style=\"text-align: right;\">\n",
       "      <th></th>\n",
       "      <th>sp500</th>\n",
       "      <th>russell2000</th>\n",
       "    </tr>\n",
       "  </thead>\n",
       "  <tbody>\n",
       "    <tr>\n",
       "      <th>sp500</th>\n",
       "      <td>1.000000</td>\n",
       "      <td>0.973716</td>\n",
       "    </tr>\n",
       "    <tr>\n",
       "      <th>russell2000</th>\n",
       "      <td>0.973716</td>\n",
       "      <td>1.000000</td>\n",
       "    </tr>\n",
       "  </tbody>\n",
       "</table>\n",
       "</div>"
      ],
      "text/plain": [
       "                sp500  russell2000\n",
       "sp500        1.000000     0.973716\n",
       "russell2000  0.973716     1.000000"
      ]
     },
     "execution_count": 6,
     "metadata": {},
     "output_type": "execute_result"
    }
   ],
   "source": [
    "train_df.corr()"
   ]
  },
  {
   "cell_type": "markdown",
   "id": "1b7af0a2-9e30-431f-9c04-44dac7e49d51",
   "metadata": {
    "tags": []
   },
   "source": [
    "# VECM / VAR"
   ]
  },
  {
   "cell_type": "markdown",
   "id": "974f2eff-b9df-4b25-9957-e143ced87306",
   "metadata": {},
   "source": [
    "$$\\Delta y_t = \\alpha \\beta^T y_{t-1} + \\Gamma_1 \\Delta y_{t-1} + \\dots + \\Gamma_{p-1} \\Delta y_{t-p+1} + u_t$$\n",
    "where $\\alpha, \\beta \\in \\mathbb{R}^{K \\times r}$ and $\\Gamma_i \\in \\mathbb{R}^{K \\times K}$ for $i = 1, \\dots, p-1$ are the parameters and $u_t$ is $K$-dimensional white noise. Both $\\alpha$ and $\\beta$ have rank $r$ - then so called cointegration rank."
   ]
  },
  {
   "cell_type": "markdown",
   "id": "7fb82f1e-dfc1-4928-8e3f-4c9c50d57435",
   "metadata": {},
   "source": [
    "## Choose Deterministic Terms"
   ]
  },
  {
   "cell_type": "markdown",
   "id": "6730ba43-99d9-499b-a024-2e9eaab5c837",
   "metadata": {},
   "source": [
    "**Logic:**  \n",
    "sp500 and russell2000 are stock indices, so their movements are both triggered by their constitutent stock prices. With a regression coefficient $k$, residual $sp500 - k \\times russell2000$, also error correction term, stands for excess profit of investing sp500 over russell2000. (Here, $k$ converts sp500 and russell2000 into the same scale.) Therefore, there is no need to add constand and or trend term inside cointegration relation.  \n",
    "\n",
    "Outside cointegration relation, the financial meaning of VECM is clear. If we look at the first row of VECM, it shows that pnl of sp500 is influenced by the long-term excess profit of sp500 over russell2000 and the recent performance of sp500 and russell2000. If we expand our observation time horizon, as time goes by, the overall trend of stock market and also the constituents is going up due to various micro and macro factors, like companies' increasing profit and inflation. So, we need to add trend term outside cointegration relation. Without loss of generality, when trend term is added, we also add constant term.\n",
    "\n",
    "This logic can also be applied to other stock indices.  "
   ]
  },
  {
   "cell_type": "code",
   "execution_count": 7,
   "id": "2d8dff2b-d72a-44bc-851d-6075a0f44e75",
   "metadata": {},
   "outputs": [],
   "source": [
    "deterministic = \"colo\" # \"n\", \"ci\", \"co\", \"li\", \"lo\""
   ]
  },
  {
   "cell_type": "markdown",
   "id": "733c9792-84cc-4cc8-b4ae-efcc3ccf262a",
   "metadata": {},
   "source": [
    "## Select Lag Order"
   ]
  },
  {
   "cell_type": "code",
   "execution_count": 8,
   "id": "e16b181c-209c-458d-92bb-e8290a619c18",
   "metadata": {},
   "outputs": [
    {
     "data": {
      "text/html": [
       "<table class=\"simpletable\">\n",
       "<caption>VECM Order Selection (* highlights the minimums)</caption>\n",
       "<tr>\n",
       "   <td></td>      <th>AIC</th>         <th>BIC</th>         <th>FPE</th>        <th>HQIC</th>    \n",
       "</tr>\n",
       "<tr>\n",
       "  <th>0</th>  <td>    -1.552</td>  <td>    -1.537*</td> <td>    0.2118</td>  <td>    -1.547</td> \n",
       "</tr>\n",
       "<tr>\n",
       "  <th>1</th>  <td>    -1.553</td>  <td>    -1.532</td>  <td>    0.2116</td>  <td>    -1.545</td> \n",
       "</tr>\n",
       "<tr>\n",
       "  <th>2</th>  <td>    -1.560</td>  <td>    -1.532</td>  <td>    0.2102</td>  <td>    -1.550*</td>\n",
       "</tr>\n",
       "<tr>\n",
       "  <th>3</th>  <td>    -1.560</td>  <td>    -1.526</td>  <td>    0.2102</td>  <td>    -1.548</td> \n",
       "</tr>\n",
       "<tr>\n",
       "  <th>4</th>  <td>    -1.560</td>  <td>    -1.520</td>  <td>    0.2102</td>  <td>    -1.546</td> \n",
       "</tr>\n",
       "<tr>\n",
       "  <th>5</th>  <td>    -1.560*</td> <td>    -1.514</td>  <td>    0.2102*</td> <td>    -1.544</td> \n",
       "</tr>\n",
       "<tr>\n",
       "  <th>6</th>  <td>    -1.559</td>  <td>    -1.507</td>  <td>    0.2103</td>  <td>    -1.541</td> \n",
       "</tr>\n",
       "<tr>\n",
       "  <th>7</th>  <td>    -1.557</td>  <td>    -1.500</td>  <td>    0.2107</td>  <td>    -1.537</td> \n",
       "</tr>\n",
       "<tr>\n",
       "  <th>8</th>  <td>    -1.557</td>  <td>    -1.493</td>  <td>    0.2108</td>  <td>    -1.534</td> \n",
       "</tr>\n",
       "<tr>\n",
       "  <th>9</th>  <td>    -1.556</td>  <td>    -1.486</td>  <td>    0.2110</td>  <td>    -1.531</td> \n",
       "</tr>\n",
       "<tr>\n",
       "  <th>10</th> <td>    -1.555</td>  <td>    -1.479</td>  <td>    0.2112</td>  <td>    -1.528</td> \n",
       "</tr>\n",
       "</table>"
      ],
      "text/plain": [
       "<class 'statsmodels.iolib.table.SimpleTable'>"
      ]
     },
     "execution_count": 8,
     "metadata": {},
     "output_type": "execute_result"
    }
   ],
   "source": [
    "# without `.reset_index(drop=True)`: warning - not use date index\n",
    "lag_order = select_order(data=train_df, maxlags=10, deterministic=deterministic)\n",
    "lag_order.summary()"
   ]
  },
  {
   "cell_type": "code",
   "execution_count": 9,
   "id": "63488080-d4e1-4d27-a888-67deadebeb6e",
   "metadata": {},
   "outputs": [
    {
     "name": "stdout",
     "output_type": "stream",
     "text": [
      "<statsmodels.tsa.vector_ar.var_model.LagOrderResults object. Selected orders are: AIC -> 5, BIC -> 0, FPE -> 5, HQIC ->  2>\n"
     ]
    }
   ],
   "source": [
    "print(lag_order)"
   ]
  },
  {
   "cell_type": "code",
   "execution_count": 10,
   "id": "7725fcaa-b364-4364-a281-b381d7769b6a",
   "metadata": {},
   "outputs": [
    {
     "data": {
      "text/plain": [
       "(5, 0, 5, 2)"
      ]
     },
     "execution_count": 10,
     "metadata": {},
     "output_type": "execute_result"
    }
   ],
   "source": [
    "lag_order.aic, lag_order.bic, lag_order.fpe, lag_order.hqic"
   ]
  },
  {
   "cell_type": "markdown",
   "id": "21ba4e1a-8de6-4f1c-a8dd-0239dd6d4df0",
   "metadata": {},
   "source": [
    "## Cointegration Rank"
   ]
  },
  {
   "cell_type": "code",
   "execution_count": 11,
   "id": "f84fe114-9124-475f-af1c-037832b56b63",
   "metadata": {},
   "outputs": [
    {
     "data": {
      "text/plain": [
       "1"
      ]
     },
     "execution_count": 11,
     "metadata": {},
     "output_type": "execute_result"
    }
   ],
   "source": [
    "# `det_order=-1`: no deterministic terms\n",
    "rank_test = select_coint_rank(train_df, det_order=-1, k_ar_diff=lag_order.aic, signif=0.05)\n",
    "rank_test.rank"
   ]
  },
  {
   "cell_type": "code",
   "execution_count": 12,
   "id": "f6aa1d72-81ba-478d-b327-01cc4680b11a",
   "metadata": {},
   "outputs": [
    {
     "data": {
      "text/html": [
       "<table class=\"simpletable\">\n",
       "<caption>Johansen cointegration test using trace test statistic with 5% significance level</caption>\n",
       "<tr>\n",
       "  <th>r_0</th> <th>r_1</th> <th>test statistic</th> <th>critical value</th>\n",
       "</tr>\n",
       "<tr>\n",
       "    <td>0</td>   <td>2</td>          <td>17.87</td>          <td>12.32</td>\n",
       "</tr>\n",
       "<tr>\n",
       "    <td>1</td>   <td>2</td>          <td>3.588</td>          <td>4.130</td>\n",
       "</tr>\n",
       "</table>"
      ],
      "text/plain": [
       "<class 'statsmodels.iolib.table.SimpleTable'>"
      ]
     },
     "execution_count": 12,
     "metadata": {},
     "output_type": "execute_result"
    }
   ],
   "source": [
    "rank_test.summary()"
   ]
  },
  {
   "cell_type": "markdown",
   "id": "386f23d5-d9a9-4fba-8af9-aa471acc3897",
   "metadata": {},
   "source": [
    "## Model"
   ]
  },
  {
   "cell_type": "code",
   "execution_count": 13,
   "id": "cb0997e4-6ff7-45ea-b86f-7d58aa3507a5",
   "metadata": {},
   "outputs": [],
   "source": [
    "vecm = VECM(train_df, \n",
    "            k_ar_diff=lag_order.aic, \n",
    "            coint_rank=rank_test.rank,\n",
    "            deterministic=deterministic)"
   ]
  },
  {
   "cell_type": "code",
   "execution_count": 14,
   "id": "c7b099e8-d3dc-4339-b3de-6546512e2ef9",
   "metadata": {},
   "outputs": [
    {
     "data": {
      "text/html": [
       "<table class=\"simpletable\">\n",
       "<caption>Det. terms outside the coint. relation & lagged endog. parameters for equation sp500</caption>\n",
       "<tr>\n",
       "         <td></td>           <th>coef</th>     <th>std err</th>      <th>z</th>      <th>P>|z|</th>  <th>[0.025</th>    <th>0.975]</th>  \n",
       "</tr>\n",
       "<tr>\n",
       "  <th>const</th>          <td>   -0.0555</td> <td>    0.038</td> <td>   -1.453</td> <td> 0.146</td> <td>   -0.130</td> <td>    0.019</td>\n",
       "</tr>\n",
       "<tr>\n",
       "  <th>lin_trend</th>      <td> 5.737e-05</td> <td> 2.97e-05</td> <td>    1.933</td> <td> 0.053</td> <td>-8.06e-07</td> <td>    0.000</td>\n",
       "</tr>\n",
       "<tr>\n",
       "  <th>L1.sp500</th>       <td>   -0.0774</td> <td>    0.033</td> <td>   -2.318</td> <td> 0.020</td> <td>   -0.143</td> <td>   -0.012</td>\n",
       "</tr>\n",
       "<tr>\n",
       "  <th>L1.russell2000</th> <td>    0.0356</td> <td>    0.045</td> <td>    0.792</td> <td> 0.428</td> <td>   -0.052</td> <td>    0.124</td>\n",
       "</tr>\n",
       "<tr>\n",
       "  <th>L2.sp500</th>       <td>   -0.1171</td> <td>    0.033</td> <td>   -3.509</td> <td> 0.000</td> <td>   -0.183</td> <td>   -0.052</td>\n",
       "</tr>\n",
       "<tr>\n",
       "  <th>L2.russell2000</th> <td>    0.0978</td> <td>    0.045</td> <td>    2.180</td> <td> 0.029</td> <td>    0.010</td> <td>    0.186</td>\n",
       "</tr>\n",
       "<tr>\n",
       "  <th>L3.sp500</th>       <td>   -0.0140</td> <td>    0.033</td> <td>   -0.419</td> <td> 0.675</td> <td>   -0.080</td> <td>    0.052</td>\n",
       "</tr>\n",
       "<tr>\n",
       "  <th>L3.russell2000</th> <td>    0.0032</td> <td>    0.045</td> <td>    0.071</td> <td> 0.943</td> <td>   -0.085</td> <td>    0.091</td>\n",
       "</tr>\n",
       "<tr>\n",
       "  <th>L4.sp500</th>       <td>   -0.0496</td> <td>    0.033</td> <td>   -1.487</td> <td> 0.137</td> <td>   -0.115</td> <td>    0.016</td>\n",
       "</tr>\n",
       "<tr>\n",
       "  <th>L4.russell2000</th> <td>    0.0367</td> <td>    0.045</td> <td>    0.821</td> <td> 0.412</td> <td>   -0.051</td> <td>    0.124</td>\n",
       "</tr>\n",
       "<tr>\n",
       "  <th>L5.sp500</th>       <td>   -0.0037</td> <td>    0.033</td> <td>   -0.111</td> <td> 0.912</td> <td>   -0.069</td> <td>    0.062</td>\n",
       "</tr>\n",
       "<tr>\n",
       "  <th>L5.russell2000</th> <td>   -0.0569</td> <td>    0.045</td> <td>   -1.272</td> <td> 0.203</td> <td>   -0.145</td> <td>    0.031</td>\n",
       "</tr>\n",
       "</table>\n",
       "<table class=\"simpletable\">\n",
       "<caption>Det. terms outside the coint. relation & lagged endog. parameters for equation russell2000</caption>\n",
       "<tr>\n",
       "         <td></td>           <th>coef</th>     <th>std err</th>      <th>z</th>      <th>P>|z|</th>  <th>[0.025</th>    <th>0.975]</th>  \n",
       "</tr>\n",
       "<tr>\n",
       "  <th>const</th>          <td>   -0.0330</td> <td>    0.028</td> <td>   -1.159</td> <td> 0.246</td> <td>   -0.089</td> <td>    0.023</td>\n",
       "</tr>\n",
       "<tr>\n",
       "  <th>lin_trend</th>      <td>  6.12e-05</td> <td> 2.21e-05</td> <td>    2.772</td> <td> 0.006</td> <td> 1.79e-05</td> <td>    0.000</td>\n",
       "</tr>\n",
       "<tr>\n",
       "  <th>L1.sp500</th>       <td>   -0.0384</td> <td>    0.025</td> <td>   -1.548</td> <td> 0.122</td> <td>   -0.087</td> <td>    0.010</td>\n",
       "</tr>\n",
       "<tr>\n",
       "  <th>L1.russell2000</th> <td>    0.0032</td> <td>    0.033</td> <td>    0.096</td> <td> 0.923</td> <td>   -0.062</td> <td>    0.069</td>\n",
       "</tr>\n",
       "<tr>\n",
       "  <th>L2.sp500</th>       <td>   -0.0358</td> <td>    0.025</td> <td>   -1.444</td> <td> 0.149</td> <td>   -0.084</td> <td>    0.013</td>\n",
       "</tr>\n",
       "<tr>\n",
       "  <th>L2.russell2000</th> <td>    0.0379</td> <td>    0.033</td> <td>    1.136</td> <td> 0.256</td> <td>   -0.027</td> <td>    0.103</td>\n",
       "</tr>\n",
       "<tr>\n",
       "  <th>L3.sp500</th>       <td>    0.0228</td> <td>    0.025</td> <td>    0.918</td> <td> 0.358</td> <td>   -0.026</td> <td>    0.072</td>\n",
       "</tr>\n",
       "<tr>\n",
       "  <th>L3.russell2000</th> <td>   -0.0291</td> <td>    0.033</td> <td>   -0.872</td> <td> 0.383</td> <td>   -0.094</td> <td>    0.036</td>\n",
       "</tr>\n",
       "<tr>\n",
       "  <th>L4.sp500</th>       <td>   -0.0194</td> <td>    0.025</td> <td>   -0.783</td> <td> 0.434</td> <td>   -0.068</td> <td>    0.029</td>\n",
       "</tr>\n",
       "<tr>\n",
       "  <th>L4.russell2000</th> <td>   -0.0046</td> <td>    0.033</td> <td>   -0.137</td> <td> 0.891</td> <td>   -0.070</td> <td>    0.061</td>\n",
       "</tr>\n",
       "<tr>\n",
       "  <th>L5.sp500</th>       <td>    0.0016</td> <td>    0.025</td> <td>    0.067</td> <td> 0.947</td> <td>   -0.047</td> <td>    0.050</td>\n",
       "</tr>\n",
       "<tr>\n",
       "  <th>L5.russell2000</th> <td>   -0.0410</td> <td>    0.033</td> <td>   -1.232</td> <td> 0.218</td> <td>   -0.106</td> <td>    0.024</td>\n",
       "</tr>\n",
       "</table>\n",
       "<table class=\"simpletable\">\n",
       "<caption>Loading coefficients (alpha) for equation sp500</caption>\n",
       "<tr>\n",
       "   <td></td>      <th>coef</th>     <th>std err</th>      <th>z</th>      <th>P>|z|</th>  <th>[0.025</th>    <th>0.975]</th>  \n",
       "</tr>\n",
       "<tr>\n",
       "  <th>ec1</th> <td>    0.0020</td> <td>    0.002</td> <td>    0.871</td> <td> 0.384</td> <td>   -0.002</td> <td>    0.006</td>\n",
       "</tr>\n",
       "</table>\n",
       "<table class=\"simpletable\">\n",
       "<caption>Loading coefficients (alpha) for equation russell2000</caption>\n",
       "<tr>\n",
       "   <td></td>      <th>coef</th>     <th>std err</th>      <th>z</th>      <th>P>|z|</th>  <th>[0.025</th>    <th>0.975]</th>  \n",
       "</tr>\n",
       "<tr>\n",
       "  <th>ec1</th> <td>    0.0040</td> <td>    0.002</td> <td>    2.392</td> <td> 0.017</td> <td>    0.001</td> <td>    0.007</td>\n",
       "</tr>\n",
       "</table>\n",
       "<table class=\"simpletable\">\n",
       "<caption>Cointegration relations for loading-coefficients-column 1</caption>\n",
       "<tr>\n",
       "     <td></td>       <th>coef</th>     <th>std err</th>      <th>z</th>      <th>P>|z|</th>  <th>[0.025</th>    <th>0.975]</th>  \n",
       "</tr>\n",
       "<tr>\n",
       "  <th>beta.1</th> <td>    1.0000</td> <td>        0</td> <td>        0</td> <td> 0.000</td> <td>    1.000</td> <td>    1.000</td>\n",
       "</tr>\n",
       "<tr>\n",
       "  <th>beta.2</th> <td>   -1.9983</td> <td>    0.197</td> <td>  -10.168</td> <td> 0.000</td> <td>   -2.384</td> <td>   -1.613</td>\n",
       "</tr>\n",
       "</table>"
      ],
      "text/plain": [
       "<class 'statsmodels.iolib.summary.Summary'>\n",
       "\"\"\"\n",
       "Det. terms outside the coint. relation & lagged endog. parameters for equation sp500\n",
       "==================================================================================\n",
       "                     coef    std err          z      P>|z|      [0.025      0.975]\n",
       "----------------------------------------------------------------------------------\n",
       "const             -0.0555      0.038     -1.453      0.146      -0.130       0.019\n",
       "lin_trend       5.737e-05   2.97e-05      1.933      0.053   -8.06e-07       0.000\n",
       "L1.sp500          -0.0774      0.033     -2.318      0.020      -0.143      -0.012\n",
       "L1.russell2000     0.0356      0.045      0.792      0.428      -0.052       0.124\n",
       "L2.sp500          -0.1171      0.033     -3.509      0.000      -0.183      -0.052\n",
       "L2.russell2000     0.0978      0.045      2.180      0.029       0.010       0.186\n",
       "L3.sp500          -0.0140      0.033     -0.419      0.675      -0.080       0.052\n",
       "L3.russell2000     0.0032      0.045      0.071      0.943      -0.085       0.091\n",
       "L4.sp500          -0.0496      0.033     -1.487      0.137      -0.115       0.016\n",
       "L4.russell2000     0.0367      0.045      0.821      0.412      -0.051       0.124\n",
       "L5.sp500          -0.0037      0.033     -0.111      0.912      -0.069       0.062\n",
       "L5.russell2000    -0.0569      0.045     -1.272      0.203      -0.145       0.031\n",
       "Det. terms outside the coint. relation & lagged endog. parameters for equation russell2000\n",
       "==================================================================================\n",
       "                     coef    std err          z      P>|z|      [0.025      0.975]\n",
       "----------------------------------------------------------------------------------\n",
       "const             -0.0330      0.028     -1.159      0.246      -0.089       0.023\n",
       "lin_trend        6.12e-05   2.21e-05      2.772      0.006    1.79e-05       0.000\n",
       "L1.sp500          -0.0384      0.025     -1.548      0.122      -0.087       0.010\n",
       "L1.russell2000     0.0032      0.033      0.096      0.923      -0.062       0.069\n",
       "L2.sp500          -0.0358      0.025     -1.444      0.149      -0.084       0.013\n",
       "L2.russell2000     0.0379      0.033      1.136      0.256      -0.027       0.103\n",
       "L3.sp500           0.0228      0.025      0.918      0.358      -0.026       0.072\n",
       "L3.russell2000    -0.0291      0.033     -0.872      0.383      -0.094       0.036\n",
       "L4.sp500          -0.0194      0.025     -0.783      0.434      -0.068       0.029\n",
       "L4.russell2000    -0.0046      0.033     -0.137      0.891      -0.070       0.061\n",
       "L5.sp500           0.0016      0.025      0.067      0.947      -0.047       0.050\n",
       "L5.russell2000    -0.0410      0.033     -1.232      0.218      -0.106       0.024\n",
       "               Loading coefficients (alpha) for equation sp500                \n",
       "==============================================================================\n",
       "                 coef    std err          z      P>|z|      [0.025      0.975]\n",
       "------------------------------------------------------------------------------\n",
       "ec1            0.0020      0.002      0.871      0.384      -0.002       0.006\n",
       "            Loading coefficients (alpha) for equation russell2000             \n",
       "==============================================================================\n",
       "                 coef    std err          z      P>|z|      [0.025      0.975]\n",
       "------------------------------------------------------------------------------\n",
       "ec1            0.0040      0.002      2.392      0.017       0.001       0.007\n",
       "          Cointegration relations for loading-coefficients-column 1           \n",
       "==============================================================================\n",
       "                 coef    std err          z      P>|z|      [0.025      0.975]\n",
       "------------------------------------------------------------------------------\n",
       "beta.1         1.0000          0          0      0.000       1.000       1.000\n",
       "beta.2        -1.9983      0.197    -10.168      0.000      -2.384      -1.613\n",
       "==============================================================================\n",
       "\"\"\""
      ]
     },
     "execution_count": 14,
     "metadata": {},
     "output_type": "execute_result"
    }
   ],
   "source": [
    "vecm_res = vecm.fit()\n",
    "vecm_res.summary()"
   ]
  },
  {
   "cell_type": "markdown",
   "id": "bbe741d1-b9cc-4043-b2e3-78fbf2512c39",
   "metadata": {},
   "source": [
    "## Forecast"
   ]
  },
  {
   "cell_type": "code",
   "execution_count": 15,
   "id": "fd1430cd-9060-4651-b101-9e33ea828b76",
   "metadata": {},
   "outputs": [
    {
     "data": {
      "text/plain": [
       "array([[201.43786946, 124.92737465],\n",
       "       [201.56075434, 124.9720525 ],\n",
       "       [201.72529237, 125.04108969],\n",
       "       [201.80566743, 125.07575178],\n",
       "       [201.90113027, 125.11661179]])"
      ]
     },
     "execution_count": 15,
     "metadata": {},
     "output_type": "execute_result"
    }
   ],
   "source": [
    "vecm_res.predict(steps=5)"
   ]
  },
  {
   "cell_type": "code",
   "execution_count": 16,
   "id": "0ee5fc1f-3f80-4eac-a8f3-b62d00478359",
   "metadata": {},
   "outputs": [
    {
     "name": "stdout",
     "output_type": "stream",
     "text": [
      "forecast:\n",
      "[[201.43786946 124.92737465]\n",
      " [201.56075434 124.9720525 ]\n",
      " [201.72529237 125.04108969]\n",
      " [201.80566743 125.07575178]\n",
      " [201.90113027 125.11661179]]\n",
      "lower:\n",
      "[[199.18588059 123.2526077 ]\n",
      " [198.46150928 122.65688253]\n",
      " [198.02701947 122.23267804]\n",
      " [197.59963434 121.85178355]\n",
      " [197.26094353 121.54605198]]\n",
      "upper:\n",
      "[[203.68985832 126.60214159]\n",
      " [204.65999941 127.28722247]\n",
      " [205.42356528 127.84950134]\n",
      " [206.01170053 128.29972001]\n",
      " [206.54131702 128.68717159]]\n"
     ]
    }
   ],
   "source": [
    "for text, nd in zip(\n",
    "    [\"forecast\", \"lower\", \"upper\"], \n",
    "    vecm_res.predict(steps=5, alpha=0.05) # 95% confidence level\n",
    "):\n",
    "    print(f\"{text}:\\n{nd}\")"
   ]
  },
  {
   "cell_type": "code",
   "execution_count": null,
   "id": "e8ad2a68-dc01-4b15-b5f4-24718368d3d2",
   "metadata": {},
   "outputs": [],
   "source": []
  },
  {
   "cell_type": "code",
   "execution_count": null,
   "id": "537833e1-3cd4-44ce-a39b-fadef913fe09",
   "metadata": {},
   "outputs": [],
   "source": []
  }
 ],
 "metadata": {
  "kernelspec": {
   "display_name": "Python 3 (ipykernel)",
   "language": "python",
   "name": "python3"
  },
  "language_info": {
   "codemirror_mode": {
    "name": "ipython",
    "version": 3
   },
   "file_extension": ".py",
   "mimetype": "text/x-python",
   "name": "python",
   "nbconvert_exporter": "python",
   "pygments_lexer": "ipython3",
   "version": "3.9.13"
  }
 },
 "nbformat": 4,
 "nbformat_minor": 5
}
