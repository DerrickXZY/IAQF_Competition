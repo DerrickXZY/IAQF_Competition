{
 "cells": [
  {
   "cell_type": "code",
   "execution_count": 1,
   "id": "9d3f334b-ca29-4367-b382-1dfc78625ea9",
   "metadata": {},
   "outputs": [],
   "source": [
    "import numpy as np\n",
    "import pandas as pd\n",
    "import yfinance as yf\n",
    "import statsmodels.api as sm\n",
    "from statsmodels.tsa.vector_ar.vecm import VECM, select_order, select_coint_rank, coint_johansen\n",
    "from time_series_utils import TSA"
   ]
  },
  {
   "cell_type": "code",
   "execution_count": 2,
   "id": "57f58815-6b62-4d92-abc4-4efb6f5c38e2",
   "metadata": {},
   "outputs": [],
   "source": [
    "start_date = pd.Timestamp(\"2000-01-01\")\n",
    "end_date = pd.Timestamp(\"2019-12-31\")"
   ]
  },
  {
   "cell_type": "code",
   "execution_count": 3,
   "id": "8e5af524-e5b2-4a3b-9a30-ac4b04dfa550",
   "metadata": {},
   "outputs": [
    {
     "name": "stdout",
     "output_type": "stream",
     "text": [
      "[*********************100%***********************]  1 of 1 completed\n",
      "[*********************100%***********************]  1 of 1 completed\n"
     ]
    },
    {
     "data": {
      "text/html": [
       "<div>\n",
       "<style scoped>\n",
       "    .dataframe tbody tr th:only-of-type {\n",
       "        vertical-align: middle;\n",
       "    }\n",
       "\n",
       "    .dataframe tbody tr th {\n",
       "        vertical-align: top;\n",
       "    }\n",
       "\n",
       "    .dataframe thead th {\n",
       "        text-align: right;\n",
       "    }\n",
       "</style>\n",
       "<table border=\"1\" class=\"dataframe\">\n",
       "  <thead>\n",
       "    <tr style=\"text-align: right;\">\n",
       "      <th></th>\n",
       "      <th>Open</th>\n",
       "      <th>High</th>\n",
       "      <th>Low</th>\n",
       "      <th>Close</th>\n",
       "      <th>Adj Close</th>\n",
       "      <th>Volume</th>\n",
       "    </tr>\n",
       "    <tr>\n",
       "      <th>Date</th>\n",
       "      <th></th>\n",
       "      <th></th>\n",
       "      <th></th>\n",
       "      <th></th>\n",
       "      <th></th>\n",
       "      <th></th>\n",
       "    </tr>\n",
       "  </thead>\n",
       "  <tbody>\n",
       "    <tr>\n",
       "      <th>2000-01-03 00:00:00-05:00</th>\n",
       "      <td>148.25000</td>\n",
       "      <td>148.25000</td>\n",
       "      <td>143.875000</td>\n",
       "      <td>145.4375</td>\n",
       "      <td>95.308823</td>\n",
       "      <td>8164300</td>\n",
       "    </tr>\n",
       "    <tr>\n",
       "      <th>2000-01-04 00:00:00-05:00</th>\n",
       "      <td>143.53125</td>\n",
       "      <td>144.06250</td>\n",
       "      <td>139.640625</td>\n",
       "      <td>139.7500</td>\n",
       "      <td>91.581657</td>\n",
       "      <td>8089800</td>\n",
       "    </tr>\n",
       "    <tr>\n",
       "      <th>2000-01-05 00:00:00-05:00</th>\n",
       "      <td>139.93750</td>\n",
       "      <td>141.53125</td>\n",
       "      <td>137.250000</td>\n",
       "      <td>140.0000</td>\n",
       "      <td>91.745483</td>\n",
       "      <td>12177900</td>\n",
       "    </tr>\n",
       "    <tr>\n",
       "      <th>2000-01-06 00:00:00-05:00</th>\n",
       "      <td>139.62500</td>\n",
       "      <td>141.50000</td>\n",
       "      <td>137.750000</td>\n",
       "      <td>137.7500</td>\n",
       "      <td>90.271019</td>\n",
       "      <td>6227200</td>\n",
       "    </tr>\n",
       "    <tr>\n",
       "      <th>2000-01-07 00:00:00-05:00</th>\n",
       "      <td>140.31250</td>\n",
       "      <td>145.75000</td>\n",
       "      <td>140.062500</td>\n",
       "      <td>145.7500</td>\n",
       "      <td>95.513580</td>\n",
       "      <td>8066500</td>\n",
       "    </tr>\n",
       "  </tbody>\n",
       "</table>\n",
       "</div>"
      ],
      "text/plain": [
       "                                Open       High         Low     Close  \\\n",
       "Date                                                                    \n",
       "2000-01-03 00:00:00-05:00  148.25000  148.25000  143.875000  145.4375   \n",
       "2000-01-04 00:00:00-05:00  143.53125  144.06250  139.640625  139.7500   \n",
       "2000-01-05 00:00:00-05:00  139.93750  141.53125  137.250000  140.0000   \n",
       "2000-01-06 00:00:00-05:00  139.62500  141.50000  137.750000  137.7500   \n",
       "2000-01-07 00:00:00-05:00  140.31250  145.75000  140.062500  145.7500   \n",
       "\n",
       "                           Adj Close    Volume  \n",
       "Date                                            \n",
       "2000-01-03 00:00:00-05:00  95.308823   8164300  \n",
       "2000-01-04 00:00:00-05:00  91.581657   8089800  \n",
       "2000-01-05 00:00:00-05:00  91.745483  12177900  \n",
       "2000-01-06 00:00:00-05:00  90.271019   6227200  \n",
       "2000-01-07 00:00:00-05:00  95.513580   8066500  "
      ]
     },
     "metadata": {},
     "output_type": "display_data"
    },
    {
     "data": {
      "text/html": [
       "<div>\n",
       "<style scoped>\n",
       "    .dataframe tbody tr th:only-of-type {\n",
       "        vertical-align: middle;\n",
       "    }\n",
       "\n",
       "    .dataframe tbody tr th {\n",
       "        vertical-align: top;\n",
       "    }\n",
       "\n",
       "    .dataframe thead th {\n",
       "        text-align: right;\n",
       "    }\n",
       "</style>\n",
       "<table border=\"1\" class=\"dataframe\">\n",
       "  <thead>\n",
       "    <tr style=\"text-align: right;\">\n",
       "      <th></th>\n",
       "      <th>Open</th>\n",
       "      <th>High</th>\n",
       "      <th>Low</th>\n",
       "      <th>Close</th>\n",
       "      <th>Adj Close</th>\n",
       "      <th>Volume</th>\n",
       "    </tr>\n",
       "    <tr>\n",
       "      <th>Date</th>\n",
       "      <th></th>\n",
       "      <th></th>\n",
       "      <th></th>\n",
       "      <th></th>\n",
       "      <th></th>\n",
       "      <th></th>\n",
       "    </tr>\n",
       "  </thead>\n",
       "  <tbody>\n",
       "    <tr>\n",
       "      <th>2000-05-26 00:00:00-04:00</th>\n",
       "      <td>45.531250</td>\n",
       "      <td>45.71875</td>\n",
       "      <td>45.312500</td>\n",
       "      <td>45.718750</td>\n",
       "      <td>33.982517</td>\n",
       "      <td>74800</td>\n",
       "    </tr>\n",
       "    <tr>\n",
       "      <th>2000-05-30 00:00:00-04:00</th>\n",
       "      <td>46.375000</td>\n",
       "      <td>47.40625</td>\n",
       "      <td>46.375000</td>\n",
       "      <td>47.406250</td>\n",
       "      <td>35.236824</td>\n",
       "      <td>57600</td>\n",
       "    </tr>\n",
       "    <tr>\n",
       "      <th>2000-05-31 00:00:00-04:00</th>\n",
       "      <td>47.562500</td>\n",
       "      <td>48.18750</td>\n",
       "      <td>47.562500</td>\n",
       "      <td>47.578125</td>\n",
       "      <td>35.364571</td>\n",
       "      <td>36000</td>\n",
       "    </tr>\n",
       "    <tr>\n",
       "      <th>2000-06-01 00:00:00-04:00</th>\n",
       "      <td>48.554688</td>\n",
       "      <td>48.65625</td>\n",
       "      <td>48.554688</td>\n",
       "      <td>48.656250</td>\n",
       "      <td>36.165947</td>\n",
       "      <td>7000</td>\n",
       "    </tr>\n",
       "    <tr>\n",
       "      <th>2000-06-02 00:00:00-04:00</th>\n",
       "      <td>50.859375</td>\n",
       "      <td>51.18750</td>\n",
       "      <td>50.859375</td>\n",
       "      <td>51.187500</td>\n",
       "      <td>38.047405</td>\n",
       "      <td>29400</td>\n",
       "    </tr>\n",
       "  </tbody>\n",
       "</table>\n",
       "</div>"
      ],
      "text/plain": [
       "                                Open      High        Low      Close  \\\n",
       "Date                                                                   \n",
       "2000-05-26 00:00:00-04:00  45.531250  45.71875  45.312500  45.718750   \n",
       "2000-05-30 00:00:00-04:00  46.375000  47.40625  46.375000  47.406250   \n",
       "2000-05-31 00:00:00-04:00  47.562500  48.18750  47.562500  47.578125   \n",
       "2000-06-01 00:00:00-04:00  48.554688  48.65625  48.554688  48.656250   \n",
       "2000-06-02 00:00:00-04:00  50.859375  51.18750  50.859375  51.187500   \n",
       "\n",
       "                           Adj Close  Volume  \n",
       "Date                                          \n",
       "2000-05-26 00:00:00-04:00  33.982517   74800  \n",
       "2000-05-30 00:00:00-04:00  35.236824   57600  \n",
       "2000-05-31 00:00:00-04:00  35.364571   36000  \n",
       "2000-06-01 00:00:00-04:00  36.165947    7000  \n",
       "2000-06-02 00:00:00-04:00  38.047405   29400  "
      ]
     },
     "metadata": {},
     "output_type": "display_data"
    },
    {
     "data": {
      "text/plain": [
       "(5030, 4929)"
      ]
     },
     "execution_count": 3,
     "metadata": {},
     "output_type": "execute_result"
    }
   ],
   "source": [
    "# \"SPY\": SPDR S&P 500 ETF Trust\n",
    "# \"IWM\": iShares Russell 2000 ETF \n",
    "sp500_df = yf.download(\"SPY\", start=start_date, end=end_date)\n",
    "russell2000_df = yf.download(\"IWM\", start=start_date, end=end_date)\n",
    "display(sp500_df.head())\n",
    "display(russell2000_df.head())\n",
    "sp500_df.shape[0], russell2000_df.shape[0]"
   ]
  },
  {
   "cell_type": "code",
   "execution_count": 4,
   "id": "2ce0fcb1-0ea8-4f67-8030-644530716542",
   "metadata": {},
   "outputs": [
    {
     "data": {
      "text/html": [
       "<div>\n",
       "<style scoped>\n",
       "    .dataframe tbody tr th:only-of-type {\n",
       "        vertical-align: middle;\n",
       "    }\n",
       "\n",
       "    .dataframe tbody tr th {\n",
       "        vertical-align: top;\n",
       "    }\n",
       "\n",
       "    .dataframe thead th {\n",
       "        text-align: right;\n",
       "    }\n",
       "</style>\n",
       "<table border=\"1\" class=\"dataframe\">\n",
       "  <thead>\n",
       "    <tr style=\"text-align: right;\">\n",
       "      <th></th>\n",
       "      <th>sp500</th>\n",
       "      <th>russell2000</th>\n",
       "    </tr>\n",
       "    <tr>\n",
       "      <th>Date</th>\n",
       "      <th></th>\n",
       "      <th></th>\n",
       "    </tr>\n",
       "  </thead>\n",
       "  <tbody>\n",
       "    <tr>\n",
       "      <th>2000-05-26 00:00:00-04:00</th>\n",
       "      <td>90.664665</td>\n",
       "      <td>33.982517</td>\n",
       "    </tr>\n",
       "    <tr>\n",
       "      <th>2000-05-30 00:00:00-04:00</th>\n",
       "      <td>93.621124</td>\n",
       "      <td>35.236824</td>\n",
       "    </tr>\n",
       "    <tr>\n",
       "      <th>2000-05-31 00:00:00-04:00</th>\n",
       "      <td>93.826431</td>\n",
       "      <td>35.364571</td>\n",
       "    </tr>\n",
       "    <tr>\n",
       "      <th>2000-06-01 00:00:00-04:00</th>\n",
       "      <td>95.468895</td>\n",
       "      <td>36.165947</td>\n",
       "    </tr>\n",
       "    <tr>\n",
       "      <th>2000-06-02 00:00:00-04:00</th>\n",
       "      <td>97.131897</td>\n",
       "      <td>38.047405</td>\n",
       "    </tr>\n",
       "    <tr>\n",
       "      <th>...</th>\n",
       "      <td>...</td>\n",
       "      <td>...</td>\n",
       "    </tr>\n",
       "    <tr>\n",
       "      <th>2019-12-23 00:00:00-05:00</th>\n",
       "      <td>306.215424</td>\n",
       "      <td>160.106964</td>\n",
       "    </tr>\n",
       "    <tr>\n",
       "      <th>2019-12-24 00:00:00-05:00</th>\n",
       "      <td>306.224945</td>\n",
       "      <td>160.472763</td>\n",
       "    </tr>\n",
       "    <tr>\n",
       "      <th>2019-12-26 00:00:00-05:00</th>\n",
       "      <td>307.855042</td>\n",
       "      <td>160.472763</td>\n",
       "    </tr>\n",
       "    <tr>\n",
       "      <th>2019-12-27 00:00:00-05:00</th>\n",
       "      <td>307.778778</td>\n",
       "      <td>159.683319</td>\n",
       "    </tr>\n",
       "    <tr>\n",
       "      <th>2019-12-30 00:00:00-05:00</th>\n",
       "      <td>306.081970</td>\n",
       "      <td>159.278992</td>\n",
       "    </tr>\n",
       "  </tbody>\n",
       "</table>\n",
       "<p>4929 rows × 2 columns</p>\n",
       "</div>"
      ],
      "text/plain": [
       "                                sp500  russell2000\n",
       "Date                                              \n",
       "2000-05-26 00:00:00-04:00   90.664665    33.982517\n",
       "2000-05-30 00:00:00-04:00   93.621124    35.236824\n",
       "2000-05-31 00:00:00-04:00   93.826431    35.364571\n",
       "2000-06-01 00:00:00-04:00   95.468895    36.165947\n",
       "2000-06-02 00:00:00-04:00   97.131897    38.047405\n",
       "...                               ...          ...\n",
       "2019-12-23 00:00:00-05:00  306.215424   160.106964\n",
       "2019-12-24 00:00:00-05:00  306.224945   160.472763\n",
       "2019-12-26 00:00:00-05:00  307.855042   160.472763\n",
       "2019-12-27 00:00:00-05:00  307.778778   159.683319\n",
       "2019-12-30 00:00:00-05:00  306.081970   159.278992\n",
       "\n",
       "[4929 rows x 2 columns]"
      ]
     },
     "execution_count": 4,
     "metadata": {},
     "output_type": "execute_result"
    }
   ],
   "source": [
    "sp500 = sp500_df[\"Adj Close\"]\n",
    "russell2000 = russell2000_df[\"Adj Close\"]\n",
    "pair_df = pd.concat([sp500, russell2000], axis=1, join=\"inner\")\n",
    "pair_df.columns = [\"sp500\", \"russell2000\"]\n",
    "pair_df"
   ]
  },
  {
   "cell_type": "code",
   "execution_count": 5,
   "id": "85ea5f9a-f587-4796-b3af-bc13295dbd95",
   "metadata": {},
   "outputs": [],
   "source": [
    "train_df = pair_df.loc[pair_df.index < \"2017-01-01\"].reset_index(drop=True)\n",
    "test_df = pair_df.loc[pair_df.index >= \"2017-01-01\"].reset_index(drop=True)"
   ]
  },
  {
   "cell_type": "code",
   "execution_count": 6,
   "id": "e3c6c38f-0bd2-440b-b96d-5e781a2bda07",
   "metadata": {},
   "outputs": [],
   "source": [
    "# difference sequence\n",
    "d_train_df = train_df.diff().dropna()\n",
    "d_test_df = test_df.diff().dropna()"
   ]
  },
  {
   "cell_type": "markdown",
   "id": "09e45428-53e9-4f37-9c68-2db38f449829",
   "metadata": {},
   "source": [
    "# Stationarity Test"
   ]
  },
  {
   "cell_type": "code",
   "execution_count": 7,
   "id": "faac0c55-ada9-483a-b3bc-1fb9e8c46bef",
   "metadata": {},
   "outputs": [
    {
     "data": {
      "text/plain": [
       "(1.9040104428743452, 0.9873091156022337, 5, 'n')"
      ]
     },
     "execution_count": 7,
     "metadata": {},
     "output_type": "execute_result"
    }
   ],
   "source": [
    "sp500_tsa = TSA(train_df.sp500.values)\n",
    "ADF_stats, ADF_p_value, best_lag, terms = sp500_tsa.ADF_test_complete()\n",
    "ADF_stats, ADF_p_value, best_lag, terms"
   ]
  },
  {
   "cell_type": "code",
   "execution_count": 8,
   "id": "98e70e2c-942a-4bda-aec6-a63db0de8dbb",
   "metadata": {},
   "outputs": [
    {
     "data": {
      "text/plain": [
       "(1.7672413821531539, 0.9820028581398815, 5, 'n')"
      ]
     },
     "execution_count": 8,
     "metadata": {},
     "output_type": "execute_result"
    }
   ],
   "source": [
    "russell2000_tsa = TSA(train_df.russell2000.values)\n",
    "ADF_stats, ADF_p_value, best_lag, terms = russell2000_tsa.ADF_test_complete()\n",
    "ADF_stats, ADF_p_value, best_lag, terms"
   ]
  },
  {
   "cell_type": "markdown",
   "id": "612143ef-10ee-4edb-b8de-92a6a275ae94",
   "metadata": {},
   "source": [
    "Both sp500 and russell2000 are unstationary."
   ]
  },
  {
   "cell_type": "code",
   "execution_count": 9,
   "id": "ba36c631-54e8-4363-92b8-b2558a94e083",
   "metadata": {},
   "outputs": [
    {
     "data": {
      "text/plain": [
       "(-28.466035776077746, 0.0, 5, 'n')"
      ]
     },
     "execution_count": 9,
     "metadata": {},
     "output_type": "execute_result"
    }
   ],
   "source": [
    "d_sp500_tsa = TSA(d_train_df.sp500.values)\n",
    "ADF_stats, ADF_p_value, best_lag, terms = d_sp500_tsa.ADF_test_complete()\n",
    "ADF_stats, ADF_p_value, best_lag, terms"
   ]
  },
  {
   "cell_type": "code",
   "execution_count": 10,
   "id": "bdcaed98-0b1c-4a69-952b-e70f182aa361",
   "metadata": {},
   "outputs": [
    {
     "data": {
      "text/plain": [
       "(-31.00067670562371, 0.0, 4, 'n')"
      ]
     },
     "execution_count": 10,
     "metadata": {},
     "output_type": "execute_result"
    }
   ],
   "source": [
    "d_russell2000_tsa = TSA(d_train_df.russell2000.values)\n",
    "ADF_stats, ADF_p_value, best_lag, terms = d_russell2000_tsa.ADF_test_complete()\n",
    "ADF_stats, ADF_p_value, best_lag, terms"
   ]
  },
  {
   "cell_type": "markdown",
   "id": "d97cc4f5-255d-462f-a525-18513b9ba44a",
   "metadata": {},
   "source": [
    "Both difference of sp500 sequence and difference of russell2000 sequence are stationary."
   ]
  },
  {
   "cell_type": "markdown",
   "id": "15019911-ff6e-4e76-b9e0-5eaa604233c0",
   "metadata": {},
   "source": [
    "# Cointegration Test"
   ]
  },
  {
   "cell_type": "markdown",
   "id": "302934f9-8b3e-4a13-b8f4-5b452b939dba",
   "metadata": {},
   "source": [
    "## ADF Test"
   ]
  },
  {
   "cell_type": "code",
   "execution_count": 11,
   "id": "76d8fb09-b7d5-443a-84da-6eeff3b6666c",
   "metadata": {},
   "outputs": [
    {
     "data": {
      "text/plain": [
       "(-3.2068671175071555, 0.0013460413353862664, 4, 'n')"
      ]
     },
     "execution_count": 11,
     "metadata": {},
     "output_type": "execute_result"
    }
   ],
   "source": [
    "ols = sm.OLS(train_df.sp500.values, train_df.russell2000.values)\n",
    "est = ols.fit()\n",
    "residue = est.resid\n",
    "residue_tsa = TSA(residue)\n",
    "ADF_stats, ADF_p_value, best_lag, terms = residue_tsa.ADF_test_complete()\n",
    "ADF_stats, ADF_p_value, best_lag, terms"
   ]
  },
  {
   "cell_type": "markdown",
   "id": "502a9dca-22c7-4faf-8456-708d497bbd28",
   "metadata": {},
   "source": [
    "Residue is stationary. So sp500 and russell2000 are cointegrated."
   ]
  },
  {
   "cell_type": "markdown",
   "id": "439ff9c2-4f60-4d71-bbeb-afd8440290bd",
   "metadata": {},
   "source": [
    "## Johansen Test"
   ]
  },
  {
   "cell_type": "code",
   "execution_count": 12,
   "id": "d42113e2-4046-4a20-ba66-2465803cd02a",
   "metadata": {},
   "outputs": [
    {
     "data": {
      "text/plain": [
       "<statsmodels.tsa.vector_ar.vecm.JohansenTestResult at 0x7ff4d8567970>"
      ]
     },
     "execution_count": 12,
     "metadata": {},
     "output_type": "execute_result"
    }
   ],
   "source": [
    "johansen_result = coint_johansen(train_df, det_order=-1, k_ar_diff=5)\n",
    "johansen_result"
   ]
  },
  {
   "cell_type": "markdown",
   "id": "5be1f267-598f-43c9-a557-5948f31297d3",
   "metadata": {
    "tags": []
   },
   "source": [
    "# VECM / VAR"
   ]
  },
  {
   "cell_type": "markdown",
   "id": "44ff5494-a129-4c36-b24a-8b3b815d0b0f",
   "metadata": {},
   "source": [
    "$$\\Delta y_t = \\alpha \\beta^T y_{t-1} + \\Gamma_1 \\Delta y_{t-1} + \\dots + \\Gamma_{p-1} \\Delta y_{t-p+1} + u_t$$\n",
    "where $\\alpha, \\beta \\in \\mathbb{R}^{K \\times r}$ and $\\Gamma_i \\in \\mathbb{R}^{K \\times K}$ for $i = 1, \\dots, p-1$ are the parameters and $u_t$ is $K$-dimensional white noise. Both $\\alpha$ and $\\beta$ have rank $r$ - then so called cointegration rank."
   ]
  },
  {
   "cell_type": "markdown",
   "id": "c31abfa3-55f2-444b-b028-c4cf472b2ffd",
   "metadata": {},
   "source": [
    "## Choose Deterministic Terms"
   ]
  },
  {
   "cell_type": "code",
   "execution_count": 13,
   "id": "d53dc773-62c8-4efb-8997-9d101ee09259",
   "metadata": {},
   "outputs": [],
   "source": [
    "deterministic = \"colo\" # \"n\", \"ci\", \"co\", \"li\", \"lo\""
   ]
  },
  {
   "cell_type": "markdown",
   "id": "5a40d41e-b416-43d5-926c-0b1ca52fd01e",
   "metadata": {},
   "source": [
    "## Select Lag Order"
   ]
  },
  {
   "cell_type": "code",
   "execution_count": 14,
   "id": "be5efd0a-5036-402b-91e2-17c8fc37cd34",
   "metadata": {},
   "outputs": [
    {
     "data": {
      "text/html": [
       "<table class=\"simpletable\">\n",
       "<caption>VECM Order Selection (* highlights the minimums)</caption>\n",
       "<tr>\n",
       "   <td></td>      <th>AIC</th>         <th>BIC</th>         <th>FPE</th>        <th>HQIC</th>    \n",
       "</tr>\n",
       "<tr>\n",
       "  <th>0</th>  <td>    -1.552</td>  <td>    -1.537*</td> <td>    0.2118</td>  <td>    -1.547</td> \n",
       "</tr>\n",
       "<tr>\n",
       "  <th>1</th>  <td>    -1.553</td>  <td>    -1.532</td>  <td>    0.2116</td>  <td>    -1.545</td> \n",
       "</tr>\n",
       "<tr>\n",
       "  <th>2</th>  <td>    -1.560</td>  <td>    -1.532</td>  <td>    0.2102</td>  <td>    -1.550*</td>\n",
       "</tr>\n",
       "<tr>\n",
       "  <th>3</th>  <td>    -1.560</td>  <td>    -1.526</td>  <td>    0.2102</td>  <td>    -1.548</td> \n",
       "</tr>\n",
       "<tr>\n",
       "  <th>4</th>  <td>    -1.560</td>  <td>    -1.520</td>  <td>    0.2102</td>  <td>    -1.546</td> \n",
       "</tr>\n",
       "<tr>\n",
       "  <th>5</th>  <td>    -1.560*</td> <td>    -1.514</td>  <td>    0.2102*</td> <td>    -1.544</td> \n",
       "</tr>\n",
       "<tr>\n",
       "  <th>6</th>  <td>    -1.559</td>  <td>    -1.507</td>  <td>    0.2103</td>  <td>    -1.541</td> \n",
       "</tr>\n",
       "<tr>\n",
       "  <th>7</th>  <td>    -1.557</td>  <td>    -1.500</td>  <td>    0.2107</td>  <td>    -1.537</td> \n",
       "</tr>\n",
       "<tr>\n",
       "  <th>8</th>  <td>    -1.557</td>  <td>    -1.493</td>  <td>    0.2108</td>  <td>    -1.534</td> \n",
       "</tr>\n",
       "<tr>\n",
       "  <th>9</th>  <td>    -1.556</td>  <td>    -1.486</td>  <td>    0.2110</td>  <td>    -1.531</td> \n",
       "</tr>\n",
       "<tr>\n",
       "  <th>10</th> <td>    -1.555</td>  <td>    -1.479</td>  <td>    0.2112</td>  <td>    -1.528</td> \n",
       "</tr>\n",
       "</table>"
      ],
      "text/plain": [
       "<class 'statsmodels.iolib.table.SimpleTable'>"
      ]
     },
     "execution_count": 14,
     "metadata": {},
     "output_type": "execute_result"
    }
   ],
   "source": [
    "lag_order = select_order(data=train_df, maxlags=10, deterministic=deterministic)\n",
    "lag_order.summary()"
   ]
  },
  {
   "cell_type": "code",
   "execution_count": 15,
   "id": "8aff173f-5646-41e8-99df-8d50f0608b59",
   "metadata": {},
   "outputs": [
    {
     "name": "stdout",
     "output_type": "stream",
     "text": [
      "<statsmodels.tsa.vector_ar.var_model.LagOrderResults object. Selected orders are: AIC -> 5, BIC -> 0, FPE -> 5, HQIC ->  2>\n"
     ]
    }
   ],
   "source": [
    "print(lag_order)"
   ]
  },
  {
   "cell_type": "code",
   "execution_count": 16,
   "id": "9c566cbc-e662-404a-aac0-83c3d09b3ab0",
   "metadata": {},
   "outputs": [
    {
     "data": {
      "text/plain": [
       "(5, 0, 5, 2)"
      ]
     },
     "execution_count": 16,
     "metadata": {},
     "output_type": "execute_result"
    }
   ],
   "source": [
    "lag_order.aic, lag_order.bic, lag_order.fpe, lag_order.hqic"
   ]
  },
  {
   "cell_type": "markdown",
   "id": "388864a9-f9e1-4bd6-81ae-4a693aab11f7",
   "metadata": {},
   "source": [
    "## Cointegration Rank"
   ]
  },
  {
   "cell_type": "code",
   "execution_count": 17,
   "id": "9e73897b-a61a-4a89-bf1a-34cfb6f2344e",
   "metadata": {},
   "outputs": [
    {
     "data": {
      "text/plain": [
       "1"
      ]
     },
     "execution_count": 17,
     "metadata": {},
     "output_type": "execute_result"
    }
   ],
   "source": [
    "# `det_order=-1`: no deterministic terms\n",
    "rank_test = select_coint_rank(train_df, det_order=-1, k_ar_diff=lag_order.aic, signif=0.05)\n",
    "rank_test.rank"
   ]
  },
  {
   "cell_type": "code",
   "execution_count": 18,
   "id": "df6eca1e-c8ee-43bb-ab35-88352877d689",
   "metadata": {},
   "outputs": [
    {
     "data": {
      "text/html": [
       "<table class=\"simpletable\">\n",
       "<caption>Johansen cointegration test using trace test statistic with 5% significance level</caption>\n",
       "<tr>\n",
       "  <th>r_0</th> <th>r_1</th> <th>test statistic</th> <th>critical value</th>\n",
       "</tr>\n",
       "<tr>\n",
       "    <td>0</td>   <td>2</td>          <td>17.87</td>          <td>12.32</td>\n",
       "</tr>\n",
       "<tr>\n",
       "    <td>1</td>   <td>2</td>          <td>3.588</td>          <td>4.130</td>\n",
       "</tr>\n",
       "</table>"
      ],
      "text/plain": [
       "<class 'statsmodels.iolib.table.SimpleTable'>"
      ]
     },
     "execution_count": 18,
     "metadata": {},
     "output_type": "execute_result"
    }
   ],
   "source": [
    "rank_test.summary()"
   ]
  },
  {
   "cell_type": "markdown",
   "id": "e65620d3-b99f-40e7-87ed-d89e96d4c742",
   "metadata": {},
   "source": [
    "## Model"
   ]
  },
  {
   "cell_type": "code",
   "execution_count": 19,
   "id": "191d766d-000f-4e5a-a8ff-8c703683af3b",
   "metadata": {},
   "outputs": [],
   "source": [
    "vecm = VECM(train_df, \n",
    "            k_ar_diff=lag_order.aic, \n",
    "            coint_rank=rank_test.rank,\n",
    "            deterministic=deterministic)"
   ]
  },
  {
   "cell_type": "code",
   "execution_count": 20,
   "id": "e2110d2c-ebc6-4824-bb24-a0963ffa122e",
   "metadata": {},
   "outputs": [
    {
     "data": {
      "text/html": [
       "<table class=\"simpletable\">\n",
       "<caption>Det. terms outside the coint. relation & lagged endog. parameters for equation sp500</caption>\n",
       "<tr>\n",
       "         <td></td>           <th>coef</th>     <th>std err</th>      <th>z</th>      <th>P>|z|</th>  <th>[0.025</th>    <th>0.975]</th>  \n",
       "</tr>\n",
       "<tr>\n",
       "  <th>const</th>          <td>   -0.0555</td> <td>    0.038</td> <td>   -1.453</td> <td> 0.146</td> <td>   -0.130</td> <td>    0.019</td>\n",
       "</tr>\n",
       "<tr>\n",
       "  <th>lin_trend</th>      <td> 5.737e-05</td> <td> 2.97e-05</td> <td>    1.933</td> <td> 0.053</td> <td>-8.07e-07</td> <td>    0.000</td>\n",
       "</tr>\n",
       "<tr>\n",
       "  <th>L1.sp500</th>       <td>   -0.0774</td> <td>    0.033</td> <td>   -2.318</td> <td> 0.020</td> <td>   -0.143</td> <td>   -0.012</td>\n",
       "</tr>\n",
       "<tr>\n",
       "  <th>L1.russell2000</th> <td>    0.0356</td> <td>    0.045</td> <td>    0.792</td> <td> 0.428</td> <td>   -0.052</td> <td>    0.124</td>\n",
       "</tr>\n",
       "<tr>\n",
       "  <th>L2.sp500</th>       <td>   -0.1171</td> <td>    0.033</td> <td>   -3.509</td> <td> 0.000</td> <td>   -0.183</td> <td>   -0.052</td>\n",
       "</tr>\n",
       "<tr>\n",
       "  <th>L2.russell2000</th> <td>    0.0978</td> <td>    0.045</td> <td>    2.180</td> <td> 0.029</td> <td>    0.010</td> <td>    0.186</td>\n",
       "</tr>\n",
       "<tr>\n",
       "  <th>L3.sp500</th>       <td>   -0.0140</td> <td>    0.033</td> <td>   -0.419</td> <td> 0.676</td> <td>   -0.080</td> <td>    0.052</td>\n",
       "</tr>\n",
       "<tr>\n",
       "  <th>L3.russell2000</th> <td>    0.0032</td> <td>    0.045</td> <td>    0.071</td> <td> 0.944</td> <td>   -0.085</td> <td>    0.091</td>\n",
       "</tr>\n",
       "<tr>\n",
       "  <th>L4.sp500</th>       <td>   -0.0496</td> <td>    0.033</td> <td>   -1.487</td> <td> 0.137</td> <td>   -0.115</td> <td>    0.016</td>\n",
       "</tr>\n",
       "<tr>\n",
       "  <th>L4.russell2000</th> <td>    0.0367</td> <td>    0.045</td> <td>    0.821</td> <td> 0.412</td> <td>   -0.051</td> <td>    0.124</td>\n",
       "</tr>\n",
       "<tr>\n",
       "  <th>L5.sp500</th>       <td>   -0.0037</td> <td>    0.033</td> <td>   -0.111</td> <td> 0.912</td> <td>   -0.069</td> <td>    0.062</td>\n",
       "</tr>\n",
       "<tr>\n",
       "  <th>L5.russell2000</th> <td>   -0.0569</td> <td>    0.045</td> <td>   -1.272</td> <td> 0.203</td> <td>   -0.145</td> <td>    0.031</td>\n",
       "</tr>\n",
       "</table>\n",
       "<table class=\"simpletable\">\n",
       "<caption>Det. terms outside the coint. relation & lagged endog. parameters for equation russell2000</caption>\n",
       "<tr>\n",
       "         <td></td>           <th>coef</th>     <th>std err</th>      <th>z</th>      <th>P>|z|</th>  <th>[0.025</th>    <th>0.975]</th>  \n",
       "</tr>\n",
       "<tr>\n",
       "  <th>const</th>          <td>   -0.0330</td> <td>    0.028</td> <td>   -1.159</td> <td> 0.246</td> <td>   -0.089</td> <td>    0.023</td>\n",
       "</tr>\n",
       "<tr>\n",
       "  <th>lin_trend</th>      <td>  6.12e-05</td> <td> 2.21e-05</td> <td>    2.772</td> <td> 0.006</td> <td> 1.79e-05</td> <td>    0.000</td>\n",
       "</tr>\n",
       "<tr>\n",
       "  <th>L1.sp500</th>       <td>   -0.0384</td> <td>    0.025</td> <td>   -1.548</td> <td> 0.122</td> <td>   -0.087</td> <td>    0.010</td>\n",
       "</tr>\n",
       "<tr>\n",
       "  <th>L1.russell2000</th> <td>    0.0032</td> <td>    0.033</td> <td>    0.096</td> <td> 0.923</td> <td>   -0.062</td> <td>    0.069</td>\n",
       "</tr>\n",
       "<tr>\n",
       "  <th>L2.sp500</th>       <td>   -0.0358</td> <td>    0.025</td> <td>   -1.444</td> <td> 0.149</td> <td>   -0.084</td> <td>    0.013</td>\n",
       "</tr>\n",
       "<tr>\n",
       "  <th>L2.russell2000</th> <td>    0.0379</td> <td>    0.033</td> <td>    1.136</td> <td> 0.256</td> <td>   -0.027</td> <td>    0.103</td>\n",
       "</tr>\n",
       "<tr>\n",
       "  <th>L3.sp500</th>       <td>    0.0228</td> <td>    0.025</td> <td>    0.918</td> <td> 0.358</td> <td>   -0.026</td> <td>    0.072</td>\n",
       "</tr>\n",
       "<tr>\n",
       "  <th>L3.russell2000</th> <td>   -0.0291</td> <td>    0.033</td> <td>   -0.872</td> <td> 0.383</td> <td>   -0.094</td> <td>    0.036</td>\n",
       "</tr>\n",
       "<tr>\n",
       "  <th>L4.sp500</th>       <td>   -0.0194</td> <td>    0.025</td> <td>   -0.783</td> <td> 0.434</td> <td>   -0.068</td> <td>    0.029</td>\n",
       "</tr>\n",
       "<tr>\n",
       "  <th>L4.russell2000</th> <td>   -0.0046</td> <td>    0.033</td> <td>   -0.137</td> <td> 0.891</td> <td>   -0.070</td> <td>    0.061</td>\n",
       "</tr>\n",
       "<tr>\n",
       "  <th>L5.sp500</th>       <td>    0.0016</td> <td>    0.025</td> <td>    0.066</td> <td> 0.947</td> <td>   -0.047</td> <td>    0.050</td>\n",
       "</tr>\n",
       "<tr>\n",
       "  <th>L5.russell2000</th> <td>   -0.0410</td> <td>    0.033</td> <td>   -1.232</td> <td> 0.218</td> <td>   -0.106</td> <td>    0.024</td>\n",
       "</tr>\n",
       "</table>\n",
       "<table class=\"simpletable\">\n",
       "<caption>Loading coefficients (alpha) for equation sp500</caption>\n",
       "<tr>\n",
       "   <td></td>      <th>coef</th>     <th>std err</th>      <th>z</th>      <th>P>|z|</th>  <th>[0.025</th>    <th>0.975]</th>  \n",
       "</tr>\n",
       "<tr>\n",
       "  <th>ec1</th> <td>    0.0020</td> <td>    0.002</td> <td>    0.871</td> <td> 0.384</td> <td>   -0.002</td> <td>    0.006</td>\n",
       "</tr>\n",
       "</table>\n",
       "<table class=\"simpletable\">\n",
       "<caption>Loading coefficients (alpha) for equation russell2000</caption>\n",
       "<tr>\n",
       "   <td></td>      <th>coef</th>     <th>std err</th>      <th>z</th>      <th>P>|z|</th>  <th>[0.025</th>    <th>0.975]</th>  \n",
       "</tr>\n",
       "<tr>\n",
       "  <th>ec1</th> <td>    0.0040</td> <td>    0.002</td> <td>    2.392</td> <td> 0.017</td> <td>    0.001</td> <td>    0.007</td>\n",
       "</tr>\n",
       "</table>\n",
       "<table class=\"simpletable\">\n",
       "<caption>Cointegration relations for loading-coefficients-column 1</caption>\n",
       "<tr>\n",
       "     <td></td>       <th>coef</th>     <th>std err</th>      <th>z</th>      <th>P>|z|</th>  <th>[0.025</th>    <th>0.975]</th>  \n",
       "</tr>\n",
       "<tr>\n",
       "  <th>beta.1</th> <td>    1.0000</td> <td>        0</td> <td>        0</td> <td> 0.000</td> <td>    1.000</td> <td>    1.000</td>\n",
       "</tr>\n",
       "<tr>\n",
       "  <th>beta.2</th> <td>   -1.9983</td> <td>    0.197</td> <td>  -10.168</td> <td> 0.000</td> <td>   -2.384</td> <td>   -1.613</td>\n",
       "</tr>\n",
       "</table>"
      ],
      "text/plain": [
       "<class 'statsmodels.iolib.summary.Summary'>\n",
       "\"\"\"\n",
       "Det. terms outside the coint. relation & lagged endog. parameters for equation sp500\n",
       "==================================================================================\n",
       "                     coef    std err          z      P>|z|      [0.025      0.975]\n",
       "----------------------------------------------------------------------------------\n",
       "const             -0.0555      0.038     -1.453      0.146      -0.130       0.019\n",
       "lin_trend       5.737e-05   2.97e-05      1.933      0.053   -8.07e-07       0.000\n",
       "L1.sp500          -0.0774      0.033     -2.318      0.020      -0.143      -0.012\n",
       "L1.russell2000     0.0356      0.045      0.792      0.428      -0.052       0.124\n",
       "L2.sp500          -0.1171      0.033     -3.509      0.000      -0.183      -0.052\n",
       "L2.russell2000     0.0978      0.045      2.180      0.029       0.010       0.186\n",
       "L3.sp500          -0.0140      0.033     -0.419      0.676      -0.080       0.052\n",
       "L3.russell2000     0.0032      0.045      0.071      0.944      -0.085       0.091\n",
       "L4.sp500          -0.0496      0.033     -1.487      0.137      -0.115       0.016\n",
       "L4.russell2000     0.0367      0.045      0.821      0.412      -0.051       0.124\n",
       "L5.sp500          -0.0037      0.033     -0.111      0.912      -0.069       0.062\n",
       "L5.russell2000    -0.0569      0.045     -1.272      0.203      -0.145       0.031\n",
       "Det. terms outside the coint. relation & lagged endog. parameters for equation russell2000\n",
       "==================================================================================\n",
       "                     coef    std err          z      P>|z|      [0.025      0.975]\n",
       "----------------------------------------------------------------------------------\n",
       "const             -0.0330      0.028     -1.159      0.246      -0.089       0.023\n",
       "lin_trend        6.12e-05   2.21e-05      2.772      0.006    1.79e-05       0.000\n",
       "L1.sp500          -0.0384      0.025     -1.548      0.122      -0.087       0.010\n",
       "L1.russell2000     0.0032      0.033      0.096      0.923      -0.062       0.069\n",
       "L2.sp500          -0.0358      0.025     -1.444      0.149      -0.084       0.013\n",
       "L2.russell2000     0.0379      0.033      1.136      0.256      -0.027       0.103\n",
       "L3.sp500           0.0228      0.025      0.918      0.358      -0.026       0.072\n",
       "L3.russell2000    -0.0291      0.033     -0.872      0.383      -0.094       0.036\n",
       "L4.sp500          -0.0194      0.025     -0.783      0.434      -0.068       0.029\n",
       "L4.russell2000    -0.0046      0.033     -0.137      0.891      -0.070       0.061\n",
       "L5.sp500           0.0016      0.025      0.066      0.947      -0.047       0.050\n",
       "L5.russell2000    -0.0410      0.033     -1.232      0.218      -0.106       0.024\n",
       "               Loading coefficients (alpha) for equation sp500                \n",
       "==============================================================================\n",
       "                 coef    std err          z      P>|z|      [0.025      0.975]\n",
       "------------------------------------------------------------------------------\n",
       "ec1            0.0020      0.002      0.871      0.384      -0.002       0.006\n",
       "            Loading coefficients (alpha) for equation russell2000             \n",
       "==============================================================================\n",
       "                 coef    std err          z      P>|z|      [0.025      0.975]\n",
       "------------------------------------------------------------------------------\n",
       "ec1            0.0040      0.002      2.392      0.017       0.001       0.007\n",
       "          Cointegration relations for loading-coefficients-column 1           \n",
       "==============================================================================\n",
       "                 coef    std err          z      P>|z|      [0.025      0.975]\n",
       "------------------------------------------------------------------------------\n",
       "beta.1         1.0000          0          0      0.000       1.000       1.000\n",
       "beta.2        -1.9983      0.197    -10.168      0.000      -2.384      -1.613\n",
       "==============================================================================\n",
       "\"\"\""
      ]
     },
     "execution_count": 20,
     "metadata": {},
     "output_type": "execute_result"
    }
   ],
   "source": [
    "vecm_res = vecm.fit()\n",
    "vecm_res.summary()"
   ]
  },
  {
   "cell_type": "markdown",
   "id": "380bf343-1d10-4fcb-93c5-c7600e64e22c",
   "metadata": {},
   "source": [
    "## Forecast"
   ]
  },
  {
   "cell_type": "code",
   "execution_count": 21,
   "id": "f766d262-30b0-456c-a9ba-43d9b63da019",
   "metadata": {},
   "outputs": [
    {
     "data": {
      "text/plain": [
       "array([[201.43788072, 124.92738811],\n",
       "       [201.56076617, 124.97206802],\n",
       "       [201.72530098, 125.04110499],\n",
       "       [201.80567671, 125.07576766],\n",
       "       [201.90113773, 125.11662653]])"
      ]
     },
     "execution_count": 21,
     "metadata": {},
     "output_type": "execute_result"
    }
   ],
   "source": [
    "vecm_res.predict(steps=5)"
   ]
  },
  {
   "cell_type": "code",
   "execution_count": 22,
   "id": "a77151d9-a102-4b91-84ee-ef185ad72b3a",
   "metadata": {},
   "outputs": [
    {
     "name": "stdout",
     "output_type": "stream",
     "text": [
      "forecast:\n",
      "[[201.43788072 124.92738811]\n",
      " [201.56076617 124.97206802]\n",
      " [201.72530098 125.04110499]\n",
      " [201.80567671 125.07576766]\n",
      " [201.90113773 125.11662653]]\n",
      "lower:\n",
      "[[199.18589196 123.2526217 ]\n",
      " [198.46152013 122.65689781]\n",
      " [198.02702691 122.23269254]\n",
      " [197.59964257 121.85179939]\n",
      " [197.26095074 121.54606716]]\n",
      "upper:\n",
      "[[203.68986947 126.60215452]\n",
      " [204.66001222 127.28723823]\n",
      " [205.42357504 127.84951744]\n",
      " [206.01171086 128.29973593]\n",
      " [206.54132472 128.6871859 ]]\n"
     ]
    }
   ],
   "source": [
    "for text, nd in zip(\n",
    "    [\"forecast\", \"lower\", \"upper\"], \n",
    "    vecm_res.predict(steps=5, alpha=0.05) # 95% confidence level\n",
    "):\n",
    "    print(f\"{text}:\\n{nd}\")"
   ]
  },
  {
   "cell_type": "code",
   "execution_count": null,
   "id": "d8b9ebaf-f129-4e9b-bc02-b3e24ba40131",
   "metadata": {},
   "outputs": [],
   "source": []
  },
  {
   "cell_type": "code",
   "execution_count": null,
   "id": "7b909805-b9f3-4d9c-9c7b-c1104bb39f46",
   "metadata": {},
   "outputs": [],
   "source": []
  }
 ],
 "metadata": {
  "kernelspec": {
   "display_name": "Python 3 (ipykernel)",
   "language": "python",
   "name": "python3"
  },
  "language_info": {
   "codemirror_mode": {
    "name": "ipython",
    "version": 3
   },
   "file_extension": ".py",
   "mimetype": "text/x-python",
   "name": "python",
   "nbconvert_exporter": "python",
   "pygments_lexer": "ipython3",
   "version": "3.9.13"
  },
  "toc-autonumbering": true
 },
 "nbformat": 4,
 "nbformat_minor": 5
}
