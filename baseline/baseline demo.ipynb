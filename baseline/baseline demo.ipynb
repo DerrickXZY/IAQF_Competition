{
 "cells": [
  {
   "cell_type": "code",
   "execution_count": 1,
   "id": "9d3f334b-ca29-4367-b382-1dfc78625ea9",
   "metadata": {},
   "outputs": [],
   "source": [
    "import numpy as np\n",
    "import pandas as pd\n",
    "import yfinance as yf\n",
    "import statsmodels.api as sm\n",
    "from statsmodels.tsa.vector_ar.vecm import VECM, select_order, select_coint_rank\n",
    "from time_series_utils import TSA\n",
    "import matplotlib.pyplot as plt"
   ]
  },
  {
   "cell_type": "code",
   "execution_count": 2,
   "id": "57f58815-6b62-4d92-abc4-4efb6f5c38e2",
   "metadata": {},
   "outputs": [],
   "source": [
    "start_date = pd.Timestamp(\"2000-01-01\")\n",
    "end_date = pd.Timestamp(\"2019-12-31\")"
   ]
  },
  {
   "cell_type": "code",
   "execution_count": 3,
   "id": "8e5af524-e5b2-4a3b-9a30-ac4b04dfa550",
   "metadata": {},
   "outputs": [
    {
     "name": "stdout",
     "output_type": "stream",
     "text": [
      "[*********************100%***********************]  1 of 1 completed\n",
      "[*********************100%***********************]  1 of 1 completed\n"
     ]
    },
    {
     "data": {
      "text/html": [
       "<div>\n",
       "<style scoped>\n",
       "    .dataframe tbody tr th:only-of-type {\n",
       "        vertical-align: middle;\n",
       "    }\n",
       "\n",
       "    .dataframe tbody tr th {\n",
       "        vertical-align: top;\n",
       "    }\n",
       "\n",
       "    .dataframe thead th {\n",
       "        text-align: right;\n",
       "    }\n",
       "</style>\n",
       "<table border=\"1\" class=\"dataframe\">\n",
       "  <thead>\n",
       "    <tr style=\"text-align: right;\">\n",
       "      <th></th>\n",
       "      <th>Open</th>\n",
       "      <th>High</th>\n",
       "      <th>Low</th>\n",
       "      <th>Close</th>\n",
       "      <th>Adj Close</th>\n",
       "      <th>Volume</th>\n",
       "    </tr>\n",
       "    <tr>\n",
       "      <th>Date</th>\n",
       "      <th></th>\n",
       "      <th></th>\n",
       "      <th></th>\n",
       "      <th></th>\n",
       "      <th></th>\n",
       "      <th></th>\n",
       "    </tr>\n",
       "  </thead>\n",
       "  <tbody>\n",
       "    <tr>\n",
       "      <th>2000-01-03 00:00:00-05:00</th>\n",
       "      <td>148.25000</td>\n",
       "      <td>148.25000</td>\n",
       "      <td>143.875000</td>\n",
       "      <td>145.4375</td>\n",
       "      <td>95.308800</td>\n",
       "      <td>8164300</td>\n",
       "    </tr>\n",
       "    <tr>\n",
       "      <th>2000-01-04 00:00:00-05:00</th>\n",
       "      <td>143.53125</td>\n",
       "      <td>144.06250</td>\n",
       "      <td>139.640625</td>\n",
       "      <td>139.7500</td>\n",
       "      <td>91.581650</td>\n",
       "      <td>8089800</td>\n",
       "    </tr>\n",
       "    <tr>\n",
       "      <th>2000-01-05 00:00:00-05:00</th>\n",
       "      <td>139.93750</td>\n",
       "      <td>141.53125</td>\n",
       "      <td>137.250000</td>\n",
       "      <td>140.0000</td>\n",
       "      <td>91.745491</td>\n",
       "      <td>12177900</td>\n",
       "    </tr>\n",
       "    <tr>\n",
       "      <th>2000-01-06 00:00:00-05:00</th>\n",
       "      <td>139.62500</td>\n",
       "      <td>141.50000</td>\n",
       "      <td>137.750000</td>\n",
       "      <td>137.7500</td>\n",
       "      <td>90.271011</td>\n",
       "      <td>6227200</td>\n",
       "    </tr>\n",
       "    <tr>\n",
       "      <th>2000-01-07 00:00:00-05:00</th>\n",
       "      <td>140.31250</td>\n",
       "      <td>145.75000</td>\n",
       "      <td>140.062500</td>\n",
       "      <td>145.7500</td>\n",
       "      <td>95.513634</td>\n",
       "      <td>8066500</td>\n",
       "    </tr>\n",
       "  </tbody>\n",
       "</table>\n",
       "</div>"
      ],
      "text/plain": [
       "                                Open       High         Low     Close  \\\n",
       "Date                                                                    \n",
       "2000-01-03 00:00:00-05:00  148.25000  148.25000  143.875000  145.4375   \n",
       "2000-01-04 00:00:00-05:00  143.53125  144.06250  139.640625  139.7500   \n",
       "2000-01-05 00:00:00-05:00  139.93750  141.53125  137.250000  140.0000   \n",
       "2000-01-06 00:00:00-05:00  139.62500  141.50000  137.750000  137.7500   \n",
       "2000-01-07 00:00:00-05:00  140.31250  145.75000  140.062500  145.7500   \n",
       "\n",
       "                           Adj Close    Volume  \n",
       "Date                                            \n",
       "2000-01-03 00:00:00-05:00  95.308800   8164300  \n",
       "2000-01-04 00:00:00-05:00  91.581650   8089800  \n",
       "2000-01-05 00:00:00-05:00  91.745491  12177900  \n",
       "2000-01-06 00:00:00-05:00  90.271011   6227200  \n",
       "2000-01-07 00:00:00-05:00  95.513634   8066500  "
      ]
     },
     "metadata": {},
     "output_type": "display_data"
    },
    {
     "data": {
      "text/html": [
       "<div>\n",
       "<style scoped>\n",
       "    .dataframe tbody tr th:only-of-type {\n",
       "        vertical-align: middle;\n",
       "    }\n",
       "\n",
       "    .dataframe tbody tr th {\n",
       "        vertical-align: top;\n",
       "    }\n",
       "\n",
       "    .dataframe thead th {\n",
       "        text-align: right;\n",
       "    }\n",
       "</style>\n",
       "<table border=\"1\" class=\"dataframe\">\n",
       "  <thead>\n",
       "    <tr style=\"text-align: right;\">\n",
       "      <th></th>\n",
       "      <th>Open</th>\n",
       "      <th>High</th>\n",
       "      <th>Low</th>\n",
       "      <th>Close</th>\n",
       "      <th>Adj Close</th>\n",
       "      <th>Volume</th>\n",
       "    </tr>\n",
       "    <tr>\n",
       "      <th>Date</th>\n",
       "      <th></th>\n",
       "      <th></th>\n",
       "      <th></th>\n",
       "      <th></th>\n",
       "      <th></th>\n",
       "      <th></th>\n",
       "    </tr>\n",
       "  </thead>\n",
       "  <tbody>\n",
       "    <tr>\n",
       "      <th>2000-05-26 00:00:00-04:00</th>\n",
       "      <td>45.531250</td>\n",
       "      <td>45.71875</td>\n",
       "      <td>45.312500</td>\n",
       "      <td>45.718750</td>\n",
       "      <td>33.982517</td>\n",
       "      <td>74800</td>\n",
       "    </tr>\n",
       "    <tr>\n",
       "      <th>2000-05-30 00:00:00-04:00</th>\n",
       "      <td>46.375000</td>\n",
       "      <td>47.40625</td>\n",
       "      <td>46.375000</td>\n",
       "      <td>47.406250</td>\n",
       "      <td>35.236828</td>\n",
       "      <td>57600</td>\n",
       "    </tr>\n",
       "    <tr>\n",
       "      <th>2000-05-31 00:00:00-04:00</th>\n",
       "      <td>47.562500</td>\n",
       "      <td>48.18750</td>\n",
       "      <td>47.562500</td>\n",
       "      <td>47.578125</td>\n",
       "      <td>35.364574</td>\n",
       "      <td>36000</td>\n",
       "    </tr>\n",
       "    <tr>\n",
       "      <th>2000-06-01 00:00:00-04:00</th>\n",
       "      <td>48.554688</td>\n",
       "      <td>48.65625</td>\n",
       "      <td>48.554688</td>\n",
       "      <td>48.656250</td>\n",
       "      <td>36.165951</td>\n",
       "      <td>7000</td>\n",
       "    </tr>\n",
       "    <tr>\n",
       "      <th>2000-06-02 00:00:00-04:00</th>\n",
       "      <td>50.859375</td>\n",
       "      <td>51.18750</td>\n",
       "      <td>50.859375</td>\n",
       "      <td>51.187500</td>\n",
       "      <td>38.047409</td>\n",
       "      <td>29400</td>\n",
       "    </tr>\n",
       "  </tbody>\n",
       "</table>\n",
       "</div>"
      ],
      "text/plain": [
       "                                Open      High        Low      Close  \\\n",
       "Date                                                                   \n",
       "2000-05-26 00:00:00-04:00  45.531250  45.71875  45.312500  45.718750   \n",
       "2000-05-30 00:00:00-04:00  46.375000  47.40625  46.375000  47.406250   \n",
       "2000-05-31 00:00:00-04:00  47.562500  48.18750  47.562500  47.578125   \n",
       "2000-06-01 00:00:00-04:00  48.554688  48.65625  48.554688  48.656250   \n",
       "2000-06-02 00:00:00-04:00  50.859375  51.18750  50.859375  51.187500   \n",
       "\n",
       "                           Adj Close  Volume  \n",
       "Date                                          \n",
       "2000-05-26 00:00:00-04:00  33.982517   74800  \n",
       "2000-05-30 00:00:00-04:00  35.236828   57600  \n",
       "2000-05-31 00:00:00-04:00  35.364574   36000  \n",
       "2000-06-01 00:00:00-04:00  36.165951    7000  \n",
       "2000-06-02 00:00:00-04:00  38.047409   29400  "
      ]
     },
     "metadata": {},
     "output_type": "display_data"
    },
    {
     "data": {
      "text/plain": [
       "(5030, 4929)"
      ]
     },
     "execution_count": 3,
     "metadata": {},
     "output_type": "execute_result"
    }
   ],
   "source": [
    "# \"SPY\": SPDR S&P 500 ETF Trust\n",
    "# \"IWM\": iShares Russell 2000 ETF \n",
    "sp500_df = yf.download(\"SPY\", start=start_date, end=end_date)\n",
    "russell2000_df = yf.download(\"IWM\", start=start_date, end=end_date)\n",
    "display(sp500_df.head())\n",
    "display(russell2000_df.head())\n",
    "sp500_df.shape[0], russell2000_df.shape[0]"
   ]
  },
  {
   "cell_type": "code",
   "execution_count": 4,
   "id": "2ce0fcb1-0ea8-4f67-8030-644530716542",
   "metadata": {},
   "outputs": [
    {
     "data": {
      "text/html": [
       "<div>\n",
       "<style scoped>\n",
       "    .dataframe tbody tr th:only-of-type {\n",
       "        vertical-align: middle;\n",
       "    }\n",
       "\n",
       "    .dataframe tbody tr th {\n",
       "        vertical-align: top;\n",
       "    }\n",
       "\n",
       "    .dataframe thead th {\n",
       "        text-align: right;\n",
       "    }\n",
       "</style>\n",
       "<table border=\"1\" class=\"dataframe\">\n",
       "  <thead>\n",
       "    <tr style=\"text-align: right;\">\n",
       "      <th></th>\n",
       "      <th>sp500</th>\n",
       "      <th>russell2000</th>\n",
       "    </tr>\n",
       "    <tr>\n",
       "      <th>Date</th>\n",
       "      <th></th>\n",
       "      <th></th>\n",
       "    </tr>\n",
       "  </thead>\n",
       "  <tbody>\n",
       "    <tr>\n",
       "      <th>2000-05-26 00:00:00-04:00</th>\n",
       "      <td>90.664680</td>\n",
       "      <td>33.982517</td>\n",
       "    </tr>\n",
       "    <tr>\n",
       "      <th>2000-05-30 00:00:00-04:00</th>\n",
       "      <td>93.621147</td>\n",
       "      <td>35.236828</td>\n",
       "    </tr>\n",
       "    <tr>\n",
       "      <th>2000-05-31 00:00:00-04:00</th>\n",
       "      <td>93.826431</td>\n",
       "      <td>35.364574</td>\n",
       "    </tr>\n",
       "    <tr>\n",
       "      <th>2000-06-01 00:00:00-04:00</th>\n",
       "      <td>95.468903</td>\n",
       "      <td>36.165951</td>\n",
       "    </tr>\n",
       "    <tr>\n",
       "      <th>2000-06-02 00:00:00-04:00</th>\n",
       "      <td>97.131958</td>\n",
       "      <td>38.047409</td>\n",
       "    </tr>\n",
       "    <tr>\n",
       "      <th>...</th>\n",
       "      <td>...</td>\n",
       "      <td>...</td>\n",
       "    </tr>\n",
       "    <tr>\n",
       "      <th>2019-12-23 00:00:00-05:00</th>\n",
       "      <td>306.215393</td>\n",
       "      <td>160.106918</td>\n",
       "    </tr>\n",
       "    <tr>\n",
       "      <th>2019-12-24 00:00:00-05:00</th>\n",
       "      <td>306.225006</td>\n",
       "      <td>160.472794</td>\n",
       "    </tr>\n",
       "    <tr>\n",
       "      <th>2019-12-26 00:00:00-05:00</th>\n",
       "      <td>307.855103</td>\n",
       "      <td>160.472794</td>\n",
       "    </tr>\n",
       "    <tr>\n",
       "      <th>2019-12-27 00:00:00-05:00</th>\n",
       "      <td>307.778778</td>\n",
       "      <td>159.683334</td>\n",
       "    </tr>\n",
       "    <tr>\n",
       "      <th>2019-12-30 00:00:00-05:00</th>\n",
       "      <td>306.081940</td>\n",
       "      <td>159.278961</td>\n",
       "    </tr>\n",
       "  </tbody>\n",
       "</table>\n",
       "<p>4929 rows × 2 columns</p>\n",
       "</div>"
      ],
      "text/plain": [
       "                                sp500  russell2000\n",
       "Date                                              \n",
       "2000-05-26 00:00:00-04:00   90.664680    33.982517\n",
       "2000-05-30 00:00:00-04:00   93.621147    35.236828\n",
       "2000-05-31 00:00:00-04:00   93.826431    35.364574\n",
       "2000-06-01 00:00:00-04:00   95.468903    36.165951\n",
       "2000-06-02 00:00:00-04:00   97.131958    38.047409\n",
       "...                               ...          ...\n",
       "2019-12-23 00:00:00-05:00  306.215393   160.106918\n",
       "2019-12-24 00:00:00-05:00  306.225006   160.472794\n",
       "2019-12-26 00:00:00-05:00  307.855103   160.472794\n",
       "2019-12-27 00:00:00-05:00  307.778778   159.683334\n",
       "2019-12-30 00:00:00-05:00  306.081940   159.278961\n",
       "\n",
       "[4929 rows x 2 columns]"
      ]
     },
     "execution_count": 4,
     "metadata": {},
     "output_type": "execute_result"
    }
   ],
   "source": [
    "sp500 = sp500_df[\"Adj Close\"]\n",
    "russell2000 = russell2000_df[\"Adj Close\"]\n",
    "pair_df = pd.concat([sp500, russell2000], axis=1, join=\"inner\")\n",
    "pair_df.columns = [\"sp500\", \"russell2000\"]\n",
    "pair_df"
   ]
  },
  {
   "cell_type": "code",
   "execution_count": 5,
   "id": "85ea5f9a-f587-4796-b3af-bc13295dbd95",
   "metadata": {},
   "outputs": [],
   "source": [
    "train_df = pair_df.loc[pair_df.index < \"2017-01-01\"]\n",
    "test_df = pair_df.loc[pair_df.index >= \"2017-01-01\"]"
   ]
  },
  {
   "cell_type": "code",
   "execution_count": 6,
   "id": "29bcb698-174d-4dd3-a9b0-9558e3bbb0e1",
   "metadata": {},
   "outputs": [],
   "source": [
    "train_df_ = train_df.reset_index(drop=True)"
   ]
  },
  {
   "cell_type": "markdown",
   "id": "09e45428-53e9-4f37-9c68-2db38f449829",
   "metadata": {},
   "source": [
    "# Stationarity Test"
   ]
  },
  {
   "cell_type": "code",
   "execution_count": 7,
   "id": "faac0c55-ada9-483a-b3bc-1fb9e8c46bef",
   "metadata": {},
   "outputs": [
    {
     "data": {
      "text/plain": [
       "(1.9040112761652597, 0.9873091437053468, 5, 'n')"
      ]
     },
     "execution_count": 7,
     "metadata": {},
     "output_type": "execute_result"
    }
   ],
   "source": [
    "sp500_tsa = TSA(train_df_.sp500.values)\n",
    "ADF_stats, ADF_p_value, best_lag, terms = sp500_tsa.ADF_test_complete()\n",
    "ADF_stats, ADF_p_value, best_lag, terms"
   ]
  },
  {
   "cell_type": "code",
   "execution_count": 8,
   "id": "98e70e2c-942a-4bda-aec6-a63db0de8dbb",
   "metadata": {},
   "outputs": [
    {
     "data": {
      "text/plain": [
       "(1.7672407460561346, 0.9820028300411496, 5, 'n')"
      ]
     },
     "execution_count": 8,
     "metadata": {},
     "output_type": "execute_result"
    }
   ],
   "source": [
    "russell2000_tsa = TSA(train_df_.russell2000.values)\n",
    "ADF_stats, ADF_p_value, best_lag, terms = russell2000_tsa.ADF_test_complete()\n",
    "ADF_stats, ADF_p_value, best_lag, terms"
   ]
  },
  {
   "cell_type": "markdown",
   "id": "612143ef-10ee-4edb-b8de-92a6a275ae94",
   "metadata": {},
   "source": [
    "Both sp500 and russell2000 are unstationary."
   ]
  },
  {
   "cell_type": "markdown",
   "id": "15019911-ff6e-4e76-b9e0-5eaa604233c0",
   "metadata": {},
   "source": [
    "# Cointegration Test"
   ]
  },
  {
   "cell_type": "code",
   "execution_count": 9,
   "id": "76d8fb09-b7d5-443a-84da-6eeff3b6666c",
   "metadata": {},
   "outputs": [
    {
     "data": {
      "text/plain": [
       "(-3.2068729784290153, 0.0013460146676103292, 4, 'n')"
      ]
     },
     "execution_count": 9,
     "metadata": {},
     "output_type": "execute_result"
    }
   ],
   "source": [
    "ols = sm.OLS(train_df_.sp500.values, train_df_.russell2000.values)\n",
    "est = ols.fit()\n",
    "residue = est.resid\n",
    "residue_tsa = TSA(residue)\n",
    "ADF_stats, ADF_p_value, best_lag, terms = residue_tsa.ADF_test_complete()\n",
    "ADF_stats, ADF_p_value, best_lag, terms"
   ]
  },
  {
   "cell_type": "markdown",
   "id": "502a9dca-22c7-4faf-8456-708d497bbd28",
   "metadata": {},
   "source": [
    "Residue is stationary. So sp500 and russell2000 are cointegrated."
   ]
  },
  {
   "cell_type": "code",
   "execution_count": 10,
   "id": "75301465-06f6-4de6-99cb-bdca2c80dd26",
   "metadata": {},
   "outputs": [],
   "source": [
    "# add-ons: Johansen Test"
   ]
  },
  {
   "cell_type": "markdown",
   "id": "af1f5160-6c36-44f6-a02d-5a6c3513b981",
   "metadata": {},
   "source": [
    "# VAR / VECM"
   ]
  },
  {
   "cell_type": "markdown",
   "id": "44ff5494-a129-4c36-b24a-8b3b815d0b0f",
   "metadata": {},
   "source": [
    "$$\\Delta y_t = \\alpha \\beta^T y_{t-1} + \\Gamma_1 \\Delta y_{t-1} + \\dots + \\Gamma_{p-1} \\Delta y_{t-p+1} + u_t$$\n",
    "where $\\alpha, \\beta \\in \\mathbb{R}^{K \\times r}$ and $\\Gamma_i \\in \\mathbb{R}^{K \\times K}$ for $i = 1, \\dots, p-1$ are the parameters and $u_t$ is $K$-dimensional white noise. Both $\\alpha$ and $\\beta$ have rank $r$ - then so called cointegration rank."
   ]
  },
  {
   "cell_type": "markdown",
   "id": "c31abfa3-55f2-444b-b028-c4cf472b2ffd",
   "metadata": {},
   "source": [
    "## Choose Deterministic Terms"
   ]
  },
  {
   "cell_type": "markdown",
   "id": "d5e32aea-a281-46c7-9c38-8ccca014b537",
   "metadata": {},
   "source": [
    "According to the `terms` in the cointegration relation between sp500 and russell2000, no deterministic terms are needed to add inside the cointegration relation."
   ]
  },
  {
   "cell_type": "code",
   "execution_count": 11,
   "id": "d53dc773-62c8-4efb-8997-9d101ee09259",
   "metadata": {},
   "outputs": [],
   "source": [
    "deterministic = \"n\" # \"n\", \"ci\", \"co\", \"li\", \"lo\""
   ]
  },
  {
   "cell_type": "markdown",
   "id": "5a40d41e-b416-43d5-926c-0b1ca52fd01e",
   "metadata": {},
   "source": [
    "## Select Lag Order"
   ]
  },
  {
   "cell_type": "code",
   "execution_count": 12,
   "id": "be5efd0a-5036-402b-91e2-17c8fc37cd34",
   "metadata": {},
   "outputs": [
    {
     "data": {
      "text/html": [
       "<table class=\"simpletable\">\n",
       "<caption>VECM Order Selection (* highlights the minimums)</caption>\n",
       "<tr>\n",
       "   <td></td>      <th>AIC</th>         <th>BIC</th>         <th>FPE</th>        <th>HQIC</th>    \n",
       "</tr>\n",
       "<tr>\n",
       "  <th>0</th>  <td>    -1.552</td>  <td>    -1.542*</td> <td>    0.2119</td>  <td>    -1.548</td> \n",
       "</tr>\n",
       "<tr>\n",
       "  <th>1</th>  <td>    -1.553</td>  <td>    -1.537</td>  <td>    0.2117</td>  <td>    -1.547</td> \n",
       "</tr>\n",
       "<tr>\n",
       "  <th>2</th>  <td>    -1.559</td>  <td>    -1.538</td>  <td>    0.2103</td>  <td>    -1.552*</td>\n",
       "</tr>\n",
       "<tr>\n",
       "  <th>3</th>  <td>    -1.559</td>  <td>    -1.532</td>  <td>    0.2103</td>  <td>    -1.550</td> \n",
       "</tr>\n",
       "<tr>\n",
       "  <th>4</th>  <td>    -1.559</td>  <td>    -1.526</td>  <td>    0.2103</td>  <td>    -1.548</td> \n",
       "</tr>\n",
       "<tr>\n",
       "  <th>5</th>  <td>    -1.560*</td> <td>    -1.520</td>  <td>    0.2102*</td> <td>    -1.546</td> \n",
       "</tr>\n",
       "<tr>\n",
       "  <th>6</th>  <td>    -1.559</td>  <td>    -1.513</td>  <td>    0.2104</td>  <td>    -1.543</td> \n",
       "</tr>\n",
       "<tr>\n",
       "  <th>7</th>  <td>    -1.557</td>  <td>    -1.506</td>  <td>    0.2107</td>  <td>    -1.539</td> \n",
       "</tr>\n",
       "<tr>\n",
       "  <th>8</th>  <td>    -1.557</td>  <td>    -1.499</td>  <td>    0.2108</td>  <td>    -1.536</td> \n",
       "</tr>\n",
       "<tr>\n",
       "  <th>9</th>  <td>    -1.556</td>  <td>    -1.492</td>  <td>    0.2110</td>  <td>    -1.533</td> \n",
       "</tr>\n",
       "<tr>\n",
       "  <th>10</th> <td>    -1.555</td>  <td>    -1.485</td>  <td>    0.2112</td>  <td>    -1.530</td> \n",
       "</tr>\n",
       "</table>"
      ],
      "text/plain": [
       "<class 'statsmodels.iolib.table.SimpleTable'>"
      ]
     },
     "execution_count": 12,
     "metadata": {},
     "output_type": "execute_result"
    }
   ],
   "source": [
    "# without `.reset_index(drop=True)`: warning - not use date index\n",
    "lag_order = select_order(data=train_df_, maxlags=10, deterministic=deterministic)\n",
    "lag_order.summary()"
   ]
  },
  {
   "cell_type": "code",
   "execution_count": 13,
   "id": "8aff173f-5646-41e8-99df-8d50f0608b59",
   "metadata": {},
   "outputs": [
    {
     "name": "stdout",
     "output_type": "stream",
     "text": [
      "<statsmodels.tsa.vector_ar.var_model.LagOrderResults object. Selected orders are: AIC -> 5, BIC -> 0, FPE -> 5, HQIC ->  2>\n"
     ]
    }
   ],
   "source": [
    "print(lag_order)"
   ]
  },
  {
   "cell_type": "code",
   "execution_count": 14,
   "id": "9c566cbc-e662-404a-aac0-83c3d09b3ab0",
   "metadata": {},
   "outputs": [
    {
     "data": {
      "text/plain": [
       "(5, 0, 5, 2)"
      ]
     },
     "execution_count": 14,
     "metadata": {},
     "output_type": "execute_result"
    }
   ],
   "source": [
    "lag_order.aic, lag_order.bic, lag_order.fpe, lag_order.hqic"
   ]
  },
  {
   "cell_type": "markdown",
   "id": "388864a9-f9e1-4bd6-81ae-4a693aab11f7",
   "metadata": {},
   "source": [
    "## Cointegration Rank"
   ]
  },
  {
   "cell_type": "code",
   "execution_count": 16,
   "id": "9e73897b-a61a-4a89-bf1a-34cfb6f2344e",
   "metadata": {},
   "outputs": [
    {
     "data": {
      "text/plain": [
       "1"
      ]
     },
     "execution_count": 16,
     "metadata": {},
     "output_type": "execute_result"
    }
   ],
   "source": [
    "# `det_order=-1`: no deterministic terms\n",
    "rank_test = select_coint_rank(train_df_, det_order=-1, k_ar_diff=lag_order.aic, signif=0.05)\n",
    "rank_test.rank"
   ]
  },
  {
   "cell_type": "code",
   "execution_count": 17,
   "id": "df6eca1e-c8ee-43bb-ab35-88352877d689",
   "metadata": {},
   "outputs": [
    {
     "data": {
      "text/html": [
       "<table class=\"simpletable\">\n",
       "<caption>Johansen cointegration test using trace test statistic with 5% significance level</caption>\n",
       "<tr>\n",
       "  <th>r_0</th> <th>r_1</th> <th>test statistic</th> <th>critical value</th>\n",
       "</tr>\n",
       "<tr>\n",
       "    <td>0</td>   <td>2</td>          <td>17.87</td>          <td>12.32</td>\n",
       "</tr>\n",
       "<tr>\n",
       "    <td>1</td>   <td>2</td>          <td>3.588</td>          <td>4.130</td>\n",
       "</tr>\n",
       "</table>"
      ],
      "text/plain": [
       "<class 'statsmodels.iolib.table.SimpleTable'>"
      ]
     },
     "execution_count": 17,
     "metadata": {},
     "output_type": "execute_result"
    }
   ],
   "source": [
    "rank_test.summary()"
   ]
  },
  {
   "cell_type": "markdown",
   "id": "e65620d3-b99f-40e7-87ed-d89e96d4c742",
   "metadata": {},
   "source": [
    "## Model"
   ]
  },
  {
   "cell_type": "code",
   "execution_count": 18,
   "id": "191d766d-000f-4e5a-a8ff-8c703683af3b",
   "metadata": {},
   "outputs": [],
   "source": [
    "vecm = VECM(train_df_, \n",
    "            k_ar_diff=lag_order.aic, \n",
    "            coint_rank=rank_test.rank,\n",
    "            deterministic=deterministic)"
   ]
  },
  {
   "cell_type": "code",
   "execution_count": 19,
   "id": "e2110d2c-ebc6-4824-bb24-a0963ffa122e",
   "metadata": {},
   "outputs": [
    {
     "data": {
      "text/html": [
       "<table class=\"simpletable\">\n",
       "<caption>Det. terms outside the coint. relation & lagged endog. parameters for equation sp500</caption>\n",
       "<tr>\n",
       "         <td></td>           <th>coef</th>     <th>std err</th>      <th>z</th>      <th>P>|z|</th>  <th>[0.025</th>    <th>0.975]</th>  \n",
       "</tr>\n",
       "<tr>\n",
       "  <th>L1.sp500</th>       <td>   -0.0739</td> <td>    0.033</td> <td>   -2.216</td> <td> 0.027</td> <td>   -0.139</td> <td>   -0.009</td>\n",
       "</tr>\n",
       "<tr>\n",
       "  <th>L1.russell2000</th> <td>    0.0314</td> <td>    0.045</td> <td>    0.699</td> <td> 0.484</td> <td>   -0.057</td> <td>    0.119</td>\n",
       "</tr>\n",
       "<tr>\n",
       "  <th>L2.sp500</th>       <td>   -0.1137</td> <td>    0.033</td> <td>   -3.408</td> <td> 0.001</td> <td>   -0.179</td> <td>   -0.048</td>\n",
       "</tr>\n",
       "<tr>\n",
       "  <th>L2.russell2000</th> <td>    0.0937</td> <td>    0.045</td> <td>    2.091</td> <td> 0.037</td> <td>    0.006</td> <td>    0.182</td>\n",
       "</tr>\n",
       "<tr>\n",
       "  <th>L3.sp500</th>       <td>   -0.0107</td> <td>    0.033</td> <td>   -0.319</td> <td> 0.750</td> <td>   -0.076</td> <td>    0.055</td>\n",
       "</tr>\n",
       "<tr>\n",
       "  <th>L3.russell2000</th> <td>   -0.0007</td> <td>    0.045</td> <td>   -0.016</td> <td> 0.987</td> <td>   -0.089</td> <td>    0.087</td>\n",
       "</tr>\n",
       "<tr>\n",
       "  <th>L4.sp500</th>       <td>   -0.0465</td> <td>    0.033</td> <td>   -1.397</td> <td> 0.162</td> <td>   -0.112</td> <td>    0.019</td>\n",
       "</tr>\n",
       "<tr>\n",
       "  <th>L4.russell2000</th> <td>    0.0332</td> <td>    0.045</td> <td>    0.742</td> <td> 0.458</td> <td>   -0.054</td> <td>    0.121</td>\n",
       "</tr>\n",
       "<tr>\n",
       "  <th>L5.sp500</th>       <td>   -0.0007</td> <td>    0.033</td> <td>   -0.020</td> <td> 0.984</td> <td>   -0.066</td> <td>    0.065</td>\n",
       "</tr>\n",
       "<tr>\n",
       "  <th>L5.russell2000</th> <td>   -0.0604</td> <td>    0.045</td> <td>   -1.351</td> <td> 0.177</td> <td>   -0.148</td> <td>    0.027</td>\n",
       "</tr>\n",
       "</table>\n",
       "<table class=\"simpletable\">\n",
       "<caption>Det. terms outside the coint. relation & lagged endog. parameters for equation russell2000</caption>\n",
       "<tr>\n",
       "         <td></td>           <th>coef</th>     <th>std err</th>      <th>z</th>      <th>P>|z|</th>  <th>[0.025</th>    <th>0.975]</th>  \n",
       "</tr>\n",
       "<tr>\n",
       "  <th>L1.sp500</th>       <td>   -0.0354</td> <td>    0.025</td> <td>   -1.427</td> <td> 0.154</td> <td>   -0.084</td> <td>    0.013</td>\n",
       "</tr>\n",
       "<tr>\n",
       "  <th>L1.russell2000</th> <td>   -0.0008</td> <td>    0.033</td> <td>   -0.025</td> <td> 0.980</td> <td>   -0.066</td> <td>    0.065</td>\n",
       "</tr>\n",
       "<tr>\n",
       "  <th>L2.sp500</th>       <td>   -0.0329</td> <td>    0.025</td> <td>   -1.323</td> <td> 0.186</td> <td>   -0.082</td> <td>    0.016</td>\n",
       "</tr>\n",
       "<tr>\n",
       "  <th>L2.russell2000</th> <td>    0.0340</td> <td>    0.033</td> <td>    1.019</td> <td> 0.308</td> <td>   -0.031</td> <td>    0.099</td>\n",
       "</tr>\n",
       "<tr>\n",
       "  <th>L3.sp500</th>       <td>    0.0258</td> <td>    0.025</td> <td>    1.037</td> <td> 0.300</td> <td>   -0.023</td> <td>    0.075</td>\n",
       "</tr>\n",
       "<tr>\n",
       "  <th>L3.russell2000</th> <td>   -0.0329</td> <td>    0.033</td> <td>   -0.986</td> <td> 0.324</td> <td>   -0.098</td> <td>    0.032</td>\n",
       "</tr>\n",
       "<tr>\n",
       "  <th>L4.sp500</th>       <td>   -0.0167</td> <td>    0.025</td> <td>   -0.675</td> <td> 0.500</td> <td>   -0.065</td> <td>    0.032</td>\n",
       "</tr>\n",
       "<tr>\n",
       "  <th>L4.russell2000</th> <td>   -0.0081</td> <td>    0.033</td> <td>   -0.243</td> <td> 0.808</td> <td>   -0.073</td> <td>    0.057</td>\n",
       "</tr>\n",
       "<tr>\n",
       "  <th>L5.sp500</th>       <td>    0.0043</td> <td>    0.025</td> <td>    0.175</td> <td> 0.861</td> <td>   -0.044</td> <td>    0.053</td>\n",
       "</tr>\n",
       "<tr>\n",
       "  <th>L5.russell2000</th> <td>   -0.0445</td> <td>    0.033</td> <td>   -1.336</td> <td> 0.181</td> <td>   -0.110</td> <td>    0.021</td>\n",
       "</tr>\n",
       "</table>\n",
       "<table class=\"simpletable\">\n",
       "<caption>Loading coefficients (alpha) for equation sp500</caption>\n",
       "<tr>\n",
       "   <td></td>      <th>coef</th>     <th>std err</th>      <th>z</th>      <th>P>|z|</th>  <th>[0.025</th>    <th>0.975]</th>  \n",
       "</tr>\n",
       "<tr>\n",
       "  <th>ec1</th> <td>   -0.0026</td> <td>    0.002</td> <td>   -1.506</td> <td> 0.132</td> <td>   -0.006</td> <td>    0.001</td>\n",
       "</tr>\n",
       "</table>\n",
       "<table class=\"simpletable\">\n",
       "<caption>Loading coefficients (alpha) for equation russell2000</caption>\n",
       "<tr>\n",
       "   <td></td>      <th>coef</th>     <th>std err</th>      <th>z</th>      <th>P>|z|</th>  <th>[0.025</th>    <th>0.975]</th>  \n",
       "</tr>\n",
       "<tr>\n",
       "  <th>ec1</th> <td>    0.0003</td> <td>    0.001</td> <td>    0.272</td> <td> 0.785</td> <td>   -0.002</td> <td>    0.003</td>\n",
       "</tr>\n",
       "</table>\n",
       "<table class=\"simpletable\">\n",
       "<caption>Cointegration relations for loading-coefficients-column 1</caption>\n",
       "<tr>\n",
       "     <td></td>       <th>coef</th>     <th>std err</th>      <th>z</th>      <th>P>|z|</th>  <th>[0.025</th>    <th>0.975]</th>  \n",
       "</tr>\n",
       "<tr>\n",
       "  <th>beta.1</th> <td>    1.0000</td> <td>        0</td> <td>        0</td> <td> 0.000</td> <td>    1.000</td> <td>    1.000</td>\n",
       "</tr>\n",
       "<tr>\n",
       "  <th>beta.2</th> <td>   -1.7116</td> <td>    0.041</td> <td>  -41.363</td> <td> 0.000</td> <td>   -1.793</td> <td>   -1.630</td>\n",
       "</tr>\n",
       "</table>"
      ],
      "text/plain": [
       "<class 'statsmodels.iolib.summary.Summary'>\n",
       "\"\"\"\n",
       "Det. terms outside the coint. relation & lagged endog. parameters for equation sp500\n",
       "==================================================================================\n",
       "                     coef    std err          z      P>|z|      [0.025      0.975]\n",
       "----------------------------------------------------------------------------------\n",
       "L1.sp500          -0.0739      0.033     -2.216      0.027      -0.139      -0.009\n",
       "L1.russell2000     0.0314      0.045      0.699      0.484      -0.057       0.119\n",
       "L2.sp500          -0.1137      0.033     -3.408      0.001      -0.179      -0.048\n",
       "L2.russell2000     0.0937      0.045      2.091      0.037       0.006       0.182\n",
       "L3.sp500          -0.0107      0.033     -0.319      0.750      -0.076       0.055\n",
       "L3.russell2000    -0.0007      0.045     -0.016      0.987      -0.089       0.087\n",
       "L4.sp500          -0.0465      0.033     -1.397      0.162      -0.112       0.019\n",
       "L4.russell2000     0.0332      0.045      0.742      0.458      -0.054       0.121\n",
       "L5.sp500          -0.0007      0.033     -0.020      0.984      -0.066       0.065\n",
       "L5.russell2000    -0.0604      0.045     -1.351      0.177      -0.148       0.027\n",
       "Det. terms outside the coint. relation & lagged endog. parameters for equation russell2000\n",
       "==================================================================================\n",
       "                     coef    std err          z      P>|z|      [0.025      0.975]\n",
       "----------------------------------------------------------------------------------\n",
       "L1.sp500          -0.0354      0.025     -1.427      0.154      -0.084       0.013\n",
       "L1.russell2000    -0.0008      0.033     -0.025      0.980      -0.066       0.065\n",
       "L2.sp500          -0.0329      0.025     -1.323      0.186      -0.082       0.016\n",
       "L2.russell2000     0.0340      0.033      1.019      0.308      -0.031       0.099\n",
       "L3.sp500           0.0258      0.025      1.037      0.300      -0.023       0.075\n",
       "L3.russell2000    -0.0329      0.033     -0.986      0.324      -0.098       0.032\n",
       "L4.sp500          -0.0167      0.025     -0.675      0.500      -0.065       0.032\n",
       "L4.russell2000    -0.0081      0.033     -0.243      0.808      -0.073       0.057\n",
       "L5.sp500           0.0043      0.025      0.175      0.861      -0.044       0.053\n",
       "L5.russell2000    -0.0445      0.033     -1.336      0.181      -0.110       0.021\n",
       "               Loading coefficients (alpha) for equation sp500                \n",
       "==============================================================================\n",
       "                 coef    std err          z      P>|z|      [0.025      0.975]\n",
       "------------------------------------------------------------------------------\n",
       "ec1           -0.0026      0.002     -1.506      0.132      -0.006       0.001\n",
       "            Loading coefficients (alpha) for equation russell2000             \n",
       "==============================================================================\n",
       "                 coef    std err          z      P>|z|      [0.025      0.975]\n",
       "------------------------------------------------------------------------------\n",
       "ec1            0.0003      0.001      0.272      0.785      -0.002       0.003\n",
       "          Cointegration relations for loading-coefficients-column 1           \n",
       "==============================================================================\n",
       "                 coef    std err          z      P>|z|      [0.025      0.975]\n",
       "------------------------------------------------------------------------------\n",
       "beta.1         1.0000          0          0      0.000       1.000       1.000\n",
       "beta.2        -1.7116      0.041    -41.363      0.000      -1.793      -1.630\n",
       "==============================================================================\n",
       "\"\"\""
      ]
     },
     "execution_count": 19,
     "metadata": {},
     "output_type": "execute_result"
    }
   ],
   "source": [
    "vecm_res = vecm.fit()\n",
    "vecm_res.summary()"
   ]
  },
  {
   "cell_type": "markdown",
   "id": "380bf343-1d10-4fcb-93c5-c7600e64e22c",
   "metadata": {},
   "source": [
    "## Forecast"
   ]
  },
  {
   "cell_type": "code",
   "execution_count": 20,
   "id": "f766d262-30b0-456c-a9ba-43d9b63da019",
   "metadata": {},
   "outputs": [
    {
     "data": {
      "text/plain": [
       "array([[201.3769892 , 124.89137856],\n",
       "       [201.44377724, 124.90376934],\n",
       "       [201.55594528, 124.94169181],\n",
       "       [201.58485911, 124.94483592],\n",
       "       [201.63051482, 124.95583711]])"
      ]
     },
     "execution_count": 20,
     "metadata": {},
     "output_type": "execute_result"
    }
   ],
   "source": [
    "vecm_res.predict(steps=5)"
   ]
  },
  {
   "cell_type": "code",
   "execution_count": 21,
   "id": "a77151d9-a102-4b91-84ee-ef185ad72b3a",
   "metadata": {},
   "outputs": [
    {
     "name": "stdout",
     "output_type": "stream",
     "text": [
      "forecast:\n",
      "[[201.3769892  124.89137856]\n",
      " [201.44377724 124.90376934]\n",
      " [201.55594528 124.94169181]\n",
      " [201.58485911 124.94483592]\n",
      " [201.63051482 124.95583711]]\n",
      "lower:\n",
      "[[199.12317948 123.21445385]\n",
      " [198.33946675 122.58259367]\n",
      " [197.84841587 122.12229291]\n",
      " [197.3646093  121.70397235]\n",
      " [196.97055175 121.36181156]]\n",
      "upper:\n",
      "[[203.63079892 126.56830327]\n",
      " [204.54808773 127.22494501]\n",
      " [205.2634747  127.76109071]\n",
      " [205.80510892 128.18569949]\n",
      " [206.29047789 128.54986266]]\n"
     ]
    }
   ],
   "source": [
    "for text, nd in zip(\n",
    "    [\"forecast\", \"lower\", \"upper\"], \n",
    "    vecm_res.predict(steps=5, alpha=0.05) # 95% confidence level\n",
    "):\n",
    "    print(f\"{text}:\\n{nd}\")"
   ]
  },
  {
   "cell_type": "code",
   "execution_count": null,
   "id": "77b42669-9b4d-43e2-9103-d0f6831b9131",
   "metadata": {},
   "outputs": [],
   "source": []
  },
  {
   "cell_type": "code",
   "execution_count": null,
   "id": "fc76bbb7-b816-4531-a1b1-99912188243f",
   "metadata": {},
   "outputs": [],
   "source": []
  }
 ],
 "metadata": {
  "kernelspec": {
   "display_name": "Python 3 (ipykernel)",
   "language": "python",
   "name": "python3"
  },
  "language_info": {
   "codemirror_mode": {
    "name": "ipython",
    "version": 3
   },
   "file_extension": ".py",
   "mimetype": "text/x-python",
   "name": "python",
   "nbconvert_exporter": "python",
   "pygments_lexer": "ipython3",
   "version": "3.9.13"
  },
  "toc-autonumbering": true
 },
 "nbformat": 4,
 "nbformat_minor": 5
}
